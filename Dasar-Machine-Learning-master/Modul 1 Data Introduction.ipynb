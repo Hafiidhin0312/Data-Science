{
  "nbformat": 4,
  "nbformat_minor": 0,
  "metadata": {
    "colab": {
      "name": "Dasar Machine Learning.ipynb",
      "provenance": [],
      "toc_visible": true,
      "authorship_tag": "ABX9TyONRZ08kSfW5+e0Fx7+fTrX",
      "include_colab_link": true
    },
    "kernelspec": {
      "name": "python3",
      "display_name": "Python 3"
    }
  },
  "cells": [
    {
      "cell_type": "markdown",
      "metadata": {
        "id": "view-in-github",
        "colab_type": "text"
      },
      "source": [
        "<a href=\"https://colab.research.google.com/github/Abdurrasyiid/Dasar-Machine-Learning/blob/master/Modul%201%20Data%20Introduction.ipynb\" target=\"_parent\"><img src=\"https://colab.research.google.com/assets/colab-badge.svg\" alt=\"Open In Colab\"/></a>"
      ]
    },
    {
      "cell_type": "markdown",
      "metadata": {
        "id": "i6zGgxImdPvi",
        "colab_type": "text"
      },
      "source": [
        "# 1. Data Processing\n",
        "\n",
        "Data processing adalah tahap paling awal dalam setiap proyek ML. Pada tahap ini data akan diambil dari sumber tertentu, dimasukkan pada suatu environment, dan diproses agar bisa diolah oleh model machine learning."
      ]
    },
    {
      "cell_type": "markdown",
      "metadata": {
        "id": "Fwo85yxmd30C",
        "colab_type": "text"
      },
      "source": [
        "\n",
        "\n",
        "> Pandas adalah sebuah library open source yang dipakai untuk menganalisis dan memanipulasi data. Pandas dibangun menggunakan bahasa pemrograman Python yang menawarkan struktur data dan operasi untuk manipulasi tabel numerik dan time series. Tabel numerik adalah tabel yang berisi bilangan numerik, dan Tabel time series adalah tabel yang berubah seiring waktu, misalnya tabel yang memuat perubahan nilai pasar saham untuk setiap menitnya.\n",
        "\n"
      ]
    },
    {
      "cell_type": "markdown",
      "metadata": {
        "id": "hOLvIDvycqPm",
        "colab_type": "text"
      },
      "source": [
        "\n",
        "\n",
        "> Pandas merupakan salah satu alternatif library yang sering digunakan untuk proses data wrangling. Pandas merupakan toolkit yang powerfull sebagai analisis data diawal dan pengenalan struktur dataset dalam Python. Mengaktifkan Pandas sangat mudah didalam python. Cukup dengan melakukan import seperti dibawah ini\n",
        "```\n",
        "import pandas \n",
        "```\n",
        ">Untuk mempermudah akses dan mempersingkat penamaan biasanya import pandas menggunakan inisial seperti dibawah ini:\n",
        "```\n",
        "Import pandas as pd\n",
        "```\n",
        "Setelah melakukan import Anda sudah bisa menggunakan pandas. Untuk lebih memahami lagi apa itu pandas silahkan membaca dokumentasi dari pandas agar mudah untuk melakukan eksplorasi dengan menggunakan pandas.\n",
        "\n",
        "\n",
        "\n"
      ]
    },
    {
      "cell_type": "markdown",
      "metadata": {
        "id": "lTN1GQeteaO8",
        "colab_type": "text"
      },
      "source": [
        "##1.1 Membaca file dengan menggunakan Pandas\n",
        "\n",
        "Sebagai salah satu library untuk melakukan proses awal dari analisis data, pandas juga memiliki kemampuan untuk membaca berbagai macam jenis file. Format yang bisa dibaca oleh pandas ada berbagai macam, antara lain .txt, .csv, .tsv, dan lainnya. Pandas tidak hanya bisa membaca file saja, namun juga bisa merubah data dari file menjadi bentuk dataframe yang akhirnya nanti bisa diakses, diagregasi dan diolah. \n",
        ">Dataframe adalah sebuah tabel yang terdiri dari kolom dan baris dengan banyak tipe data di dalamnya \n"
      ]
    },
    {
      "cell_type": "code",
      "metadata": {
        "id": "LLFBy2_3fNil",
        "colab_type": "code",
        "colab": {}
      },
      "source": [
        "import pandas as pd"
      ],
      "execution_count": 0,
      "outputs": []
    },
    {
      "cell_type": "markdown",
      "metadata": {
        "id": "3gEYyi6hfJWh",
        "colab_type": "text"
      },
      "source": [
        "Setelah sebelumnya kita mengenal library Pandas, sekarang kita akan belajar menggunakan library tersebut. Pandas memiliki fungsi untuk mengubah data dari berbagai jenis menjadi dataframe seperti yang telah dibahas di submodul sebelumnya. Contohnya, untuk mengubah data CSV menjadi dataframe, kita hanya cukup memanggil fungsi pandas.read_csv() dan memasukkan nama berkas pada parameternya. "
      ]
    },
    {
      "cell_type": "code",
      "metadata": {
        "id": "xeprUPnucwP6",
        "colab_type": "code",
        "outputId": "8411e1c7-8a10-4405-ab25-d7689e534a23",
        "colab": {
          "base_uri": "https://localhost:8080/",
          "height": 272
        }
      },
      "source": [
        "dataset1 = pd.read_csv('iris_train.csv') #mengubah data CSV menjadi dataframe\n",
        "\n",
        "print(dataset1) #Mencetak Data\n"
      ],
      "execution_count": 0,
      "outputs": [
        {
          "output_type": "stream",
          "text": [
            "     sepal_length  sepal_width  petal_length  petal_width          species\n",
            "0             5.1          3.4           1.5          0.2      Iris-setosa\n",
            "1             6.3          2.5           5.0          1.9   Iris-virginica\n",
            "2             5.9          3.0           4.2          1.5  Iris-versicolor\n",
            "3             5.7          2.6           3.5          1.0  Iris-versicolor\n",
            "4             7.7          2.8           6.7          2.0   Iris-virginica\n",
            "..            ...          ...           ...          ...              ...\n",
            "100           5.4          3.4           1.7          0.2      Iris-setosa\n",
            "101           5.6          2.5           3.9          1.1  Iris-versicolor\n",
            "102           6.4          2.9           4.3          1.3  Iris-versicolor\n",
            "103           7.9          3.8           6.4          2.0   Iris-virginica\n",
            "104           5.4          3.0           4.5          1.5  Iris-versicolor\n",
            "\n",
            "[105 rows x 5 columns]\n"
          ],
          "name": "stdout"
        }
      ]
    },
    {
      "cell_type": "markdown",
      "metadata": {
        "id": "0VZrs2Awf0Rr",
        "colab_type": "text"
      },
      "source": [
        "###Deskripsi Tabel Hasil Iris\n",
        "\n",
        "![alt text](https://drive.google.com/uc?id=1AmdiDaujWpMDiZeFBLx5v6Hvk3uLWgQg)"
      ]
    },
    {
      "cell_type": "markdown",
      "metadata": {
        "id": "H8mrlL2Hg-j4",
        "colab_type": "text"
      },
      "source": [
        "## 1.2 Membaca file dengan menggunakan head()\n",
        "\n",
        "Pada suatu kasus, data yang kita baca cukup banyak atau loading yang lama. Untuk memastikan data kita terbaca dengan baik dan bisa menampilkan data sebagian untuk ditampilkan secara benar, kita bisa memakai fungsi head().\n",
        "fungsi head() tanpa parameter akan menghasilkan 5 baris data teratas yaitu data ke 0 - 4. Kita bisa gunakan parameter untuk menampilkan data teratas lebih dari 5 baris misal head(10) atau head(20) dan seterusnya"
      ]
    },
    {
      "cell_type": "code",
      "metadata": {
        "id": "XyuURigXhNSO",
        "colab_type": "code",
        "outputId": "6ebc27ed-a4eb-48ee-e02c-4481da33aa04",
        "colab": {
          "base_uri": "https://localhost:8080/"
        }
      },
      "source": [
        "dataset1.head()"
      ],
      "execution_count": 0,
      "outputs": [
        {
          "output_type": "execute_result",
          "data": {
            "text/html": [
              "<div>\n",
              "<style scoped>\n",
              "    .dataframe tbody tr th:only-of-type {\n",
              "        vertical-align: middle;\n",
              "    }\n",
              "\n",
              "    .dataframe tbody tr th {\n",
              "        vertical-align: top;\n",
              "    }\n",
              "\n",
              "    .dataframe thead th {\n",
              "        text-align: right;\n",
              "    }\n",
              "</style>\n",
              "<table border=\"1\" class=\"dataframe\">\n",
              "  <thead>\n",
              "    <tr style=\"text-align: right;\">\n",
              "      <th></th>\n",
              "      <th>sepal_length</th>\n",
              "      <th>sepal_width</th>\n",
              "      <th>petal_length</th>\n",
              "      <th>petal_width</th>\n",
              "      <th>species</th>\n",
              "    </tr>\n",
              "  </thead>\n",
              "  <tbody>\n",
              "    <tr>\n",
              "      <th>0</th>\n",
              "      <td>5.1</td>\n",
              "      <td>3.4</td>\n",
              "      <td>1.5</td>\n",
              "      <td>0.2</td>\n",
              "      <td>Iris-setosa</td>\n",
              "    </tr>\n",
              "    <tr>\n",
              "      <th>1</th>\n",
              "      <td>6.3</td>\n",
              "      <td>2.5</td>\n",
              "      <td>5.0</td>\n",
              "      <td>1.9</td>\n",
              "      <td>Iris-virginica</td>\n",
              "    </tr>\n",
              "    <tr>\n",
              "      <th>2</th>\n",
              "      <td>5.9</td>\n",
              "      <td>3.0</td>\n",
              "      <td>4.2</td>\n",
              "      <td>1.5</td>\n",
              "      <td>Iris-versicolor</td>\n",
              "    </tr>\n",
              "    <tr>\n",
              "      <th>3</th>\n",
              "      <td>5.7</td>\n",
              "      <td>2.6</td>\n",
              "      <td>3.5</td>\n",
              "      <td>1.0</td>\n",
              "      <td>Iris-versicolor</td>\n",
              "    </tr>\n",
              "    <tr>\n",
              "      <th>4</th>\n",
              "      <td>7.7</td>\n",
              "      <td>2.8</td>\n",
              "      <td>6.7</td>\n",
              "      <td>2.0</td>\n",
              "      <td>Iris-virginica</td>\n",
              "    </tr>\n",
              "  </tbody>\n",
              "</table>\n",
              "</div>"
            ],
            "text/plain": [
              "   sepal_length  sepal_width  petal_length  petal_width          species\n",
              "0           5.1          3.4           1.5          0.2      Iris-setosa\n",
              "1           6.3          2.5           5.0          1.9   Iris-virginica\n",
              "2           5.9          3.0           4.2          1.5  Iris-versicolor\n",
              "3           5.7          2.6           3.5          1.0  Iris-versicolor\n",
              "4           7.7          2.8           6.7          2.0   Iris-virginica"
            ]
          },
          "metadata": {
            "tags": []
          },
          "execution_count": 5
        }
      ]
    },
    {
      "cell_type": "markdown",
      "metadata": {
        "id": "1qye1dLtnuhg",
        "colab_type": "text"
      },
      "source": [
        "## 1.3 Melakukan akses data kolom\n",
        "\n",
        "Dalam suatu analisis data ada kalanya kita hanya butuh melakukan akses beberapa data saja dan tidak perlu harus menampilkan semua data. Pada pandas kita bisa melakukan akses dalam berbagai kebutuhan. Mulai dari hanya akses kolom tertentu ataupun baris tertentu. Pada sesi kali ini kita akan mencoba untuk melakukan akses beberapa kolom tertentu pada suatu dataset."
      ]
    },
    {
      "cell_type": "code",
      "metadata": {
        "id": "YIIeTtc_oCgW",
        "colab_type": "code",
        "outputId": "02fb093c-9e8b-4a5a-ae10-9e4e11dd83ed",
        "colab": {
          "base_uri": "https://localhost:8080/"
        }
      },
      "source": [
        "dataset1.columns"
      ],
      "execution_count": 0,
      "outputs": [
        {
          "output_type": "execute_result",
          "data": {
            "text/plain": [
              "Index(['sepal_length', 'sepal_width', 'petal_length', 'petal_width',\n",
              "       'species'],\n",
              "      dtype='object')"
            ]
          },
          "metadata": {
            "tags": []
          },
          "execution_count": 7
        }
      ]
    },
    {
      "cell_type": "markdown",
      "metadata": {
        "id": "DqVRBYcMoSmb",
        "colab_type": "text"
      },
      "source": [
        ">*Note* :  Pada dataset ini ada 5 kolom termasuk class, dimana 4 kolom  merupakan data numerik dan 1 kolom merupakan data string"
      ]
    },
    {
      "cell_type": "code",
      "metadata": {
        "id": "gOB6YcwNogAZ",
        "colab_type": "code",
        "outputId": "1e51cc22-7185-45c0-ee0f-2de1b55c8392",
        "colab": {
          "base_uri": "https://localhost:8080/"
        }
      },
      "source": [
        "print(dataset1['species']) #data Label/Target species\n",
        "print(dataset1['sepal_length']) #data attribut sepal_length"
      ],
      "execution_count": 0,
      "outputs": [
        {
          "output_type": "stream",
          "text": [
            "0          Iris-setosa\n",
            "1       Iris-virginica\n",
            "2      Iris-versicolor\n",
            "3      Iris-versicolor\n",
            "4       Iris-virginica\n",
            "            ...       \n",
            "100        Iris-setosa\n",
            "101    Iris-versicolor\n",
            "102    Iris-versicolor\n",
            "103     Iris-virginica\n",
            "104    Iris-versicolor\n",
            "Name: species, Length: 105, dtype: object\n",
            "0      5.1\n",
            "1      6.3\n",
            "2      5.9\n",
            "3      5.7\n",
            "4      7.7\n",
            "      ... \n",
            "100    5.4\n",
            "101    5.6\n",
            "102    6.4\n",
            "103    7.9\n",
            "104    5.4\n",
            "Name: sepal_length, Length: 105, dtype: float64\n"
          ],
          "name": "stdout"
        }
      ]
    },
    {
      "cell_type": "markdown",
      "metadata": {
        "id": "JNc9O8SepqrJ",
        "colab_type": "text"
      },
      "source": [
        "## 1.4 Melakukan akses data melalui baris\n",
        "\n",
        "Selain melakukan akses data melalui kolom, dengan menggunakan pandas juga bisa melakukan akses dengan menggunakan baris. Berbeda dengan akses melalui kolom, fungsi untuk menampilkan data dari suatu baris adalah fungsi .iloc[i] dimana [i] menunjukan urutan baris yang akan ditampilkan yang dimana indexnya diawali dari 0. \n",
        "\n"
      ]
    },
    {
      "cell_type": "code",
      "metadata": {
        "id": "CU_ld3Gmp3GV",
        "colab_type": "code",
        "outputId": "fa97fe03-bdb6-4275-ed25-2a9847b59b76",
        "colab": {
          "base_uri": "https://localhost:8080/"
        }
      },
      "source": [
        "dataset1.iloc[7]"
      ],
      "execution_count": 0,
      "outputs": [
        {
          "output_type": "execute_result",
          "data": {
            "text/plain": [
              "sepal_length                5.8\n",
              "sepal_width                 2.7\n",
              "petal_length                4.1\n",
              "petal_width                   1\n",
              "species         Iris-versicolor\n",
              "Name: 7, dtype: object"
            ]
          },
          "metadata": {
            "tags": []
          },
          "execution_count": 12
        }
      ]
    },
    {
      "cell_type": "markdown",
      "metadata": {
        "id": "H53ET0QDqNmz",
        "colab_type": "text"
      },
      "source": [
        "## 1.5 Menampilkan suatu data dari baris dan kolom tertentu\n",
        "Tidak hanya dengan menentukan dari kolom dan baris, dengan menggunakan pandas kita juga bisa memanggil suatu data dari suatu baris dan kolom tertentu dalam satu waktu. Perhatikan dan coba kode di bawah ini:"
      ]
    },
    {
      "cell_type": "code",
      "metadata": {
        "id": "fD1-bF7XqQEG",
        "colab_type": "code",
        "outputId": "6b758f55-d667-4d62-a2db-21a20867b006",
        "colab": {
          "base_uri": "https://localhost:8080/"
        }
      },
      "source": [
        "dataset1['sepal_length'].iloc[7] #kolom sepal_length baris ke 7"
      ],
      "execution_count": 0,
      "outputs": [
        {
          "output_type": "execute_result",
          "data": {
            "text/plain": [
              "5.8"
            ]
          },
          "metadata": {
            "tags": []
          },
          "execution_count": 13
        }
      ]
    },
    {
      "cell_type": "markdown",
      "metadata": {
        "id": "IS1xndE3rXLc",
        "colab_type": "text"
      },
      "source": [
        "![alt text](https://drive.google.com/uc?id=1IIuq3aE9hdQa394sg0ap3opg7TV-EiZP)"
      ]
    },
    {
      "cell_type": "markdown",
      "metadata": {
        "id": "ZVFHuHlUrugJ",
        "colab_type": "text"
      },
      "source": [
        "## 1.6 Menampilkan data dalam range tertentu\n",
        "Setelah menampilkan suatu kelompok data, bagaimana jika ingin menampilkan data dari baris ke 5 sampai ke 20 dari suatu dataset? Untuk mengantisipasi hal tersebut, pandas juga bisa menampilkan data dalam range tertentu, baik range untuk baris saja, kolom saja, dan range untuk baris dan kolom."
      ]
    },
    {
      "cell_type": "markdown",
      "metadata": {
        "id": "KF4buWGOsMHN",
        "colab_type": "text"
      },
      "source": [
        "### Menampilkan range tertentu, kolom dan baris"
      ]
    },
    {
      "cell_type": "code",
      "metadata": {
        "id": "Quk_zk8mr2tk",
        "colab_type": "code",
        "outputId": "981d4ced-635a-4c48-e0b6-814c75fde77f",
        "colab": {
          "base_uri": "https://localhost:8080/"
        }
      },
      "source": [
        "dataset1['sepal_length'].iloc[5:21]"
      ],
      "execution_count": 0,
      "outputs": [
        {
          "output_type": "execute_result",
          "data": {
            "text/plain": [
              "5     6.0\n",
              "6     6.7\n",
              "7     5.8\n",
              "8     5.5\n",
              "9     6.6\n",
              "10    5.1\n",
              "11    4.6\n",
              "12    7.7\n",
              "13    6.1\n",
              "14    4.9\n",
              "15    6.8\n",
              "16    4.9\n",
              "17    6.4\n",
              "18    5.5\n",
              "19    5.6\n",
              "20    5.8\n",
              "Name: sepal_length, dtype: float64"
            ]
          },
          "metadata": {
            "tags": []
          },
          "execution_count": 17
        }
      ]
    },
    {
      "cell_type": "markdown",
      "metadata": {
        "id": "iO9q1R0nsQA_",
        "colab_type": "text"
      },
      "source": [
        "### Menampilkan range tertentu, baris saja"
      ]
    },
    {
      "cell_type": "code",
      "metadata": {
        "id": "0VJnTQgrsaf4",
        "colab_type": "code",
        "outputId": "d3b34f5d-bd31-4740-c08f-a747896d39aa",
        "colab": {
          "base_uri": "https://localhost:8080/",
          "height": 528
        }
      },
      "source": [
        "dataset1.iloc[5:21]"
      ],
      "execution_count": 0,
      "outputs": [
        {
          "output_type": "execute_result",
          "data": {
            "text/html": [
              "<div>\n",
              "<style scoped>\n",
              "    .dataframe tbody tr th:only-of-type {\n",
              "        vertical-align: middle;\n",
              "    }\n",
              "\n",
              "    .dataframe tbody tr th {\n",
              "        vertical-align: top;\n",
              "    }\n",
              "\n",
              "    .dataframe thead th {\n",
              "        text-align: right;\n",
              "    }\n",
              "</style>\n",
              "<table border=\"1\" class=\"dataframe\">\n",
              "  <thead>\n",
              "    <tr style=\"text-align: right;\">\n",
              "      <th></th>\n",
              "      <th>sepal_length</th>\n",
              "      <th>sepal_width</th>\n",
              "      <th>petal_length</th>\n",
              "      <th>petal_width</th>\n",
              "      <th>species</th>\n",
              "    </tr>\n",
              "  </thead>\n",
              "  <tbody>\n",
              "    <tr>\n",
              "      <th>5</th>\n",
              "      <td>6.0</td>\n",
              "      <td>3.0</td>\n",
              "      <td>4.8</td>\n",
              "      <td>1.8</td>\n",
              "      <td>Iris-virginica</td>\n",
              "    </tr>\n",
              "    <tr>\n",
              "      <th>6</th>\n",
              "      <td>6.7</td>\n",
              "      <td>3.3</td>\n",
              "      <td>5.7</td>\n",
              "      <td>2.5</td>\n",
              "      <td>Iris-virginica</td>\n",
              "    </tr>\n",
              "    <tr>\n",
              "      <th>7</th>\n",
              "      <td>5.8</td>\n",
              "      <td>2.7</td>\n",
              "      <td>4.1</td>\n",
              "      <td>1.0</td>\n",
              "      <td>Iris-versicolor</td>\n",
              "    </tr>\n",
              "    <tr>\n",
              "      <th>8</th>\n",
              "      <td>5.5</td>\n",
              "      <td>2.3</td>\n",
              "      <td>4.0</td>\n",
              "      <td>1.3</td>\n",
              "      <td>Iris-versicolor</td>\n",
              "    </tr>\n",
              "    <tr>\n",
              "      <th>9</th>\n",
              "      <td>6.6</td>\n",
              "      <td>3.0</td>\n",
              "      <td>4.4</td>\n",
              "      <td>1.4</td>\n",
              "      <td>Iris-versicolor</td>\n",
              "    </tr>\n",
              "    <tr>\n",
              "      <th>10</th>\n",
              "      <td>5.1</td>\n",
              "      <td>3.7</td>\n",
              "      <td>1.5</td>\n",
              "      <td>0.4</td>\n",
              "      <td>Iris-setosa</td>\n",
              "    </tr>\n",
              "    <tr>\n",
              "      <th>11</th>\n",
              "      <td>4.6</td>\n",
              "      <td>3.6</td>\n",
              "      <td>1.0</td>\n",
              "      <td>0.2</td>\n",
              "      <td>Iris-setosa</td>\n",
              "    </tr>\n",
              "    <tr>\n",
              "      <th>12</th>\n",
              "      <td>7.7</td>\n",
              "      <td>2.6</td>\n",
              "      <td>6.9</td>\n",
              "      <td>2.3</td>\n",
              "      <td>Iris-virginica</td>\n",
              "    </tr>\n",
              "    <tr>\n",
              "      <th>13</th>\n",
              "      <td>6.1</td>\n",
              "      <td>2.8</td>\n",
              "      <td>4.0</td>\n",
              "      <td>1.3</td>\n",
              "      <td>Iris-versicolor</td>\n",
              "    </tr>\n",
              "    <tr>\n",
              "      <th>14</th>\n",
              "      <td>4.9</td>\n",
              "      <td>2.4</td>\n",
              "      <td>3.3</td>\n",
              "      <td>1.0</td>\n",
              "      <td>Iris-versicolor</td>\n",
              "    </tr>\n",
              "    <tr>\n",
              "      <th>15</th>\n",
              "      <td>6.8</td>\n",
              "      <td>3.0</td>\n",
              "      <td>5.5</td>\n",
              "      <td>2.1</td>\n",
              "      <td>Iris-virginica</td>\n",
              "    </tr>\n",
              "    <tr>\n",
              "      <th>16</th>\n",
              "      <td>4.9</td>\n",
              "      <td>3.1</td>\n",
              "      <td>1.5</td>\n",
              "      <td>0.1</td>\n",
              "      <td>Iris-setosa</td>\n",
              "    </tr>\n",
              "    <tr>\n",
              "      <th>17</th>\n",
              "      <td>6.4</td>\n",
              "      <td>2.7</td>\n",
              "      <td>5.3</td>\n",
              "      <td>1.9</td>\n",
              "      <td>Iris-virginica</td>\n",
              "    </tr>\n",
              "    <tr>\n",
              "      <th>18</th>\n",
              "      <td>5.5</td>\n",
              "      <td>2.4</td>\n",
              "      <td>3.8</td>\n",
              "      <td>1.1</td>\n",
              "      <td>Iris-versicolor</td>\n",
              "    </tr>\n",
              "    <tr>\n",
              "      <th>19</th>\n",
              "      <td>5.6</td>\n",
              "      <td>3.0</td>\n",
              "      <td>4.5</td>\n",
              "      <td>1.5</td>\n",
              "      <td>Iris-versicolor</td>\n",
              "    </tr>\n",
              "    <tr>\n",
              "      <th>20</th>\n",
              "      <td>5.8</td>\n",
              "      <td>2.8</td>\n",
              "      <td>5.1</td>\n",
              "      <td>2.4</td>\n",
              "      <td>Iris-virginica</td>\n",
              "    </tr>\n",
              "  </tbody>\n",
              "</table>\n",
              "</div>"
            ],
            "text/plain": [
              "    sepal_length  sepal_width  petal_length  petal_width          species\n",
              "5            6.0          3.0           4.8          1.8   Iris-virginica\n",
              "6            6.7          3.3           5.7          2.5   Iris-virginica\n",
              "7            5.8          2.7           4.1          1.0  Iris-versicolor\n",
              "8            5.5          2.3           4.0          1.3  Iris-versicolor\n",
              "9            6.6          3.0           4.4          1.4  Iris-versicolor\n",
              "10           5.1          3.7           1.5          0.4      Iris-setosa\n",
              "11           4.6          3.6           1.0          0.2      Iris-setosa\n",
              "12           7.7          2.6           6.9          2.3   Iris-virginica\n",
              "13           6.1          2.8           4.0          1.3  Iris-versicolor\n",
              "14           4.9          2.4           3.3          1.0  Iris-versicolor\n",
              "15           6.8          3.0           5.5          2.1   Iris-virginica\n",
              "16           4.9          3.1           1.5          0.1      Iris-setosa\n",
              "17           6.4          2.7           5.3          1.9   Iris-virginica\n",
              "18           5.5          2.4           3.8          1.1  Iris-versicolor\n",
              "19           5.6          3.0           4.5          1.5  Iris-versicolor\n",
              "20           5.8          2.8           5.1          2.4   Iris-virginica"
            ]
          },
          "metadata": {
            "tags": []
          },
          "execution_count": 18
        }
      ]
    },
    {
      "cell_type": "markdown",
      "metadata": {
        "id": "ZREHRe8TtJhn",
        "colab_type": "text"
      },
      "source": [
        "## 1.7 Menampilkan informasi statistik dengan Numpy\n",
        "Mengetahui informasi statistik pada suatu data sangat penting. Mulai dari distribusi data, nilai max atau min, hingga standar deviasi dari suatu dataset. Jika datanya berjumlah dibawah 10 mungkin masih dikerjakan secara manual. Namun, bayangkan jika datanya sudah mencapai ratusan bahkan ribuan. Tidak mungkin pastinya untuk dilakukan secara manual. Maka dari itu pentingnya fungsi describe() pada pandas. Fungsi describe() ini memungkinkan untuk mengetahui informasi statistik dari suatu dataset secara cepat."
      ]
    },
    {
      "cell_type": "code",
      "metadata": {
        "id": "fJuOaE7xtWF4",
        "colab_type": "code",
        "outputId": "f5967520-e868-4717-f29d-fc62b3120e23",
        "colab": {
          "base_uri": "https://localhost:8080/",
          "height": 378
        }
      },
      "source": [
        "dataset1.describe(include='all')\n"
      ],
      "execution_count": 0,
      "outputs": [
        {
          "output_type": "execute_result",
          "data": {
            "text/html": [
              "<div>\n",
              "<style scoped>\n",
              "    .dataframe tbody tr th:only-of-type {\n",
              "        vertical-align: middle;\n",
              "    }\n",
              "\n",
              "    .dataframe tbody tr th {\n",
              "        vertical-align: top;\n",
              "    }\n",
              "\n",
              "    .dataframe thead th {\n",
              "        text-align: right;\n",
              "    }\n",
              "</style>\n",
              "<table border=\"1\" class=\"dataframe\">\n",
              "  <thead>\n",
              "    <tr style=\"text-align: right;\">\n",
              "      <th></th>\n",
              "      <th>sepal_length</th>\n",
              "      <th>sepal_width</th>\n",
              "      <th>petal_length</th>\n",
              "      <th>petal_width</th>\n",
              "      <th>species</th>\n",
              "    </tr>\n",
              "  </thead>\n",
              "  <tbody>\n",
              "    <tr>\n",
              "      <th>count</th>\n",
              "      <td>105.000000</td>\n",
              "      <td>105.000000</td>\n",
              "      <td>105.000000</td>\n",
              "      <td>105.000000</td>\n",
              "      <td>105</td>\n",
              "    </tr>\n",
              "    <tr>\n",
              "      <th>unique</th>\n",
              "      <td>NaN</td>\n",
              "      <td>NaN</td>\n",
              "      <td>NaN</td>\n",
              "      <td>NaN</td>\n",
              "      <td>3</td>\n",
              "    </tr>\n",
              "    <tr>\n",
              "      <th>top</th>\n",
              "      <td>NaN</td>\n",
              "      <td>NaN</td>\n",
              "      <td>NaN</td>\n",
              "      <td>NaN</td>\n",
              "      <td>Iris-versicolor</td>\n",
              "    </tr>\n",
              "    <tr>\n",
              "      <th>freq</th>\n",
              "      <td>NaN</td>\n",
              "      <td>NaN</td>\n",
              "      <td>NaN</td>\n",
              "      <td>NaN</td>\n",
              "      <td>41</td>\n",
              "    </tr>\n",
              "    <tr>\n",
              "      <th>mean</th>\n",
              "      <td>5.918095</td>\n",
              "      <td>3.042857</td>\n",
              "      <td>3.908571</td>\n",
              "      <td>1.249524</td>\n",
              "      <td>NaN</td>\n",
              "    </tr>\n",
              "    <tr>\n",
              "      <th>std</th>\n",
              "      <td>0.781613</td>\n",
              "      <td>0.437839</td>\n",
              "      <td>1.705935</td>\n",
              "      <td>0.736170</td>\n",
              "      <td>NaN</td>\n",
              "    </tr>\n",
              "    <tr>\n",
              "      <th>min</th>\n",
              "      <td>4.600000</td>\n",
              "      <td>2.000000</td>\n",
              "      <td>1.000000</td>\n",
              "      <td>0.100000</td>\n",
              "      <td>NaN</td>\n",
              "    </tr>\n",
              "    <tr>\n",
              "      <th>25%</th>\n",
              "      <td>5.200000</td>\n",
              "      <td>2.800000</td>\n",
              "      <td>1.700000</td>\n",
              "      <td>0.400000</td>\n",
              "      <td>NaN</td>\n",
              "    </tr>\n",
              "    <tr>\n",
              "      <th>50%</th>\n",
              "      <td>5.800000</td>\n",
              "      <td>3.000000</td>\n",
              "      <td>4.400000</td>\n",
              "      <td>1.400000</td>\n",
              "      <td>NaN</td>\n",
              "    </tr>\n",
              "    <tr>\n",
              "      <th>75%</th>\n",
              "      <td>6.400000</td>\n",
              "      <td>3.300000</td>\n",
              "      <td>5.100000</td>\n",
              "      <td>1.800000</td>\n",
              "      <td>NaN</td>\n",
              "    </tr>\n",
              "    <tr>\n",
              "      <th>max</th>\n",
              "      <td>7.900000</td>\n",
              "      <td>4.200000</td>\n",
              "      <td>6.900000</td>\n",
              "      <td>2.500000</td>\n",
              "      <td>NaN</td>\n",
              "    </tr>\n",
              "  </tbody>\n",
              "</table>\n",
              "</div>"
            ],
            "text/plain": [
              "        sepal_length  sepal_width  petal_length  petal_width          species\n",
              "count     105.000000   105.000000    105.000000   105.000000              105\n",
              "unique           NaN          NaN           NaN          NaN                3\n",
              "top              NaN          NaN           NaN          NaN  Iris-versicolor\n",
              "freq             NaN          NaN           NaN          NaN               41\n",
              "mean        5.918095     3.042857      3.908571     1.249524              NaN\n",
              "std         0.781613     0.437839      1.705935     0.736170              NaN\n",
              "min         4.600000     2.000000      1.000000     0.100000              NaN\n",
              "25%         5.200000     2.800000      1.700000     0.400000              NaN\n",
              "50%         5.800000     3.000000      4.400000     1.400000              NaN\n",
              "75%         6.400000     3.300000      5.100000     1.800000              NaN\n",
              "max         7.900000     4.200000      6.900000     2.500000              NaN"
            ]
          },
          "metadata": {
            "tags": []
          },
          "execution_count": 22
        }
      ]
    },
    {
      "cell_type": "markdown",
      "metadata": {
        "id": "uzqA4VokuUcV",
        "colab_type": "text"
      },
      "source": [
        ">Note : Banyak nilai NaN yang tampil. Hal itu karena pada dataset ada format data string yang akhirnya memunculkan format NaN.\n",
        "Untuk meminimalisir hal tersebut dan memfilter hanya data numerical saja, digunakan  \n",
        "exclude=[‘O’], dimana fungsi itu akan mengabaikan data yang non-numerical untuk diproses. "
      ]
    },
    {
      "cell_type": "code",
      "metadata": {
        "id": "lT9he3Ikuca2",
        "colab_type": "code",
        "outputId": "38a11ac8-7b0f-4306-8646-27e11cce56f7",
        "colab": {
          "base_uri": "https://localhost:8080/",
          "height": 288
        }
      },
      "source": [
        "dataset1.describe(exclude='O') \n",
        "#Atau\n",
        "dataset1.describe()"
      ],
      "execution_count": 0,
      "outputs": [
        {
          "output_type": "execute_result",
          "data": {
            "text/html": [
              "<div>\n",
              "<style scoped>\n",
              "    .dataframe tbody tr th:only-of-type {\n",
              "        vertical-align: middle;\n",
              "    }\n",
              "\n",
              "    .dataframe tbody tr th {\n",
              "        vertical-align: top;\n",
              "    }\n",
              "\n",
              "    .dataframe thead th {\n",
              "        text-align: right;\n",
              "    }\n",
              "</style>\n",
              "<table border=\"1\" class=\"dataframe\">\n",
              "  <thead>\n",
              "    <tr style=\"text-align: right;\">\n",
              "      <th></th>\n",
              "      <th>sepal_length</th>\n",
              "      <th>sepal_width</th>\n",
              "      <th>petal_length</th>\n",
              "      <th>petal_width</th>\n",
              "    </tr>\n",
              "  </thead>\n",
              "  <tbody>\n",
              "    <tr>\n",
              "      <th>count</th>\n",
              "      <td>105.000000</td>\n",
              "      <td>105.000000</td>\n",
              "      <td>105.000000</td>\n",
              "      <td>105.000000</td>\n",
              "    </tr>\n",
              "    <tr>\n",
              "      <th>mean</th>\n",
              "      <td>5.918095</td>\n",
              "      <td>3.042857</td>\n",
              "      <td>3.908571</td>\n",
              "      <td>1.249524</td>\n",
              "    </tr>\n",
              "    <tr>\n",
              "      <th>std</th>\n",
              "      <td>0.781613</td>\n",
              "      <td>0.437839</td>\n",
              "      <td>1.705935</td>\n",
              "      <td>0.736170</td>\n",
              "    </tr>\n",
              "    <tr>\n",
              "      <th>min</th>\n",
              "      <td>4.600000</td>\n",
              "      <td>2.000000</td>\n",
              "      <td>1.000000</td>\n",
              "      <td>0.100000</td>\n",
              "    </tr>\n",
              "    <tr>\n",
              "      <th>25%</th>\n",
              "      <td>5.200000</td>\n",
              "      <td>2.800000</td>\n",
              "      <td>1.700000</td>\n",
              "      <td>0.400000</td>\n",
              "    </tr>\n",
              "    <tr>\n",
              "      <th>50%</th>\n",
              "      <td>5.800000</td>\n",
              "      <td>3.000000</td>\n",
              "      <td>4.400000</td>\n",
              "      <td>1.400000</td>\n",
              "    </tr>\n",
              "    <tr>\n",
              "      <th>75%</th>\n",
              "      <td>6.400000</td>\n",
              "      <td>3.300000</td>\n",
              "      <td>5.100000</td>\n",
              "      <td>1.800000</td>\n",
              "    </tr>\n",
              "    <tr>\n",
              "      <th>max</th>\n",
              "      <td>7.900000</td>\n",
              "      <td>4.200000</td>\n",
              "      <td>6.900000</td>\n",
              "      <td>2.500000</td>\n",
              "    </tr>\n",
              "  </tbody>\n",
              "</table>\n",
              "</div>"
            ],
            "text/plain": [
              "       sepal_length  sepal_width  petal_length  petal_width\n",
              "count    105.000000   105.000000    105.000000   105.000000\n",
              "mean       5.918095     3.042857      3.908571     1.249524\n",
              "std        0.781613     0.437839      1.705935     0.736170\n",
              "min        4.600000     2.000000      1.000000     0.100000\n",
              "25%        5.200000     2.800000      1.700000     0.400000\n",
              "50%        5.800000     3.000000      4.400000     1.400000\n",
              "75%        6.400000     3.300000      5.100000     1.800000\n",
              "max        7.900000     4.200000      6.900000     2.500000"
            ]
          },
          "metadata": {
            "tags": []
          },
          "execution_count": 25
        }
      ]
    },
    {
      "cell_type": "markdown",
      "metadata": {
        "id": "GiUt7cE-e1dt",
        "colab_type": "text"
      },
      "source": [
        "# 2. Data Cleaning\n",
        "\n",
        "\n",
        "\n"
      ]
    },
    {
      "cell_type": "markdown",
      "metadata": {
        "id": "hVtQt0QXfoRb",
        "colab_type": "text"
      },
      "source": [
        "Sebuah model Machine Learning tidak mampu untuk langsung / seketika mengolah data yang kita temukan dari berbagai sumber. Ada istilah Garbage In - Garbage Out yang berarti hasil dari machine learning akan buruk jika input yang Anda masukkan juga buruk. Tidak seluruh data yang kita dapat dari berbagai sumber siap untuk langsung diberikan ke sebuah model machine learning. Perolehan data memiliki  banyak kekurangan, sehingga perlu Anda olah terlebih dahulu.\n",
        "\n",
        "\n",
        "\n",
        "1.   Konsistensi Format\n",
        "Sebuah variabel mungkin tidak memiliki format yang konsisten seperti penulisan tanggal 10-Okt-2020 versus 10/10/20. Format jam yang berbeda seperti 17.10  versus 5.10 pm. Penulisan uang seperti 17000 versus Rp 17.000. Data dengan format berbeda tidak \n",
        "\n",
        "2.  Skala Data\n",
        "Jika sebuah variabel memiliki jangka dari 1 sampai 100, pastikan tidak ada data yang lebih dari 100. Untuk data numerik, jika sebuah variabel merupakan bilangan positif, maka pastikan tidak ada bilangan negatif.\n",
        "\n",
        "\n",
        "\n",
        "3.   Duplikasi data\n",
        "Data yang memiliki duplikat akan mempengaruhi model machine learning, apalagi data yang duplikat memiliki jumlah yang besar. Untuk itu kita harus memastikan tidak ada data yang terduplikasi.\n",
        "\n",
        "4. Skewness adalah kondisi di mana dataset cenderung memiliki distribusi data yang tidak seimbang. Skewness akan mempengaruhi data dengan menciptakan bias terhadap model. Apa itu bias? Sebuah model cenderung memprediksi sesuatu karena ia lebih sering mempelajari hal tersebut. Misalkan ada sebuah model untuk pengenalan buah di mana jumlah jeruk 92 buah dan apel 8 buah. Distribusi yang tidak imbang ini akan mengakibatkan model lebih cenderung memprediksi jeruk daripada apel.\n",
        "\n",
        "5. Missing Value\n",
        "\n",
        "   Penjelasan dibawah\n",
        "\n",
        "     ![alt text](https://drive.google.com/uc?id=1HnxuJXuyHUqxSPI5WmdSVKNA5BcSs2pj)\n",
        "\n",
        "\n"
      ]
    },
    {
      "cell_type": "markdown",
      "metadata": {
        "id": "tVPkluFBxRBj",
        "colab_type": "text"
      },
      "source": [
        "## 5.   Missing Value\n",
        "Missing value terjadi ketika data dari sebuah record tidak lengkap. Missing value sangat mempengaruhi performa model machine learning. Ada dua opsi untuk mengatasi missing value, yaitu menghilangkan data missing value atau mengganti nilai yang hilang dengan nilai lain, seperti rata-rata dari kolom tersebut atau nilai yang paling sering muncul.\n",
        "\n",
        ">>Pada suatu dataset, ada kalanya data yang kita akan kita kelola tidak lengkap. Hal ini tentunya akan menyulitkan atau membuat hasil analisa tidak akurat. Penanggulangan akan data yang hilang ini biasa disebut **Handling Missing Value**. Penanganan dari nilai yang kosong ini banyak caranya. Sebagai seorang data science yang berhubungan dengan data yang real, solusi pertama yang benar-benar kita anjurkan untuk kasus seperti ini adalah melakukan trace kembali ke sumber data atau memerika ulang record. Terutama jika data itu berasal dari human record. Sangat disarankan untuk menelusuri kembali agar tidak terjadi kesalahan ketika sudah mencapai titik analisa. Selain solusi untuk melakukan penelusuran kembali ke sumberdata, pada ilmu data science juga ada beberapa metode yang bisa dijadikan solusi untuk menangani kasus ini.\n"
      ]
    },
    {
      "cell_type": "markdown",
      "metadata": {
        "id": "E5yPPSIgv45Y",
        "colab_type": "text"
      },
      "source": [
        "### 5.1 Melakukan pengecekan untuk nilai NULL yang ada\n",
        "Dengan menggunakan fungsi pandas, kita tidak perlu melihat satu persatu baris data untuk mengetahui apakah ada nilai kosong atau NULL/NAN pada suatu dataset. Bayangkan jika kita memilki 1000 baris data. Apakah kita harus melihat semua baris data tersebut? Tentu saja tidak. Maka dari itu di pandas disediakan fungsi untuk mengecek apakah ada data yang kosong.\n",
        "\n",
        "```\n",
        ".isnull().values.any()\n",
        "```"
      ]
    },
    {
      "cell_type": "code",
      "metadata": {
        "id": "m-RXXRvRwLWR",
        "colab_type": "code",
        "outputId": "e31a7843-0a62-422b-8171-dda5e57639ab",
        "colab": {
          "base_uri": "https://localhost:8080/",
          "height": 35
        }
      },
      "source": [
        "dataset1.isnull().values.any()"
      ],
      "execution_count": 0,
      "outputs": [
        {
          "output_type": "execute_result",
          "data": {
            "text/plain": [
              "False"
            ]
          },
          "metadata": {
            "tags": []
          },
          "execution_count": 26
        }
      ]
    },
    {
      "cell_type": "markdown",
      "metadata": {
        "id": "Ow4U0LzpwlRU",
        "colab_type": "text"
      },
      "source": [
        "\n",
        "\n",
        ">>Note : data yang digunakan merupakan data yang lengkap, maka dari itu output yang dihasilkan False\n",
        "\n"
      ]
    },
    {
      "cell_type": "code",
      "metadata": {
        "id": "36nGQhea04bg",
        "colab_type": "code",
        "colab": {}
      },
      "source": [
        "dataset2 = pd.read_csv(\"shopping_data_missingvalue.csv\")"
      ],
      "execution_count": 0,
      "outputs": []
    },
    {
      "cell_type": "code",
      "metadata": {
        "id": "qGsKiU741K1p",
        "colab_type": "code",
        "outputId": "a084f78a-9d5d-447d-a001-5f3faca3c68e",
        "colab": {
          "base_uri": "https://localhost:8080/",
          "height": 35
        }
      },
      "source": [
        "dataset2.isnull().values.any()"
      ],
      "execution_count": 0,
      "outputs": [
        {
          "output_type": "execute_result",
          "data": {
            "text/plain": [
              "True"
            ]
          },
          "metadata": {
            "tags": []
          },
          "execution_count": 10
        }
      ]
    },
    {
      "cell_type": "code",
      "metadata": {
        "id": "WkFYQd6l0vUQ",
        "colab_type": "code",
        "outputId": "024ea660-187a-4fca-c602-942ff90941c1",
        "colab": {
          "base_uri": "https://localhost:8080/",
          "height": 407
        }
      },
      "source": [
        "dataset2"
      ],
      "execution_count": 0,
      "outputs": [
        {
          "output_type": "execute_result",
          "data": {
            "text/html": [
              "<div>\n",
              "<style scoped>\n",
              "    .dataframe tbody tr th:only-of-type {\n",
              "        vertical-align: middle;\n",
              "    }\n",
              "\n",
              "    .dataframe tbody tr th {\n",
              "        vertical-align: top;\n",
              "    }\n",
              "\n",
              "    .dataframe thead th {\n",
              "        text-align: right;\n",
              "    }\n",
              "</style>\n",
              "<table border=\"1\" class=\"dataframe\">\n",
              "  <thead>\n",
              "    <tr style=\"text-align: right;\">\n",
              "      <th></th>\n",
              "      <th>CustomerID</th>\n",
              "      <th>Genre</th>\n",
              "      <th>Age</th>\n",
              "      <th>Annual Income (k$)</th>\n",
              "      <th>Spending Score (1-100)</th>\n",
              "    </tr>\n",
              "  </thead>\n",
              "  <tbody>\n",
              "    <tr>\n",
              "      <th>0</th>\n",
              "      <td>1</td>\n",
              "      <td>Male</td>\n",
              "      <td>19.0</td>\n",
              "      <td>15.0</td>\n",
              "      <td>39.0</td>\n",
              "    </tr>\n",
              "    <tr>\n",
              "      <th>1</th>\n",
              "      <td>2</td>\n",
              "      <td>Male</td>\n",
              "      <td>NaN</td>\n",
              "      <td>15.0</td>\n",
              "      <td>81.0</td>\n",
              "    </tr>\n",
              "    <tr>\n",
              "      <th>2</th>\n",
              "      <td>3</td>\n",
              "      <td>Female</td>\n",
              "      <td>20.0</td>\n",
              "      <td>NaN</td>\n",
              "      <td>6.0</td>\n",
              "    </tr>\n",
              "    <tr>\n",
              "      <th>3</th>\n",
              "      <td>4</td>\n",
              "      <td>Female</td>\n",
              "      <td>23.0</td>\n",
              "      <td>16.0</td>\n",
              "      <td>77.0</td>\n",
              "    </tr>\n",
              "    <tr>\n",
              "      <th>4</th>\n",
              "      <td>5</td>\n",
              "      <td>Female</td>\n",
              "      <td>31.0</td>\n",
              "      <td>17.0</td>\n",
              "      <td>NaN</td>\n",
              "    </tr>\n",
              "    <tr>\n",
              "      <th>...</th>\n",
              "      <td>...</td>\n",
              "      <td>...</td>\n",
              "      <td>...</td>\n",
              "      <td>...</td>\n",
              "      <td>...</td>\n",
              "    </tr>\n",
              "    <tr>\n",
              "      <th>195</th>\n",
              "      <td>196</td>\n",
              "      <td>Female</td>\n",
              "      <td>35.0</td>\n",
              "      <td>120.0</td>\n",
              "      <td>79.0</td>\n",
              "    </tr>\n",
              "    <tr>\n",
              "      <th>196</th>\n",
              "      <td>197</td>\n",
              "      <td>Female</td>\n",
              "      <td>45.0</td>\n",
              "      <td>126.0</td>\n",
              "      <td>28.0</td>\n",
              "    </tr>\n",
              "    <tr>\n",
              "      <th>197</th>\n",
              "      <td>198</td>\n",
              "      <td>Male</td>\n",
              "      <td>32.0</td>\n",
              "      <td>126.0</td>\n",
              "      <td>74.0</td>\n",
              "    </tr>\n",
              "    <tr>\n",
              "      <th>198</th>\n",
              "      <td>199</td>\n",
              "      <td>Male</td>\n",
              "      <td>32.0</td>\n",
              "      <td>137.0</td>\n",
              "      <td>18.0</td>\n",
              "    </tr>\n",
              "    <tr>\n",
              "      <th>199</th>\n",
              "      <td>200</td>\n",
              "      <td>Male</td>\n",
              "      <td>30.0</td>\n",
              "      <td>137.0</td>\n",
              "      <td>83.0</td>\n",
              "    </tr>\n",
              "  </tbody>\n",
              "</table>\n",
              "<p>200 rows × 5 columns</p>\n",
              "</div>"
            ],
            "text/plain": [
              "     CustomerID   Genre   Age  Annual Income (k$)  Spending Score (1-100)\n",
              "0             1    Male  19.0                15.0                    39.0\n",
              "1             2    Male   NaN                15.0                    81.0\n",
              "2             3  Female  20.0                 NaN                     6.0\n",
              "3             4  Female  23.0                16.0                    77.0\n",
              "4             5  Female  31.0                17.0                     NaN\n",
              "..          ...     ...   ...                 ...                     ...\n",
              "195         196  Female  35.0               120.0                    79.0\n",
              "196         197  Female  45.0               126.0                    28.0\n",
              "197         198    Male  32.0               126.0                    74.0\n",
              "198         199    Male  32.0               137.0                    18.0\n",
              "199         200    Male  30.0               137.0                    83.0\n",
              "\n",
              "[200 rows x 5 columns]"
            ]
          },
          "metadata": {
            "tags": []
          },
          "execution_count": 11
        }
      ]
    },
    {
      "cell_type": "markdown",
      "metadata": {
        "id": "DDPcCW2fyf1z",
        "colab_type": "text"
      },
      "source": [
        "### Solusi mengisi Missing Value\n",
        "Sebelum mengenal lebih banyak mengenai Solusi yang biasa ada pada kasus-kasus data science.\n",
        "\n",
        "Skema yang biasanya sering dalam pengelolaan data.\n",
        "\n",
        "![alt text](https://drive.google.com/uc?id=1aqxtfkCP0SgOBM2f69yxdhxsW1gJKIsq)\n",
        "\n",
        "Dalam diagram diatas, perlu diketahui bahwa kasus kehilangan data bisa diatasi dengan berbagai cara. Bahkan, melakukan penghapusan data juga merupakan solusi yang bisa menjadi pilihan apabila jika dirasa mengisi nilai kosong akan memberikan pengaruh yang kurang bagus terhadap analisa, atau apabila pertimbangan data yang dihapus atau data yang hilang sedikit dan tidak memberikan terlalu banyak sumbangsih untuk analisa yang akan dilakukan. Penghapusan data bisa langsung pada baris data tersebut atau langsung satu kolom data. Pada solusi kedua yaitu menggunakan imputation (pengisian data yang kosong) bisa tergantung dari permasalahannya. Khusus untuk masalah yang berhubungan forecasting atau peramalan tergantung dari data yang ada (lebih lengkap bisa dilihat pada gambar). Khusus untuk general problem tergantung jenis datanya. Jika yang hilang data kategorikal atau bersifat string bisa menggunakna relasi antar kolom dengan Logistic Regression, jika numerical bisa menggunakan statistik sederhana dan linear regression. Pada sesi kali ini kita akan mencoba menangani data hilang dengan statistik sederhana, Mean dan Median.\n",
        "\n"
      ]
    },
    {
      "cell_type": "markdown",
      "metadata": {
        "id": "MRLeTiaxzbcO",
        "colab_type": "text"
      },
      "source": [
        "### Mengisi dengan Mean\n",
        "Salah satu metode yang bisa dikatakan sebagai solusi yang umum pada kasus general data science adalah mengisi data kosong dengan menggunakan mean dari masing-masing kolom. Pertama kita harus menentukan mean dari masing-masing kolom. Pada pandas terdapat fungsi mean() untuk menentukan nilai mean dari masing-masing kolom. Mean sendiri digunakan untuk \n",
        "\n",
        ">**data yang memiliki sedikit sifat outlier/noisy/anomali dalam sebaran datanya maupun isinya**\n",
        "\n",
        "\n",
        "\n",
        "\n"
      ]
    },
    {
      "cell_type": "code",
      "metadata": {
        "id": "zfdTecLpMpCt",
        "colab_type": "code",
        "outputId": "8b0d23e1-229c-4306-f308-ce1cba37954f",
        "colab": {
          "base_uri": "https://localhost:8080/"
        }
      },
      "source": [
        "dataset2.mean() #mencari mean tiap kolom"
      ],
      "execution_count": 0,
      "outputs": [
        {
          "output_type": "execute_result",
          "data": {
            "text/plain": [
              "CustomerID                100.500000\n",
              "Age                        38.939698\n",
              "Annual Income (k$)         61.005051\n",
              "Spending Score (1-100)     50.489899\n",
              "dtype: float64"
            ]
          },
          "metadata": {
            "tags": []
          },
          "execution_count": 12
        }
      ]
    },
    {
      "cell_type": "code",
      "metadata": {
        "id": "PxnkdJHWNPFe",
        "colab_type": "code",
        "colab": {}
      },
      "source": [
        "dataset2_isi_mean=dataset2.fillna(dataset2.mean()) #mengisi missing value dengan data mean"
      ],
      "execution_count": 0,
      "outputs": []
    },
    {
      "cell_type": "code",
      "metadata": {
        "id": "Kc_CT1XlNYcX",
        "colab_type": "code",
        "outputId": "574cf1b1-420c-45f2-9186-32c195ef298f",
        "colab": {
          "base_uri": "https://localhost:8080/"
        }
      },
      "source": [
        "dataset2_isi_mean #data sudah terisi "
      ],
      "execution_count": 0,
      "outputs": [
        {
          "output_type": "execute_result",
          "data": {
            "text/html": [
              "<div>\n",
              "<style scoped>\n",
              "    .dataframe tbody tr th:only-of-type {\n",
              "        vertical-align: middle;\n",
              "    }\n",
              "\n",
              "    .dataframe tbody tr th {\n",
              "        vertical-align: top;\n",
              "    }\n",
              "\n",
              "    .dataframe thead th {\n",
              "        text-align: right;\n",
              "    }\n",
              "</style>\n",
              "<table border=\"1\" class=\"dataframe\">\n",
              "  <thead>\n",
              "    <tr style=\"text-align: right;\">\n",
              "      <th></th>\n",
              "      <th>CustomerID</th>\n",
              "      <th>Genre</th>\n",
              "      <th>Age</th>\n",
              "      <th>Annual Income (k$)</th>\n",
              "      <th>Spending Score (1-100)</th>\n",
              "    </tr>\n",
              "  </thead>\n",
              "  <tbody>\n",
              "    <tr>\n",
              "      <th>0</th>\n",
              "      <td>1</td>\n",
              "      <td>Male</td>\n",
              "      <td>19.000000</td>\n",
              "      <td>15.000000</td>\n",
              "      <td>39.000000</td>\n",
              "    </tr>\n",
              "    <tr>\n",
              "      <th>1</th>\n",
              "      <td>2</td>\n",
              "      <td>Male</td>\n",
              "      <td>38.939698</td>\n",
              "      <td>15.000000</td>\n",
              "      <td>81.000000</td>\n",
              "    </tr>\n",
              "    <tr>\n",
              "      <th>2</th>\n",
              "      <td>3</td>\n",
              "      <td>Female</td>\n",
              "      <td>20.000000</td>\n",
              "      <td>61.005051</td>\n",
              "      <td>6.000000</td>\n",
              "    </tr>\n",
              "    <tr>\n",
              "      <th>3</th>\n",
              "      <td>4</td>\n",
              "      <td>Female</td>\n",
              "      <td>23.000000</td>\n",
              "      <td>16.000000</td>\n",
              "      <td>77.000000</td>\n",
              "    </tr>\n",
              "    <tr>\n",
              "      <th>4</th>\n",
              "      <td>5</td>\n",
              "      <td>Female</td>\n",
              "      <td>31.000000</td>\n",
              "      <td>17.000000</td>\n",
              "      <td>50.489899</td>\n",
              "    </tr>\n",
              "    <tr>\n",
              "      <th>...</th>\n",
              "      <td>...</td>\n",
              "      <td>...</td>\n",
              "      <td>...</td>\n",
              "      <td>...</td>\n",
              "      <td>...</td>\n",
              "    </tr>\n",
              "    <tr>\n",
              "      <th>195</th>\n",
              "      <td>196</td>\n",
              "      <td>Female</td>\n",
              "      <td>35.000000</td>\n",
              "      <td>120.000000</td>\n",
              "      <td>79.000000</td>\n",
              "    </tr>\n",
              "    <tr>\n",
              "      <th>196</th>\n",
              "      <td>197</td>\n",
              "      <td>Female</td>\n",
              "      <td>45.000000</td>\n",
              "      <td>126.000000</td>\n",
              "      <td>28.000000</td>\n",
              "    </tr>\n",
              "    <tr>\n",
              "      <th>197</th>\n",
              "      <td>198</td>\n",
              "      <td>Male</td>\n",
              "      <td>32.000000</td>\n",
              "      <td>126.000000</td>\n",
              "      <td>74.000000</td>\n",
              "    </tr>\n",
              "    <tr>\n",
              "      <th>198</th>\n",
              "      <td>199</td>\n",
              "      <td>Male</td>\n",
              "      <td>32.000000</td>\n",
              "      <td>137.000000</td>\n",
              "      <td>18.000000</td>\n",
              "    </tr>\n",
              "    <tr>\n",
              "      <th>199</th>\n",
              "      <td>200</td>\n",
              "      <td>Male</td>\n",
              "      <td>30.000000</td>\n",
              "      <td>137.000000</td>\n",
              "      <td>83.000000</td>\n",
              "    </tr>\n",
              "  </tbody>\n",
              "</table>\n",
              "<p>200 rows × 5 columns</p>\n",
              "</div>"
            ],
            "text/plain": [
              "     CustomerID   Genre        Age  Annual Income (k$)  Spending Score (1-100)\n",
              "0             1    Male  19.000000           15.000000               39.000000\n",
              "1             2    Male  38.939698           15.000000               81.000000\n",
              "2             3  Female  20.000000           61.005051                6.000000\n",
              "3             4  Female  23.000000           16.000000               77.000000\n",
              "4             5  Female  31.000000           17.000000               50.489899\n",
              "..          ...     ...        ...                 ...                     ...\n",
              "195         196  Female  35.000000          120.000000               79.000000\n",
              "196         197  Female  45.000000          126.000000               28.000000\n",
              "197         198    Male  32.000000          126.000000               74.000000\n",
              "198         199    Male  32.000000          137.000000               18.000000\n",
              "199         200    Male  30.000000          137.000000               83.000000\n",
              "\n",
              "[200 rows x 5 columns]"
            ]
          },
          "metadata": {
            "tags": []
          },
          "execution_count": 19
        }
      ]
    },
    {
      "cell_type": "markdown",
      "metadata": {
        "id": "9lo9wp7YOXLh",
        "colab_type": "text"
      },
      "source": [
        "### Mengisi dengan Median\n",
        "Berbeda dengan mean pada sesi sebelumnya, median digunakan untuk data-data yang memiliki sifat outlier yang kuat. Kenapa median dipilih? Median merupakan nilai tengah yang artinya bukan hasil dari perhitungan yang melibatkan data outlier. Pada beberapa kasus, data outlier dianggap mengganggu dan sering dianggap noisy karena bisa mempengaruhi distribusi kelas dan mengganggu analisa pada klasterisasi (clustering).\n",
        "\n",
        ">**median digunakan untuk data-data yang memiliki sifat outlier yang kuat**"
      ]
    },
    {
      "cell_type": "code",
      "metadata": {
        "id": "ZyQ5zY4oOl8e",
        "colab_type": "code",
        "outputId": "6907ed35-090c-4749-f6d9-66c2a4a625d6",
        "colab": {
          "base_uri": "https://localhost:8080/"
        }
      },
      "source": [
        "dataset2_isi_median = dataset2.fillna(dataset2.median())\n",
        "dataset2_isi_median"
      ],
      "execution_count": 0,
      "outputs": [
        {
          "output_type": "execute_result",
          "data": {
            "text/html": [
              "<div>\n",
              "<style scoped>\n",
              "    .dataframe tbody tr th:only-of-type {\n",
              "        vertical-align: middle;\n",
              "    }\n",
              "\n",
              "    .dataframe tbody tr th {\n",
              "        vertical-align: top;\n",
              "    }\n",
              "\n",
              "    .dataframe thead th {\n",
              "        text-align: right;\n",
              "    }\n",
              "</style>\n",
              "<table border=\"1\" class=\"dataframe\">\n",
              "  <thead>\n",
              "    <tr style=\"text-align: right;\">\n",
              "      <th></th>\n",
              "      <th>CustomerID</th>\n",
              "      <th>Genre</th>\n",
              "      <th>Age</th>\n",
              "      <th>Annual Income (k$)</th>\n",
              "      <th>Spending Score (1-100)</th>\n",
              "    </tr>\n",
              "  </thead>\n",
              "  <tbody>\n",
              "    <tr>\n",
              "      <th>0</th>\n",
              "      <td>1</td>\n",
              "      <td>Male</td>\n",
              "      <td>19.0</td>\n",
              "      <td>15.0</td>\n",
              "      <td>39.0</td>\n",
              "    </tr>\n",
              "    <tr>\n",
              "      <th>1</th>\n",
              "      <td>2</td>\n",
              "      <td>Male</td>\n",
              "      <td>36.0</td>\n",
              "      <td>15.0</td>\n",
              "      <td>81.0</td>\n",
              "    </tr>\n",
              "    <tr>\n",
              "      <th>2</th>\n",
              "      <td>3</td>\n",
              "      <td>Female</td>\n",
              "      <td>20.0</td>\n",
              "      <td>62.0</td>\n",
              "      <td>6.0</td>\n",
              "    </tr>\n",
              "    <tr>\n",
              "      <th>3</th>\n",
              "      <td>4</td>\n",
              "      <td>Female</td>\n",
              "      <td>23.0</td>\n",
              "      <td>16.0</td>\n",
              "      <td>77.0</td>\n",
              "    </tr>\n",
              "    <tr>\n",
              "      <th>4</th>\n",
              "      <td>5</td>\n",
              "      <td>Female</td>\n",
              "      <td>31.0</td>\n",
              "      <td>17.0</td>\n",
              "      <td>50.0</td>\n",
              "    </tr>\n",
              "    <tr>\n",
              "      <th>...</th>\n",
              "      <td>...</td>\n",
              "      <td>...</td>\n",
              "      <td>...</td>\n",
              "      <td>...</td>\n",
              "      <td>...</td>\n",
              "    </tr>\n",
              "    <tr>\n",
              "      <th>195</th>\n",
              "      <td>196</td>\n",
              "      <td>Female</td>\n",
              "      <td>35.0</td>\n",
              "      <td>120.0</td>\n",
              "      <td>79.0</td>\n",
              "    </tr>\n",
              "    <tr>\n",
              "      <th>196</th>\n",
              "      <td>197</td>\n",
              "      <td>Female</td>\n",
              "      <td>45.0</td>\n",
              "      <td>126.0</td>\n",
              "      <td>28.0</td>\n",
              "    </tr>\n",
              "    <tr>\n",
              "      <th>197</th>\n",
              "      <td>198</td>\n",
              "      <td>Male</td>\n",
              "      <td>32.0</td>\n",
              "      <td>126.0</td>\n",
              "      <td>74.0</td>\n",
              "    </tr>\n",
              "    <tr>\n",
              "      <th>198</th>\n",
              "      <td>199</td>\n",
              "      <td>Male</td>\n",
              "      <td>32.0</td>\n",
              "      <td>137.0</td>\n",
              "      <td>18.0</td>\n",
              "    </tr>\n",
              "    <tr>\n",
              "      <th>199</th>\n",
              "      <td>200</td>\n",
              "      <td>Male</td>\n",
              "      <td>30.0</td>\n",
              "      <td>137.0</td>\n",
              "      <td>83.0</td>\n",
              "    </tr>\n",
              "  </tbody>\n",
              "</table>\n",
              "<p>200 rows × 5 columns</p>\n",
              "</div>"
            ],
            "text/plain": [
              "     CustomerID   Genre   Age  Annual Income (k$)  Spending Score (1-100)\n",
              "0             1    Male  19.0                15.0                    39.0\n",
              "1             2    Male  36.0                15.0                    81.0\n",
              "2             3  Female  20.0                62.0                     6.0\n",
              "3             4  Female  23.0                16.0                    77.0\n",
              "4             5  Female  31.0                17.0                    50.0\n",
              "..          ...     ...   ...                 ...                     ...\n",
              "195         196  Female  35.0               120.0                    79.0\n",
              "196         197  Female  45.0               126.0                    28.0\n",
              "197         198    Male  32.0               126.0                    74.0\n",
              "198         199    Male  32.0               137.0                    18.0\n",
              "199         200    Male  30.0               137.0                    83.0\n",
              "\n",
              "[200 rows x 5 columns]"
            ]
          },
          "metadata": {
            "tags": []
          },
          "execution_count": 21
        }
      ]
    },
    {
      "cell_type": "markdown",
      "metadata": {
        "id": "dZP9yH-xg9oY",
        "colab_type": "text"
      },
      "source": [
        "# 3. Data Preparation"
      ]
    },
    {
      "cell_type": "markdown",
      "metadata": {
        "id": "jPgvNTCwhj9Q",
        "colab_type": "text"
      },
      "source": [
        "Setelah dataset dibersihkan masih ada beberapa tahap yang perlu dilakukan agar dataset benar-benar siap untuk diproses oleh model machine learning. \n",
        "\n",
        "Umumnya beberapa model machine learning tidak dapat mengolah data kategorik, sehingga kita perlu melakukan konversi data kategorik menjadi data numerik. Data kategorik adalah data yang berupa kategori dan berjenis string. Contoh data kategorik adalah sebuah kolom pada dataset yang berisi jenis binatang seperti anjing, kucing, dan harimau. Contoh lain dari data kategorik adalah merek mobil seperti Ford, Honda, Toyota, dan BMW.\n",
        "\n",
        "Banyak model machine learning seperti Regresi Linear dan Support Vector Machine (kedua model ini akan dibahas pada modul-modul selanjutnya) yang hanya menerima input numerik sehingga tidak bisa memproses data kategorik. Salah satu teknik untuk mengubah data kategorik menjadi data numerik adalah dengan menggunakan One Hot Encoding. One Hot Encoding mengubah data kategorik dengan membuat kolom baru untuk setiap kategori \n",
        "\n",
        "![alt text](https://drive.google.com/uc?id=120IgDDBfYGxBRAb195SIMaP6hd1TcqRq)\n"
      ]
    },
    {
      "cell_type": "markdown",
      "metadata": {
        "id": "WNMTbqTojlKS",
        "colab_type": "text"
      },
      "source": [
        "# 4. Data Preparation Opsional\n",
        "Selain konversi data kategorik menjadi numerik, ada beberapa teknik lain dalam data preparation. Teknik yang akan dibahas antara lain membuang outlier, normalization, dan standardization."
      ]
    },
    {
      "cell_type": "markdown",
      "metadata": {
        "id": "J-lXU_UijpBH",
        "colab_type": "text"
      },
      "source": [
        "## 4.1 Outlier Removal\n",
        "Dalam statistik, outlier adalah sebuah nilai yang jauh berbeda dari kumpulan nilai lainnya dan dapat mengacaukan hasil dari sebuah analisis statistik. Outlier dapat disebabkan \n",
        "\n",
        "1. kesalahan dalam pengumpulan data \n",
        "2. atau nilai tersebut benar ada dan memang unik dari kumpulan nilai lainnya.\n",
        "\n",
        "Apapun alasannya kemunculannya, Anda perlu  mengetahui cara untuk mengidentifikasi dan memproses outlier. Ini adalah bagian penting dalam persiapan data di dalam machine learning. Salah satu cara termudah untuk mengecek apakah terdapat outlier dalam data kita adalah dengan melakukan visualisasi.\n",
        "\n",
        "![alt text](https://drive.google.com/uc?id=1f-S3JeHZl1VwP7ledcUxv58rtzL0ghVA)\n",
        "\n",
        "Dapat dilihat dengan jelas bahwa terdapat satu sampel yang jauh berbeda dengan sampel-sampel lainnya. Setelah mengetahui bahwa di data kita terdapat outlier, kita dapat mencari lalu menghapus sampel tersebut dari dataset.\n",
        "\n"
      ]
    },
    {
      "cell_type": "markdown",
      "metadata": {
        "id": "qn_kmv6mjtTf",
        "colab_type": "text"
      },
      "source": [
        "## 4.2 Normalization\n",
        "### Sumber : Dicoding\n",
        "Normalization adalah salah satu teknik yang dipakai dalam data preparation. Tujuan dari normalisasi adalah mengubah nilai-nilai dari sebuah fitur ke dalam skala yang sama. Normalization memungkinkan kenaikan performa dan stabilitas dari sebuah model machine learning.\n",
        "\n",
        "![alt text](https://drive.google.com/uc?id=1xqjevGzHYdHj359GgD99huP-AQFDvFS2)\n",
        "\n",
        "Contoh dari normalization adalah ketika kita memiliki dataset seperti di atas yang memiliki fitur umur dengan skala 23 sampai 45 tahun, dan fitur penghasilan dengan skala 4.000.000 sampai 35.000.000. Di sini kita melihat bahwa fitur penghasilan sekitar satu juta kali lebih besar dari fitur umur dan menunjukkan kedua fitur ini berada pada skala yang sangat jauh berbeda.\n",
        "\n",
        "Ketika membangun model seperti regresi linear, fitur penghasilan akan sangat mempengaruhi prediksi dari model karena nilainya yang jauh lebih besar daripada umur. Walaupun, tidak berarti fitur tersebut jauh lebih penting dari fitur umur. \n",
        "\n",
        "Salah satu contoh dari normalization adalah min-max scaling di mana nilai-nilai dipetakan ke dalam skala 0 sampai 1. SKLearn menyediakan library untuk normalization\n",
        "\n",
        "Pada Colab kita Import library MinMaxScaler dan masukkan data dari tabel sebelumnya.\n",
        "\n",
        "\n",
        "\n",
        "```\n",
        "from sklearn.preprocessing import MinMaxScaler\n",
        "data = [[12000000, 33], [35000000, 45], [4000000, 23], [6500000, 26], [9000000, 29]]\n",
        "```\n",
        "\n",
        "Pada cell selanjutnya kita buat object scaler dan panggil fungsi fit() pada data. Fungsi fit adalah fungsi untuk menghitung nilai minimum dan maksimum pada tiap kolom.\n",
        "\n",
        "\n",
        "\n",
        "```\n",
        "scaler = MinMaxScaler()\n",
        "scaler.fit(data)\n",
        "```\n",
        "\n",
        "Terakhir kita panggil fungsi transform yang akan mengaplikasikan scaler pada data.\n",
        "\n",
        "\n",
        "\n",
        "\n",
        "\n"
      ]
    },
    {
      "cell_type": "code",
      "metadata": {
        "id": "CXPRO9GslqCe",
        "colab_type": "code",
        "outputId": "3e179e78-a4f0-4697-b167-5c319905e120",
        "colab": {
          "base_uri": "https://localhost:8080/",
          "height": 108
        }
      },
      "source": [
        "from sklearn.preprocessing import MinMaxScaler\n",
        "data = [[12000000, 33], [35000000, 45], [4000000, 23], [6500000, 26], [9000000, 29]]\n",
        "\n",
        "scaler = MinMaxScaler()\n",
        "scaler.fit(data)\n",
        "\n",
        "print(scaler.transform(data))\n"
      ],
      "execution_count": 0,
      "outputs": [
        {
          "output_type": "stream",
          "text": [
            "[[0.25806452 0.45454545]\n",
            " [1.         1.        ]\n",
            " [0.         0.        ]\n",
            " [0.08064516 0.13636364]\n",
            " [0.16129032 0.27272727]]\n"
          ],
          "name": "stdout"
        }
      ]
    },
    {
      "cell_type": "markdown",
      "metadata": {
        "id": "yL_kvb70l2xx",
        "colab_type": "text"
      },
      "source": [
        "Setiap nilai dari kolom gaji dan umur telah dipetakan pada skala yang sama seperti di bawah ini.\n",
        "\n",
        "![alt text](https://drive.google.com/uc?id=1wa_HD7mHj5GBkJR1hWUdb9mam6BDj0e9)\n",
        "\n",
        "Info Lengkap :https://scikit-learn.org/0.16/modules/generated/sklearn.preprocessing.MinMaxScaler.html"
      ]
    },
    {
      "cell_type": "markdown",
      "metadata": {
        "id": "nSLpGInmQQQb",
        "colab_type": "text"
      },
      "source": [
        "### Sumber : DQLab\n",
        "\n",
        "Normalisasi Data\n",
        "\n",
        "\n",
        "Terkadang pada beberapa kasus, 1 kolom dengan kolom yang lain memiliki skala yang berbeda. Seperti cuplikan gambar di bawah ini :\n",
        "\n",
        "Antara Usia dan Masa Kerja masih memiliki range yang sama dalam skala puluhan. Namun, jika kolom Usia dan Masa Kerja dibandingkan dengan Gaji memiliki range nilai yang berbeda, dimana Usia dan Masa Kerja memiliki range puluhan dan Gaji mempunyai range nilai jutaan. Memang terlihat sederhana, namun hal ini bisa menjadi masalah besar dalam contoh kasus klasterisasi atau klasifikasi. Masuk pada kasus K-means yang sudah pernah dibahas sebelumnya. K-means merupakan algoritma klasterisasi (clustering) yang menggunakan perhitungan jarak dalam prosesnya. Sekarang coba bayangkan :\n",
        "\n",
        "![alt text](https://drive.google.com/uc?id=1z_JnygGsZwubwc5gjVA1Jpa82mnXD9kn)\n",
        "\n",
        "Jika tidak ada normalisasi, maka jelas perhitungan kmeans diatas akan tergantung pada Gaji. Kenapa? Karena gaji berdomain jutaan dan 2 kolom lainnya hanya berdomain puluhan.\n",
        "\n",
        ">**Berapapun usia dan masa kerja seseorang tidak akan berpengaruh terhadap penilaian suatu perusahaan**. \n",
        "\n",
        "Perbedaan skala pada setiap kolom ini merupakan hal yang sangat wajar dan sering terjadi dan inilah pentingnya normalisasi. Normalisasi sangat penting, terutama untuk yang menggunakan perhitungan jarak dengan menggunakan metode apapun.\n",
        "\n"
      ]
    },
    {
      "cell_type": "markdown",
      "metadata": {
        "id": "HmIf0uTNRSXp",
        "colab_type": "text"
      },
      "source": [
        "### Metode Normalisasi\n",
        "Ada berbagai macam metode normalisasi, seperti \n",
        "1. MinMax, \n",
        "2. Zscore, \n",
        "3. Decimal Scaling, \n",
        "4. Sigmoid, dan \n",
        "5. Softmax. \n",
        "\n",
        "Pemakaiannya tergantung pada kebutuhan dari dataset dan jenis analisa yang dilakukan.\n",
        "\n",
        "**1. MinMax**\n",
        "\n",
        "\n",
        ">Metode Min-Max merupakan metode yang cukup bisa dibayangkan karena termasuk metode normalisasi yang bersifat linier dengan data aslinya. Namun, metode ini bisa menyebabkan out of bound pada beberapa kasus.\n",
        "\n",
        ">![alt text](https://drive.google.com/uc?id=1J1knlg2ERpLKAi7xga4zMSnxu2qfh4ib)\n",
        "\n",
        ">Kenapa bisa terjadi out of bound? Out of Bound terjadi apabila ada data baru masuk, dimana data tersebut melebihi nilai maksimal atau nilai minimal dari data yang sudah ada. Secara otomatis, perhitungan yang berlaku pada data yang sudah diperoleh tadi harus diulangi lagi semuanya dengan data baru yang masuk atau data baru yang mempunyai nilai maksimal/minimum yang melebihi tadi tidak bisa diproses. Karena kekurangan inilah MinMax tidak cocok untuk analisa real time / evolving system. Dimungkinkan dalam kasus-kasus terjadi kasus out of bound pada MinMax.\n",
        "\n",
        ">MinMax sangat dianjurkan untuk kasus-kasus berbasis time frame analisis dan forecasting. Perhitungan dari metode ini cukup mengurangi data yang asli dengan nilai minimal dari fitur tersebut, kemudian hasil tersebut dikalikan dari hasil pengurangan nilai maximal yang baru dengan nilai minimal yang baru dan kemudian dibagi dengan nilai max dan min data di setiap fitur terakhir ditambah dengan nilai min yang baru.\n",
        "\n",
        "**2. Z-Score**\n",
        "\n",
        "\n",
        ">Zscore adalah metode yang sering digunakan dalam berbagai penelitian berbasis data mining atau data science. Z-score merupakan metode normalisasi yang berdasarkan mean (nilai rata-rata) dan standard deviation (deviasi standar) dari data. Kenapa Z-Score sangat populer? Selain tidak banyak variabel yang diset dalam perhitungannya. Z-Score sangat dinamis dalam melakukan perhitungan normalisasi. Kelemahan dari Z-Score adalah prosesnya akan terulang lagi jika ada data baru yang masuk. Selain itu elemen yang dibutuhkan untuk perhitungan Z-Score juga membutuhkan proses yang cukup lama baik standar deviation ataupun rata-rata dari setiap kolom.\n",
        "\n",
        "![alt text](https://drive.google.com/uc?id=1dJYsU1X5gli1wVjiEhrDS69_y729YPYe)\n",
        "\n",
        "![alt text](https://drive.google.com/uc?id=1DqwWEQgkqJ6itQrj3yj0_EI4vqb8hIxV)"
      ]
    },
    {
      "cell_type": "markdown",
      "metadata": {
        "id": "en2SbcZPT4Z_",
        "colab_type": "text"
      },
      "source": [
        "## Praktek Normalisasi menggunakan Scikit Learn pada Python \n",
        "\n",
        "Scikit Learn merupakan library pada python yang digunakan untuk machine learning dan data science. Salah satu library yang selalu menjadi favorit dan komunitasnya sangat kuat. Scikit-learn sendiri tidak hanya untuk analytics saja, namun juga untuk pre-processing, feature selection, dan proses analysis lainnya. Melanjutkan dari sesi normalisasi data, mari kita praktekan kode di bawah ini :\n",
        "\n"
      ]
    },
    {
      "cell_type": "code",
      "metadata": {
        "id": "MKB6l6cLUeIz",
        "colab_type": "code",
        "colab": {}
      },
      "source": [
        "import pandas as pd\n",
        "import numpy as np\n",
        "from sklearn import preprocessing\n",
        "\n",
        "data = pd.read_csv(\"iris_train.csv\")\n",
        "array = data.values"
      ],
      "execution_count": 0,
      "outputs": []
    },
    {
      "cell_type": "code",
      "metadata": {
        "id": "wVLVZNG9YlU6",
        "colab_type": "code",
        "outputId": "3c1cbd08-0ab7-41dc-b934-99d805d26f38",
        "colab": {
          "base_uri": "https://localhost:8080/",
          "height": 366
        }
      },
      "source": [
        "print(\"sebelum dinormalisasi : \")\n",
        "data.head(10)"
      ],
      "execution_count": 0,
      "outputs": [
        {
          "output_type": "stream",
          "text": [
            "sebelum dinormalisasi : \n"
          ],
          "name": "stdout"
        },
        {
          "output_type": "execute_result",
          "data": {
            "text/html": [
              "<div>\n",
              "<style scoped>\n",
              "    .dataframe tbody tr th:only-of-type {\n",
              "        vertical-align: middle;\n",
              "    }\n",
              "\n",
              "    .dataframe tbody tr th {\n",
              "        vertical-align: top;\n",
              "    }\n",
              "\n",
              "    .dataframe thead th {\n",
              "        text-align: right;\n",
              "    }\n",
              "</style>\n",
              "<table border=\"1\" class=\"dataframe\">\n",
              "  <thead>\n",
              "    <tr style=\"text-align: right;\">\n",
              "      <th></th>\n",
              "      <th>sepal_length</th>\n",
              "      <th>sepal_width</th>\n",
              "      <th>petal_length</th>\n",
              "      <th>petal_width</th>\n",
              "      <th>species</th>\n",
              "    </tr>\n",
              "  </thead>\n",
              "  <tbody>\n",
              "    <tr>\n",
              "      <th>0</th>\n",
              "      <td>5.1</td>\n",
              "      <td>3.4</td>\n",
              "      <td>1.5</td>\n",
              "      <td>0.2</td>\n",
              "      <td>Iris-setosa</td>\n",
              "    </tr>\n",
              "    <tr>\n",
              "      <th>1</th>\n",
              "      <td>6.3</td>\n",
              "      <td>2.5</td>\n",
              "      <td>5.0</td>\n",
              "      <td>1.9</td>\n",
              "      <td>Iris-virginica</td>\n",
              "    </tr>\n",
              "    <tr>\n",
              "      <th>2</th>\n",
              "      <td>5.9</td>\n",
              "      <td>3.0</td>\n",
              "      <td>4.2</td>\n",
              "      <td>1.5</td>\n",
              "      <td>Iris-versicolor</td>\n",
              "    </tr>\n",
              "    <tr>\n",
              "      <th>3</th>\n",
              "      <td>5.7</td>\n",
              "      <td>2.6</td>\n",
              "      <td>3.5</td>\n",
              "      <td>1.0</td>\n",
              "      <td>Iris-versicolor</td>\n",
              "    </tr>\n",
              "    <tr>\n",
              "      <th>4</th>\n",
              "      <td>7.7</td>\n",
              "      <td>2.8</td>\n",
              "      <td>6.7</td>\n",
              "      <td>2.0</td>\n",
              "      <td>Iris-virginica</td>\n",
              "    </tr>\n",
              "    <tr>\n",
              "      <th>5</th>\n",
              "      <td>6.0</td>\n",
              "      <td>3.0</td>\n",
              "      <td>4.8</td>\n",
              "      <td>1.8</td>\n",
              "      <td>Iris-virginica</td>\n",
              "    </tr>\n",
              "    <tr>\n",
              "      <th>6</th>\n",
              "      <td>6.7</td>\n",
              "      <td>3.3</td>\n",
              "      <td>5.7</td>\n",
              "      <td>2.5</td>\n",
              "      <td>Iris-virginica</td>\n",
              "    </tr>\n",
              "    <tr>\n",
              "      <th>7</th>\n",
              "      <td>5.8</td>\n",
              "      <td>2.7</td>\n",
              "      <td>4.1</td>\n",
              "      <td>1.0</td>\n",
              "      <td>Iris-versicolor</td>\n",
              "    </tr>\n",
              "    <tr>\n",
              "      <th>8</th>\n",
              "      <td>5.5</td>\n",
              "      <td>2.3</td>\n",
              "      <td>4.0</td>\n",
              "      <td>1.3</td>\n",
              "      <td>Iris-versicolor</td>\n",
              "    </tr>\n",
              "    <tr>\n",
              "      <th>9</th>\n",
              "      <td>6.6</td>\n",
              "      <td>3.0</td>\n",
              "      <td>4.4</td>\n",
              "      <td>1.4</td>\n",
              "      <td>Iris-versicolor</td>\n",
              "    </tr>\n",
              "  </tbody>\n",
              "</table>\n",
              "</div>"
            ],
            "text/plain": [
              "   sepal_length  sepal_width  petal_length  petal_width          species\n",
              "0           5.1          3.4           1.5          0.2      Iris-setosa\n",
              "1           6.3          2.5           5.0          1.9   Iris-virginica\n",
              "2           5.9          3.0           4.2          1.5  Iris-versicolor\n",
              "3           5.7          2.6           3.5          1.0  Iris-versicolor\n",
              "4           7.7          2.8           6.7          2.0   Iris-virginica\n",
              "5           6.0          3.0           4.8          1.8   Iris-virginica\n",
              "6           6.7          3.3           5.7          2.5   Iris-virginica\n",
              "7           5.8          2.7           4.1          1.0  Iris-versicolor\n",
              "8           5.5          2.3           4.0          1.3  Iris-versicolor\n",
              "9           6.6          3.0           4.4          1.4  Iris-versicolor"
            ]
          },
          "metadata": {
            "tags": []
          },
          "execution_count": 43
        }
      ]
    },
    {
      "cell_type": "markdown",
      "metadata": {
        "id": "aTXTrorAVgSV",
        "colab_type": "text"
      },
      "source": [
        "X merupakan matriks yang berisi fitur dataset yang akan digunakan dalam machine learning, baik untuk regresi, klasifikasi, pengklusteran, atau normalisasi\n",
        "dan Y adalah matrik dari class/Labels\n",
        "\n",
        "Pada kasus kita, X berisi fitur-fitur yang digunakan untuk dinormalisasi dengan teknik min-max scaler\n",
        "\n",
        "\n",
        "\n",
        "\n",
        "![alt text](https://drive.google.com/uc?id=1AmdiDaujWpMDiZeFBLx5v6Hvk3uLWgQg)"
      ]
    },
    {
      "cell_type": "markdown",
      "metadata": {
        "id": "bsWZE4DScmsp",
        "colab_type": "text"
      },
      "source": [
        ">Pisahkan fitur dan class kedalam variabel X dan Y\n",
        "\n",
        "\n"
      ]
    },
    {
      "cell_type": "code",
      "metadata": {
        "id": "axoNk-SXVvIv",
        "colab_type": "code",
        "colab": {}
      },
      "source": [
        "X = array[:,:4] #memisahkan fitur dari dataset. \n",
        "Y = array[:,4:5]  #memisahkan class dari dataset"
      ],
      "execution_count": 0,
      "outputs": []
    },
    {
      "cell_type": "code",
      "metadata": {
        "id": "SgfPganwczWn",
        "colab_type": "code",
        "outputId": "d1cefd4e-7056-448e-82e0-601da7d11bed",
        "colab": {
          "base_uri": "https://localhost:8080/",
          "height": 1000
        }
      },
      "source": [
        "print(\"====Fitur :=====\")\n",
        "print(X)\n",
        "print(\"--------------------------\")\n",
        "print()\n",
        "print(\"====Class :=====\")\n",
        "print(Y)\n"
      ],
      "execution_count": 0,
      "outputs": [
        {
          "output_type": "stream",
          "text": [
            "====Fitur :=====\n",
            "[[5.1 3.4 1.5 0.2]\n",
            " [6.3 2.5 5.0 1.9]\n",
            " [5.9 3.0 4.2 1.5]\n",
            " [5.7 2.6 3.5 1.0]\n",
            " [7.7 2.8 6.7 2.0]\n",
            " [6.0 3.0 4.8 1.8]\n",
            " [6.7 3.3 5.7 2.5]\n",
            " [5.8 2.7 4.1 1.0]\n",
            " [5.5 2.3 4.0 1.3]\n",
            " [6.6 3.0 4.4 1.4]\n",
            " [5.1 3.7 1.5 0.4]\n",
            " [4.6 3.6 1.0 0.2]\n",
            " [7.7 2.6 6.9 2.3]\n",
            " [6.1 2.8 4.0 1.3]\n",
            " [4.9 2.4 3.3 1.0]\n",
            " [6.8 3.0 5.5 2.1]\n",
            " [4.9 3.1 1.5 0.1]\n",
            " [6.4 2.7 5.3 1.9]\n",
            " [5.5 2.4 3.8 1.1]\n",
            " [5.6 3.0 4.5 1.5]\n",
            " [5.8 2.8 5.1 2.4]\n",
            " [5.8 2.7 5.1 1.9]\n",
            " [6.4 2.8 5.6 2.2]\n",
            " [6.7 3.0 5.2 2.3]\n",
            " [4.6 3.1 1.5 0.2]\n",
            " [6.9 3.1 5.4 2.1]\n",
            " [5.9 3.0 5.1 1.8]\n",
            " [6.2 2.8 4.8 1.8]\n",
            " [5.1 3.5 1.4 0.3]\n",
            " [5.8 2.7 3.9 1.2]\n",
            " [6.7 3.1 4.7 1.5]\n",
            " [6.3 2.5 4.9 1.5]\n",
            " [6.8 2.8 4.8 1.4]\n",
            " [6.2 2.2 4.5 1.5]\n",
            " [4.9 3.1 1.5 0.1]\n",
            " [5.2 4.1 1.5 0.1]\n",
            " [6.4 3.2 5.3 2.3]\n",
            " [5.0 2.3 3.3 1.0]\n",
            " [5.6 3.0 4.1 1.3]\n",
            " [6.3 3.4 5.6 2.4]\n",
            " [6.3 2.3 4.4 1.3]\n",
            " [6.3 2.8 5.1 1.5]\n",
            " [5.1 3.3 1.7 0.5]\n",
            " [6.3 2.9 5.6 1.8]\n",
            " [5.0 3.4 1.5 0.2]\n",
            " [7.2 3.0 5.8 1.6]\n",
            " [6.4 3.2 4.5 1.5]\n",
            " [5.0 2.0 3.5 1.0]\n",
            " [5.5 2.5 4.0 1.3]\n",
            " [5.1 3.8 1.6 0.2]\n",
            " [6.1 2.6 5.6 1.4]\n",
            " [6.2 2.9 4.3 1.3]\n",
            " [7.6 3.0 6.6 2.1]\n",
            " [5.3 3.7 1.5 0.2]\n",
            " [5.4 3.9 1.3 0.4]\n",
            " [6.0 3.4 4.5 1.6]\n",
            " [5.2 3.5 1.5 0.2]\n",
            " [4.6 3.4 1.4 0.3]\n",
            " [4.9 2.5 4.5 1.7]\n",
            " [6.1 3.0 4.6 1.4]\n",
            " [5.1 3.5 1.4 0.2]\n",
            " [5.4 3.7 1.5 0.2]\n",
            " [6.8 3.2 5.9 2.3]\n",
            " [6.4 2.8 5.6 2.1]\n",
            " [5.0 3.5 1.6 0.6]\n",
            " [5.0 3.0 1.6 0.2]\n",
            " [4.9 3.0 1.4 0.2]\n",
            " [4.8 3.4 1.6 0.2]\n",
            " [6.5 3.0 5.2 2.0]\n",
            " [5.4 3.9 1.7 0.4]\n",
            " [5.0 3.2 1.2 0.2]\n",
            " [7.7 3.8 6.7 2.2]\n",
            " [7.3 2.9 6.3 1.8]\n",
            " [6.7 3.1 5.6 2.4]\n",
            " [5.7 2.8 4.1 1.3]\n",
            " [5.5 2.4 3.7 1.0]\n",
            " [6.5 3.0 5.8 2.2]\n",
            " [6.6 2.9 4.6 1.3]\n",
            " [5.7 3.8 1.7 0.3]\n",
            " [4.8 3.1 1.6 0.2]\n",
            " [5.0 3.3 1.4 0.2]\n",
            " [5.7 2.9 4.2 1.3]\n",
            " [5.5 4.2 1.4 0.2]\n",
            " [5.8 2.6 4.0 1.2]\n",
            " [7.0 3.2 4.7 1.4]\n",
            " [5.2 3.4 1.4 0.2]\n",
            " [5.2 2.7 3.9 1.4]\n",
            " [6.3 3.3 6.0 2.5]\n",
            " [6.7 3.0 5.0 1.7]\n",
            " [6.0 2.7 5.1 1.6]\n",
            " [7.2 3.2 6.0 1.8]\n",
            " [6.7 2.5 5.8 1.8]\n",
            " [5.7 3.0 4.2 1.2]\n",
            " [5.6 2.7 4.2 1.3]\n",
            " [6.5 2.8 4.6 1.5]\n",
            " [6.1 2.9 4.7 1.4]\n",
            " [6.0 2.9 4.5 1.5]\n",
            " [6.9 3.2 5.7 2.3]\n",
            " [5.8 4.0 1.2 0.2]\n",
            " [5.9 3.2 4.8 1.8]\n",
            " [5.4 3.4 1.7 0.2]\n",
            " [5.6 2.5 3.9 1.1]\n",
            " [6.4 2.9 4.3 1.3]\n",
            " [7.9 3.8 6.4 2.0]\n",
            " [5.4 3.0 4.5 1.5]]\n",
            "--------------------------\n",
            "\n",
            "====Class :=====\n",
            "[['Iris-setosa']\n",
            " ['Iris-virginica']\n",
            " ['Iris-versicolor']\n",
            " ['Iris-versicolor']\n",
            " ['Iris-virginica']\n",
            " ['Iris-virginica']\n",
            " ['Iris-virginica']\n",
            " ['Iris-versicolor']\n",
            " ['Iris-versicolor']\n",
            " ['Iris-versicolor']\n",
            " ['Iris-setosa']\n",
            " ['Iris-setosa']\n",
            " ['Iris-virginica']\n",
            " ['Iris-versicolor']\n",
            " ['Iris-versicolor']\n",
            " ['Iris-virginica']\n",
            " ['Iris-setosa']\n",
            " ['Iris-virginica']\n",
            " ['Iris-versicolor']\n",
            " ['Iris-versicolor']\n",
            " ['Iris-virginica']\n",
            " ['Iris-virginica']\n",
            " ['Iris-virginica']\n",
            " ['Iris-virginica']\n",
            " ['Iris-setosa']\n",
            " ['Iris-virginica']\n",
            " ['Iris-virginica']\n",
            " ['Iris-virginica']\n",
            " ['Iris-setosa']\n",
            " ['Iris-versicolor']\n",
            " ['Iris-versicolor']\n",
            " ['Iris-versicolor']\n",
            " ['Iris-versicolor']\n",
            " ['Iris-versicolor']\n",
            " ['Iris-setosa']\n",
            " ['Iris-setosa']\n",
            " ['Iris-virginica']\n",
            " ['Iris-versicolor']\n",
            " ['Iris-versicolor']\n",
            " ['Iris-virginica']\n",
            " ['Iris-versicolor']\n",
            " ['Iris-virginica']\n",
            " ['Iris-setosa']\n",
            " ['Iris-virginica']\n",
            " ['Iris-setosa']\n",
            " ['Iris-virginica']\n",
            " ['Iris-versicolor']\n",
            " ['Iris-versicolor']\n",
            " ['Iris-versicolor']\n",
            " ['Iris-setosa']\n",
            " ['Iris-virginica']\n",
            " ['Iris-versicolor']\n",
            " ['Iris-virginica']\n",
            " ['Iris-setosa']\n",
            " ['Iris-setosa']\n",
            " ['Iris-versicolor']\n",
            " ['Iris-setosa']\n",
            " ['Iris-setosa']\n",
            " ['Iris-virginica']\n",
            " ['Iris-versicolor']\n",
            " ['Iris-setosa']\n",
            " ['Iris-setosa']\n",
            " ['Iris-virginica']\n",
            " ['Iris-virginica']\n",
            " ['Iris-setosa']\n",
            " ['Iris-setosa']\n",
            " ['Iris-setosa']\n",
            " ['Iris-setosa']\n",
            " ['Iris-virginica']\n",
            " ['Iris-setosa']\n",
            " ['Iris-setosa']\n",
            " ['Iris-virginica']\n",
            " ['Iris-virginica']\n",
            " ['Iris-virginica']\n",
            " ['Iris-versicolor']\n",
            " ['Iris-versicolor']\n",
            " ['Iris-virginica']\n",
            " ['Iris-versicolor']\n",
            " ['Iris-setosa']\n",
            " ['Iris-setosa']\n",
            " ['Iris-setosa']\n",
            " ['Iris-versicolor']\n",
            " ['Iris-setosa']\n",
            " ['Iris-versicolor']\n",
            " ['Iris-versicolor']\n",
            " ['Iris-setosa']\n",
            " ['Iris-versicolor']\n",
            " ['Iris-virginica']\n",
            " ['Iris-versicolor']\n",
            " ['Iris-versicolor']\n",
            " ['Iris-virginica']\n",
            " ['Iris-virginica']\n",
            " ['Iris-versicolor']\n",
            " ['Iris-versicolor']\n",
            " ['Iris-versicolor']\n",
            " ['Iris-versicolor']\n",
            " ['Iris-versicolor']\n",
            " ['Iris-virginica']\n",
            " ['Iris-setosa']\n",
            " ['Iris-versicolor']\n",
            " ['Iris-setosa']\n",
            " ['Iris-versicolor']\n",
            " ['Iris-versicolor']\n",
            " ['Iris-virginica']\n",
            " ['Iris-versicolor']]\n"
          ],
          "name": "stdout"
        }
      ]
    },
    {
      "cell_type": "code",
      "metadata": {
        "id": "tz877knFY-hs",
        "colab_type": "code",
        "outputId": "40d5376f-aae6-4d44-dd03-2e388256b8e7",
        "colab": {
          "base_uri": "https://localhost:8080/",
          "height": 235
        }
      },
      "source": [
        "min_max_scaler = preprocessing.MinMaxScaler(feature_range=(0,1)) #inisialisasi normalisasi MinMax\n",
        "data2 = min_max_scaler.fit_transform(X) #transformasi MinMax untuk fitur\n",
        "dataset = pd.DataFrame({'sepal_length':data2[:,0],'sepal_width':data2[:,1],'petal_length Score':data2[:,2],'petal_width':data2[:,3],'species':array[:,4]})\n",
        "\n",
        "print(\"dataset setelah dinormalisasi :\")\n",
        "print(dataset.head(10))"
      ],
      "execution_count": 0,
      "outputs": [
        {
          "output_type": "stream",
          "text": [
            "dataset setelah dinormalisasi :\n",
            "   sepal_length  sepal_width  petal_length Score  petal_width          species\n",
            "0      0.151515     0.636364            0.084746     0.041667      Iris-setosa\n",
            "1      0.515152     0.227273            0.677966     0.750000   Iris-virginica\n",
            "2      0.393939     0.454545            0.542373     0.583333  Iris-versicolor\n",
            "3      0.333333     0.272727            0.423729     0.375000  Iris-versicolor\n",
            "4      0.939394     0.363636            0.966102     0.791667   Iris-virginica\n",
            "5      0.424242     0.454545            0.644068     0.708333   Iris-virginica\n",
            "6      0.636364     0.590909            0.796610     1.000000   Iris-virginica\n",
            "7      0.363636     0.318182            0.525424     0.375000  Iris-versicolor\n",
            "8      0.272727     0.136364            0.508475     0.500000  Iris-versicolor\n",
            "9      0.606061     0.454545            0.576271     0.541667  Iris-versicolor\n"
          ],
          "name": "stdout"
        }
      ]
    },
    {
      "cell_type": "markdown",
      "metadata": {
        "id": "V3e5lfE6mRlD",
        "colab_type": "text"
      },
      "source": [
        "## 4.3 Standardization\n",
        "Standardization adalah proses untuk konversi nilai-nilai dari suatu fitur sehingga nilai-nilai tersebut memiliki skala yang sama. Z score adalah metode paling populer untuk standardisasi di mana setiap nilai pada sebuah atribut numerik akan dikurangi dengan rata-rata dan dibagi dengan standar deviasi dari seluruh nilai pada sebuah kolom atribut.\n",
        "\n",
        "$ z = \\frac{Nilai - Ratarata}{Standar Deviasi} $\n",
        "\n",
        "Fungsi standarisasi sama dengan normalization. Keduanya berfungsi menyamakan skala nilai dari tiap atribut pada data. SKLearn menyediakan library untuk mengaplikasikan standard scaler pada data.\n",
        "\n",
        "![alt text](https://drive.google.com/uc?id=1xqjevGzHYdHj359GgD99huP-AQFDvFS2)\n",
        "\n",
        "Pada colab di cell pertama, kita akan mengimport library preprocessing dari scikit learn lalu membuat data dummy sesuai dengan tabel di atas.\n",
        "\n",
        "\n",
        "\n",
        "```\n",
        "from sklearn import preprocessing\n",
        "data = [[12000000, 33], [35000000, 45], [4000000, 23], [6500000, 26], [9000000, 29]]\n",
        "```\n",
        "\n",
        "Selanjutnya kita buat object scaler dan panggil fungsi fit dari scaler pada data. Fungsi fit memiliki fungsi untuk menghitung rata-rata dan deviasi standar dari setiap kolom atribut untuk kemudian dipakai pada fungsi transform.\n",
        "\n",
        "\n",
        "\n",
        "```\n",
        "scaler = preprocessing.StandardScaler().fit(data)\n",
        "```\n",
        "\n",
        "Terakhir, kita panggil fungsi transform untuk mengaplikasikan standard scaler pada data. Untuk melihat hasil dari standard scaler kita tinggal memanggil objek scaler yang telah kita buat sebelumnya. Kodenya sebagai berikut.\n",
        "\n",
        "\n",
        "\n",
        "```\n",
        "data = scaler.transform(data)\n",
        "data\n",
        "```\n",
        "\n",
        "\n",
        "\n",
        "\n"
      ]
    },
    {
      "cell_type": "code",
      "metadata": {
        "id": "RUDUORIWnbUZ",
        "colab_type": "code",
        "outputId": "73a4d91d-1871-4473-a614-40bf5dfff66d",
        "colab": {
          "base_uri": "https://localhost:8080/",
          "height": 108
        }
      },
      "source": [
        "from sklearn import preprocessing\n",
        "data = [[12000000, 33], [35000000, 45], [4000000, 23], [6500000, 26], [9000000, 29]]\n",
        "\n",
        "scaler = preprocessing.StandardScaler().fit(data)\n",
        "\n",
        "data = scaler.transform(data)\n",
        "data"
      ],
      "execution_count": 0,
      "outputs": [
        {
          "output_type": "execute_result",
          "data": {
            "text/plain": [
              "array([[-0.11638732,  0.23521877],\n",
              "       [ 1.94277296,  1.80334389],\n",
              "       [-0.83261698, -1.07155217],\n",
              "       [-0.60879521, -0.67952089],\n",
              "       [-0.38497344, -0.28748961]])"
            ]
          },
          "metadata": {
            "tags": []
          },
          "execution_count": 4
        }
      ]
    },
    {
      "cell_type": "markdown",
      "metadata": {
        "id": "qGNVG1kXnqZl",
        "colab_type": "text"
      },
      "source": [
        "https://scikit-learn.org/stable/modules/generated/sklearn.preprocessing.StandardScaler.html"
      ]
    },
    {
      "cell_type": "markdown",
      "metadata": {
        "id": "X41brSpqo9FM",
        "colab_type": "text"
      },
      "source": [
        "# 5. Dataset"
      ]
    },
    {
      "cell_type": "markdown",
      "metadata": {
        "id": "8Eop-cmJpCVa",
        "colab_type": "text"
      },
      "source": [
        "Dataset yang telah diproses kemudian siap kita proses dengan machine learning. Satu-satunya cara untuk mengetahui apakah model machine learning kita bagus atau tidak adalah dengan mengujinya pada kasus yang belum pernah ia hadapi. Kita bisa membuat sebuah model dan langsung mengujinya pada tahap produksi dan memonitor kualitasnya. Hal ini masuk akal, tapi jika ternyata model yang kita kembangkan bekerja dengan buruk, pelanggan dan klien kita akan komplain.\n",
        "\n",
        "## 5.1 Training set dan Test set\n",
        "Pilihan yang lebih baik adalah dengan membagi dataset menjadi 2 bagian yaitu data training dan data testing. Dengan demikian, kita bisa melakukan pelatihan model pada train set, dan mengujinya pada test set.\n",
        "\n",
        "![alt text](https://drive.google.com/uc?id=1J2UyoLjFYZ8bilZRDZn98ZpOqBF9MD73)\n",
        "\n",
        "Dengan menguji model terhadap data testing, kita dapat melihat kesalahan yang dibuat dan memperbaikinya sebelum mulai membawa model kita ke tahap produksi. Data testing diambil dengan proporsi tertentu \n",
        "\n",
        "\n",
        "> umumnya 20% dari keseluruhan data jika jumlah datanya kecil. Jika ukuran datanya sangat besar seperti 1 juta record, kita dapat mengambil sekitar 10 ribu data saja untuk testing alias sebesar 1% saja.\n",
        "\n",
        "\n"
      ]
    },
    {
      "cell_type": "markdown",
      "metadata": {
        "id": "SVuRMvhepzWB",
        "colab_type": "text"
      },
      "source": [
        "### Latihan SKLearn Train Test Split\n",
        "Library Scikit Learn menyediakan fungsi untuk membagi dataset menjadi train set (data training) dan test set (data testing)."
      ]
    },
    {
      "cell_type": "markdown",
      "metadata": {
        "id": "G-3QJxX4rB9b",
        "colab_type": "text"
      },
      "source": [
        "Library sklearn menyediakan dataset iris yakni sebuah dataset yang umum digunakan untuk masalah klasifikasi. Dataset ini memiliki jumlah 150 sampel. Untuk mendapatkan dataset, kita bisa menulis kode berikut pada cell baru."
      ]
    },
    {
      "cell_type": "code",
      "metadata": {
        "id": "2bISEjzoqOKj",
        "colab_type": "code",
        "colab": {}
      },
      "source": [
        "import sklearn\n",
        "from sklearn import datasets\n",
        "from sklearn.model_selection import train_test_split"
      ],
      "execution_count": 0,
      "outputs": []
    },
    {
      "cell_type": "markdown",
      "metadata": {
        "id": "sZzPWJvorExD",
        "colab_type": "text"
      },
      "source": [
        "Dataset iris dari library sklearn belum dapat langsung dipakai oleh sebuah model ML. Sesuai dengan yang telah dibahas pada modul terdahulu, kita harus memisahkan antara atribut dan label pada dataset."
      ]
    },
    {
      "cell_type": "code",
      "metadata": {
        "id": "bnZMeIevqWbk",
        "colab_type": "code",
        "colab": {}
      },
      "source": [
        "iris = datasets.load_iris()"
      ],
      "execution_count": 0,
      "outputs": []
    },
    {
      "cell_type": "code",
      "metadata": {
        "id": "KgHOuhDRqalq",
        "colab_type": "code",
        "colab": {}
      },
      "source": [
        "x=iris.data #Attribut\n",
        "y=iris.target #Label"
      ],
      "execution_count": 0,
      "outputs": []
    },
    {
      "cell_type": "markdown",
      "metadata": {
        "id": "thVmTBaTrQBo",
        "colab_type": "text"
      },
      "source": [
        "Untuk membuat train set dan test set kita tinggal memanggil fungsi train_test_split. Train_test_split memiliki parameter x yaitu atribut dari dataset, y yaitu target dari dataset, dan test_size yaitu persentase dari test \n",
        "\n",
        "set dari dataset utuh. Train_test_split mengembalikan 4 nilai yaitu, atribut dari train set, atribut  dari test set, target dari train set, dan target dari test set."
      ]
    },
    {
      "cell_type": "code",
      "metadata": {
        "id": "zt-SZk6JrRBI",
        "colab_type": "code",
        "colab": {}
      },
      "source": [
        "x_train, x_test, y_train, y_test = train_test_split(x, y, test_size=0.2) #  test size/train size = 20/80"
      ],
      "execution_count": 0,
      "outputs": []
    },
    {
      "cell_type": "markdown",
      "metadata": {
        "id": "-DsS6i6TrmTs",
        "colab_type": "text"
      },
      "source": [
        "Ketika kita print panjang dari x_test, kita bisa melihat bahwa panjang dari atribut test set adalah 30 sampel, sesuai dengan parameter yang kita masukkan pada fungsi train_test_split yaitu 0.2 atau 20% dari 150 sampel. Kode untuk print panjang dari x_test seperti di bawah ini"
      ]
    },
    {
      "cell_type": "code",
      "metadata": {
        "id": "K3TeaUu5rhOn",
        "colab_type": "code",
        "outputId": "a9bdf729-daef-4981-a480-1bdf72b85f91",
        "colab": {
          "base_uri": "https://localhost:8080/",
          "height": 35
        }
      },
      "source": [
        "len(x_test)"
      ],
      "execution_count": 0,
      "outputs": [
        {
          "output_type": "execute_result",
          "data": {
            "text/plain": [
              "30"
            ]
          },
          "metadata": {
            "tags": []
          },
          "execution_count": 59
        }
      ]
    },
    {
      "cell_type": "markdown",
      "metadata": {
        "id": "6Sn9OYlfrzKm",
        "colab_type": "text"
      },
      "source": [
        "Pada tahap ini dataset kita sudah bisa dipakai pada sebuah model machine learning.\n",
        "\n"
      ]
    },
    {
      "cell_type": "markdown",
      "metadata": {
        "id": "DqDGMMz8lM4I",
        "colab_type": "text"
      },
      "source": [
        "# 6. Data Evaluation\n",
        "\n",
        "Pada submodul sebelumnya kita telah belajar bagaimana menggunakan test set untuk mengevaluasi model sebelum masuk ke tahap produksi. \n",
        "\n",
        "Sekarang bayangkan ketika kita bertugas untuk mengembangkan sebuah proyek ML. Kita bimbang dalam memilih model yang akan dipakai, katakanlah dari 10 jenis model yang tersedia. Salah satu opsinya adalah dengan melatih kedua model tersebut lalu membandingkan tingkat erornya pada test set. Setelah membandingkan kedua model, Anda mendapati model regresi linier memiliki tingkat eror yang paling kecil katakanlah sebesar 5%. Anda lalu membawa model tersebut ke tahap produksi.\n",
        "\n",
        "Kemudian ketika model diuji pada tahap produksi, tingkat eror ternyata sebesar 15%. Kenapa ini terjadi?. Masalah ini disebabkan karena kita mengukur tingkat eror berulang kali pada test set. Kita secara tidak sadar telah memilih model yang hanya bekerja dengan baik pada test set tersebut. Hal ini menyebabkan model tidak bekerja dengan baik ketika menemui data baru. Solusi paling umum dari masalah ini adalah dengan menggunakan validation set.\n",
        "\n"
      ]
    },
    {
      "cell_type": "markdown",
      "metadata": {
        "id": "kOhfIymrljvH",
        "colab_type": "text"
      },
      "source": [
        "##Train test validation set\n",
        "Validation set atau holdout validation adalah bagian dari train set yang dipakai untuk pengujian model pada tahap awal. Secara sederhana, kita menguji beberapa model dengan hyperparameter yang berbeda pada data training yang telah dikurangi data untuk validation. Lalu kita pilih model serta hyperparameter yang bekerja paling baik pada validation set. Setelah proses pengujian pada holdout validation, kita bisa melatih model menggunakan data training yang utuh (data training termasuk data validation) untuk mendapatkan model final. Terakhir kita mengevaluasi model final pada test set untuk melihat tingkat erornya.\n",
        "\n",
        "![alt text](https://drive.google.com/uc?id=1-2_xD-sSFAWtFX45ayYiHoEDQX29DThQ)\n",
        "\n",
        "Dalam menggunakan holdout validation, ada beberapa hal yang harus dipertimbangkan. Jika ukuran validation set-nya terlalu kecil, maka ada kemungkinan kita memilih model yang tidak optimal. Ketika ukuran validation set terlalu besar, maka sisa data pada train set lebih kecil dari data train set utuh di mana kondisi ini tidak ideal untuk membandingkan model yang berbeda pada data training yang lebih kecil. Solusi untuk masalah ini adalah dengan menggunakan **Cross Validation**\n",
        "\n",
        "###Cross validation\n",
        "K-Fold Cross Validation atau lebih sering disebut cross validation adalah salah satu teknik yang populer dipakai dalam evaluasi model ML. Pada cross validation, dataset dibagi sebanyak K lipatan. Pada setiap iterasi, setiap lipatan akan dipakai satu kali sebagai data uji dan lipatan sisanya dipakai sebagai data latih. Dengan menggunakan cross validation kita akan dapat hasil evaluasi yang lebih akurat karena model dievaluasi dengan seluruh data. Berikut adalah ilustrasi dari cross validation.\n",
        "\n",
        "![alt text](https://drive.google.com/uc?id=1uvidr-8DO4cd4E2sicDa9WygBNWpvUiR)"
      ]
    },
    {
      "cell_type": "markdown",
      "metadata": {
        "id": "nrlYVhWNrdYW",
        "colab_type": "text"
      },
      "source": [
        "## Latihan SKLearn Cross Validation Split"
      ]
    },
    {
      "cell_type": "markdown",
      "metadata": {
        "id": "D3u9itdKrfPe",
        "colab_type": "text"
      },
      "source": [
        "Library SKLearn menyediakan fungsi cross_val_score untuk menghitung hasil dari cross validation sebuah classifier bawaan sklearn. Pada coding practice kali ini kita akan menggunakan cross_validation_score pada classifier decision_tree. Dataset yang digunakan adalah dataset iris.\n",
        "\n",
        "Pada Colab kita import semua library yang dibutuhkan di cell pertama. Dataset yang akan kita gunakan adalah dataset iris yang dipakai pada submodul sebelumnya."
      ]
    },
    {
      "cell_type": "code",
      "metadata": {
        "id": "FWn9rdbDrbMV",
        "colab_type": "code",
        "colab": {}
      },
      "source": [
        "import sklearn\n",
        "from sklearn import datasets\n",
        "from sklearn.model_selection import cross_val_score\n",
        "from sklearn import  tree\n",
        "iris = datasets.load_iris()"
      ],
      "execution_count": 0,
      "outputs": []
    },
    {
      "cell_type": "markdown",
      "metadata": {
        "id": "ABjQI7haryv0",
        "colab_type": "text"
      },
      "source": [
        "Kemudian kita bagi antara atribut dan label pada dataset."
      ]
    },
    {
      "cell_type": "code",
      "metadata": {
        "id": "nmutmv2grsEk",
        "colab_type": "code",
        "colab": {}
      },
      "source": [
        "x=iris.data\n",
        "y=iris.target"
      ],
      "execution_count": 0,
      "outputs": []
    },
    {
      "cell_type": "markdown",
      "metadata": {
        "id": "b2iZtEkJsQkb",
        "colab_type": "text"
      },
      "source": [
        "Kita akan membuat model machine learning pertama kita yaitu decision tree, menggunakan library scikit learn. Model machine learning juga sering disebut sebagai classifier. Lebih lanjut, variabel clf adalah singkatan dari classifier."
      ]
    },
    {
      "cell_type": "code",
      "metadata": {
        "id": "cdK_tNjDrsol",
        "colab_type": "code",
        "colab": {}
      },
      "source": [
        "clf = tree.DecisionTreeClassifier()"
      ],
      "execution_count": 0,
      "outputs": []
    },
    {
      "cell_type": "markdown",
      "metadata": {
        "id": "nomKtNB1sd3I",
        "colab_type": "text"
      },
      "source": [
        "Setelah dataset dan model siap, kita bisa menggunakan cross validation untuk mengevaluasi performa dari model machine learning. Fungsi cross_val_score seperti di bawah menerima 4 parameter yaitu, ‘clf’ yang merupakan model machine learning, ‘X’ yang merupakan atribut dari dataset, ‘y’ yang merupakan label dari dataset, dan ‘cv’ yang merupakan jumlah fold yang akan dipakai pada cross validation."
      ]
    },
    {
      "cell_type": "code",
      "metadata": {
        "id": "7qFrFQfLr5S1",
        "colab_type": "code",
        "colab": {}
      },
      "source": [
        "score = cross_val_score(clf,x,y,cv=5)"
      ],
      "execution_count": 0,
      "outputs": []
    },
    {
      "cell_type": "markdown",
      "metadata": {
        "id": "RJ0P7RKFspvz",
        "colab_type": "text"
      },
      "source": [
        "Cross_val_score mengembalikan nilai berupa larik atau array yang terdiri dari akurasi pengujian setiap fold dari dataset. Untuk mencetak dan mengetahui hasilnya, tambahkan kode scores di bawah kode sebelumnya. Tampilannya seperti gambar di bawah ini."
      ]
    },
    {
      "cell_type": "code",
      "metadata": {
        "id": "k9hCQYoIsq1o",
        "colab_type": "code",
        "colab": {
          "base_uri": "https://localhost:8080/",
          "height": 35
        },
        "outputId": "6e6a652d-313c-4883-836b-b1e7436368f6"
      },
      "source": [
        "score"
      ],
      "execution_count": 91,
      "outputs": [
        {
          "output_type": "execute_result",
          "data": {
            "text/plain": [
              "array([0.96666667, 0.96666667, 0.9       , 0.93333333, 1.        ])"
            ]
          },
          "metadata": {
            "tags": []
          },
          "execution_count": 91
        }
      ]
    },
    {
      "cell_type": "markdown",
      "metadata": {
        "id": "Ah73ILc_s1XV",
        "colab_type": "text"
      },
      "source": [
        "Elemen pertama dari larik menunjukkan nilai 0.96666 yang berarti ketika fold pertama dijadikan validation set dan fold lainnya dijadikan train set, hasil dari pengujian tersebut adalah akurasi sebesar 0.96666. \n",
        "\n",
        "Melihat akurasi dari seluruh pengujian fold yang memiliki nilai tinggi dan konsisten pada tiap fold, kita mendapatkan gambaran bahwa model kita memiliki performa yang sangat baik.\n",
        "\n",
        "Secara umum jika hasil dari pengujian tiap fold pada cross validation memiliki nilai yang bervariasi dari 0.85 sampai 0.99, maka model tersebut dapat dikatakan baik."
      ]
    }
  ]
}