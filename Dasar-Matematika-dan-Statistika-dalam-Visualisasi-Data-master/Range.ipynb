{
  "nbformat": 4,
  "nbformat_minor": 0,
  "metadata": {
    "colab": {
      "name": "Range.ipynb",
      "provenance": [],
      "authorship_tag": "ABX9TyOlaz9Nc3b80n31sgID4Mb/",
      "include_colab_link": true
    },
    "kernelspec": {
      "name": "python3",
      "display_name": "Python 3"
    }
  },
  "cells": [
    {
      "cell_type": "markdown",
      "metadata": {
        "id": "view-in-github",
        "colab_type": "text"
      },
      "source": [
        "<a href=\"https://colab.research.google.com/github/Abdurrasyiid/Dasar-Visualisasi-Data/blob/master/Range.ipynb\" target=\"_parent\"><img src=\"https://colab.research.google.com/assets/colab-badge.svg\" alt=\"Open In Colab\"/></a>"
      ]
    },
    {
      "cell_type": "markdown",
      "metadata": {
        "id": "K-Ahafinme90",
        "colab_type": "text"
      },
      "source": [
        "# Range\n",
        "Dalam kumpulan data yang berbentuk angka pasti ada nilai maksimum dan minimumnya. Range atau bisa disebut dengan rentang data merupakan selisih antara data maksimum dan minimum tersebut. Rumus dari range sebagai berikut.\n",
        "\n",
        "$ R = Max - Min$\n",
        "\n",
        "Terdapat kumpulan data dengan nilai sebagai berikut:\n",
        "\n",
        "\n",
        "```\n",
        "10, 30, 30, 25, 40, 50, 20\n",
        "```\n",
        "\n",
        "Untuk menentukan range dari data di atas, kita dapat mengurutkannya terlebih dahulu mulai dari nilai terkecil sampai terbesar.\n",
        "\n",
        "\n",
        "\n",
        "```\n",
        "10, 20, 25, 30, 30, 40, 50\n",
        "```\n",
        "Setelah kita mengurutkan data, kita dapat dengan mudah mengetahui bahwa nilai paling kecil adalah 10 dan nilai yang paling besar adalah 50. Sehingga range dari data tersebut bisa mudah dihitung yaitu, \n",
        "\n",
        "$50 - 10 = 40$\n",
        "\n"
      ]
    },
    {
      "cell_type": "code",
      "metadata": {
        "id": "vmnOtNaJmcO2",
        "colab_type": "code",
        "colab": {
          "base_uri": "https://localhost:8080/",
          "height": 35
        },
        "outputId": "880488cc-67b6-4af8-ae47-ada8d1d950eb"
      },
      "source": [
        "x = [10, 30, 30, 25, 40, 50, 20]\n",
        "\n",
        "x_max = max(x)\n",
        "x_min = min(x)\n",
        "\n",
        "range = x_max - x_min\n",
        "print(range)"
      ],
      "execution_count": 1,
      "outputs": [
        {
          "output_type": "stream",
          "text": [
            "40\n"
          ],
          "name": "stdout"
        }
      ]
    },
    {
      "cell_type": "code",
      "metadata": {
        "id": "roC2mlXynV9x",
        "colab_type": "code",
        "colab": {}
      },
      "source": [
        ""
      ],
      "execution_count": 0,
      "outputs": []
    }
  ]
}