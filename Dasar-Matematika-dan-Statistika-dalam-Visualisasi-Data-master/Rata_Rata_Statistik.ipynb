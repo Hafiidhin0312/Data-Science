{
  "nbformat": 4,
  "nbformat_minor": 0,
  "metadata": {
    "colab": {
      "name": "Rata-Rata Statistik.ipynb",
      "provenance": [],
      "authorship_tag": "ABX9TyOa/XV09IFlVH9FE9/5OoRN",
      "include_colab_link": true
    },
    "kernelspec": {
      "name": "python3",
      "display_name": "Python 3"
    }
  },
  "cells": [
    {
      "cell_type": "markdown",
      "metadata": {
        "id": "view-in-github",
        "colab_type": "text"
      },
      "source": [
        "<a href=\"https://colab.research.google.com/github/Abdurrasyiid/Dasar-Visualisasi-Data/blob/master/Rata_Rata_Statistik.ipynb\" target=\"_parent\"><img src=\"https://colab.research.google.com/assets/colab-badge.svg\" alt=\"Open In Colab\"/></a>"
      ]
    },
    {
      "cell_type": "markdown",
      "metadata": {
        "id": "wqwgXOWQLyQH",
        "colab_type": "text"
      },
      "source": [
        "# **Rata - Rata Statistik** "
      ]
    },
    {
      "cell_type": "markdown",
      "metadata": {
        "id": "Ip2MT0q1L2e4",
        "colab_type": "text"
      },
      "source": [
        "# Rata - Rata Aritmatika"
      ]
    },
    {
      "cell_type": "markdown",
      "metadata": {
        "id": "V35Gq5VVMOp7",
        "colab_type": "text"
      },
      "source": [
        "Mean atau sering kita kenal dengan nilai rata-rata mengacu pada nilai yang dalam statistik kita sebut dengan rata-rata aritmatika atau arithmetic mean. Masih ingat cara menghitung rata-rata? Dalam menghitung rata-rata kita mulai dengan menjumlahkan semua elemen data yang ada. Selanjutnya hasil penjumlahan tersebut kita bagi dengan total elemen yang ada. Misalnya kita mempunyai data sebagai berikut:\n",
        "\n",
        "Pada sebuah ulangan matematika, nilai yang didapatkan oleh 10 siswa sebagai berikut:\n",
        "\n",
        "\n",
        "\n",
        "```\n",
        "65,70,75,70,80,60,80,90,70,65\n",
        "```\n",
        "\n",
        "Berapa rata-rata (arithmetic mean) nilai ulangan matematika dari 10 siswa tersebut?\n",
        "\n",
        "Apabila kita menggunakan cara perhitungan seperti yang sudah dijelaskan sebelumnya, maka rumusnya seperti berikut:\n",
        "\n",
        "> $x=x_{1} + x_{2} + x_{3} + .... + x_{n} = \\frac{1}{n} \\sum_{i=1}^{n} x_{i}$\n",
        "\n",
        "Sehingga,\n",
        "\n",
        ">$\\frac{65 + 70 + 75 + 70 + 80 + 60 + 80 + 90 + 70 + 65}{10}=72,5$"
      ]
    },
    {
      "cell_type": "code",
      "metadata": {
        "id": "s2MvgiQpMU1n",
        "colab_type": "code",
        "colab": {
          "base_uri": "https://localhost:8080/",
          "height": 35
        },
        "outputId": "2fb80e6b-aa8a-4c55-8f1c-65c5d951bd30"
      },
      "source": [
        "x = [65,70,75,70,80,60,80,90,70,65]\n",
        "y = len(x)\n",
        "jum = 0\n",
        "\n",
        "for i in x :\n",
        "  jum+=i\n",
        "\n",
        "Mean = jum/y\n",
        "print(format(Mean,\".2f\"))"
      ],
      "execution_count": 1,
      "outputs": [
        {
          "output_type": "stream",
          "text": [
            "72.50\n"
          ],
          "name": "stdout"
        }
      ]
    },
    {
      "cell_type": "markdown",
      "metadata": {
        "id": "o74-1RIjMchL",
        "colab_type": "text"
      },
      "source": [
        "# Rata - rata Harmonik"
      ]
    },
    {
      "cell_type": "markdown",
      "metadata": {
        "id": "SWh2rSfVMf6D",
        "colab_type": "text"
      },
      "source": [
        "Rata-rata harmonik bisa dikatakan sebagai kebalikan dari rata-rata aritmatika. Kenapa demikian? Karena jumlah data dibagi dengan pecahan data ke-i dengan pembilang 1 (1/xi). Apabila dituliskan dalam rumus matematika menjadi sebagai berikut:\n",
        "\n",
        "$H=\\frac{n}{\\sum_{i=1}^{n} (\\frac{1}{x_i})}$\n",
        "\n",
        "Diketahui bahwa:\n",
        "\n",
        "H = rata-rata harmonik\n",
        "\n",
        "n = banyak data\n",
        "\n",
        "$x_{i}$ = nilai data ke- ${i}$\n",
        "\n",
        "Untuk memperjelas rumus di atas, berikut terdapat contoh beberapa angka:\n",
        "\n",
        "```\n",
        "2,3,5,6,6\n",
        "```\n",
        "Dari angka di atas apabila ingin didapatkan rata-rata harmoniknya maka penerapannya dengan rumus sebagai berikut:\n",
        "\n",
        "$H=\\frac{5} {\\frac{1}{2}+\\frac{1}{3}+\\frac{1}{5}+\\frac{1}{6}+\\frac{1}{6}}$\n",
        "$H = 3,66 $\n",
        "\n",
        "---\n",
        "KASUS 1\n",
        "\n",
        "rata-rata harmonik memiliki kelebihan untuk beberapa kasus data misalnya data kecepatan dan data yang mengandung outlier.\n",
        "\n",
        "Jika kita lihat referensi-referensi mengenai rata-rata harmonik, maka akan kita dapati contoh data yang digunakan dalam menghitung rata-rata harmonik adalah data kecepatan. Rata-rata kecepatan memang sebaiknya dihitung menggunakan rata-rata harmonik.\n",
        "\n",
        " \n",
        "\n",
        "Kenapa demikian? Coba simak ilustrasi berikut.\n",
        "\n",
        "\n",
        "---\n",
        "> Misalkan Alesha menegendarai mobil dari kota A ke kota B yang berjarak 60 km dengan kecepatan 60 km/jam. Sesampai di kota B, Alesha langsung kembali lagi ke kota A dengan kecepatan 30 km/jam. Berapakah rata-rata kecepatan mobil yang dikendarai oleh Alesha dari kota A ke kota B dan kembali lagi ke kota A?\n",
        "\n",
        "\n",
        "\n",
        ">Jika rata-rata yang kita gunakan adalah rata-rata aritmatik, maka nilai rata-rata kecepatan mobil yang dikendarai Alesha adalah $\\frac{1}{2}(60+30)=45$ \n",
        "\n",
        ">Sebenarnya nilai rata-rata ini ***bias*** karena tidak menggambarkan rata-rata yang sebenarnya.\n",
        "---\n",
        "\n",
        "**Kenapa bisa bias?**\n",
        "\n",
        "Begini penjelasannya.\n",
        "\n",
        "\n",
        "---\n",
        "\n",
        "\n",
        "Jika Alesha mengendarai mobil dari kota A ke kota B yang berjarak 60 km dengan kecepatan 60 km/jam, maka waktu tempuh yang ia butuhkan adalah 1 jam. Kemudian ia kembali lagi ke kota A dengan kecepatan 30 km/jam. Dengan kecepatan 30 km/jam tersebut, waktu yang dibutuhkan Alesha untuk kembali adalah 2 jam. Artinya jarak perjalanan yang ditempuh Alesha adalah 120 km (60 km pergi dan 60 km pulang) dan waktu tempuh yang dibutuhkannya adalah 3 jam (1 jam pergi dan 2 jam pulang). Dengan demikian kecepatan mobil Alesha pergi-pulang adalah $\\frac{120\\text{ km}}{3\\text{ jam}}=40$ \n",
        "\n",
        "Kecepatan mobil yang dikendarai Alesha pergi-pulang ternyata berbeda dengan hasil hitungan rata-rata aritmatik. Oleh karena itu rata-rata aritmatik tidak tepat dalam mengestimasi rata-rata sebenarnya.\n",
        "\n",
        "---\n",
        "\n",
        "Bagaimana dengan rata-rata harmonik?\n",
        "\n",
        "Mari kita lakukan penghitungan dengan menggunakan rata-rata harmonik.\n",
        "\n",
        "\\begin{aligned} H&=\\frac{n}{\\displaystyle\\sum_{i=1}^n\\frac{1}{x_i}}\\\\ &=\\frac{2}{\\displaystyle\\frac{1}{60}+\\frac{1}{30}}\\\\ &=40 \\end{aligned} \n",
        "\n",
        "Nilai rata-rata harmonik ternyata sama dengan rata-rata sebenarnya yaitu 40 km/jam. Oleh karena itu untuk kasus seperti ini rata-rata harmonik lebih tepat digunakan daripada rata-rata aritmatik.\n",
        "\n",
        "---\n",
        "KASUS 2\n",
        "--- ​Rata-rata Harmonik untuk Data Yang Mengandung Outlier (Pencilan)\n",
        "\n",
        "---\n",
        "\n",
        "Rata-rata harmonik sangat sensitif dengan data yang bernilai rendah. Kondisi ini membuat rata-rata harmonik sangat baik digunakan untuk data yang memiliki outlier dimana outlier tersebut memiliki nilai jauh lebih besar secara signifikan.\n",
        "\n",
        "Misalkan diberikan data\n",
        "\n",
        "\n",
        "\n",
        "```\n",
        "4, 5, 4, 40, 3, 5, 6, 5\n",
        "```\n",
        "\n",
        "\n",
        "\n",
        "Rata-rata aritmatik dari data tersebut adalah 9. Rata-rata tersebut tentu kurang memberikan gambaran keterwakilan data. Jika kita gunakan rata-rata harmonik, maka rata-ratanya adalah 4,92. Rata-rata ini cukup memberikan gambaran keterwakilan data.\n",
        "\n",
        "menghitung rata-rata harmonik pada data yang mengandung outlier di atas dapat disimpulkan bahwa rata-rata harmonik sangat baik digunakan jika sebagian besar nilai data terdistribusi secara merata tetapi terdapat beberapa outlier dengan nilai yang lebih besar secara signifikan."
      ]
    },
    {
      "cell_type": "code",
      "metadata": {
        "id": "WU_6hZ-IM-ih",
        "colab_type": "code",
        "colab": {
          "base_uri": "https://localhost:8080/",
          "height": 35
        },
        "outputId": "d55c8d5a-83fe-4a66-80b7-e2cd65ee7044"
      },
      "source": [
        "#Kasus 1\n",
        "kecepatan = [60,30]\n",
        "n = len(kecepatan)\n",
        "jumlah = 0\n",
        "for i in kecepatan :\n",
        "  jumlah+=1/i\n",
        "\n",
        "Harmonik = n/jumlah\n",
        "print(Harmonik)\n"
      ],
      "execution_count": 2,
      "outputs": [
        {
          "output_type": "stream",
          "text": [
            "40.0\n"
          ],
          "name": "stdout"
        }
      ]
    },
    {
      "cell_type": "code",
      "metadata": {
        "id": "Z3qi5MhtNHCg",
        "colab_type": "code",
        "colab": {
          "base_uri": "https://localhost:8080/",
          "height": 35
        },
        "outputId": "cda83949-5535-412b-d324-74229965b5d0"
      },
      "source": [
        "#Kasus 2\n",
        "x = [4, 5, 4, 40, 3, 5, 6, 5]\n",
        "n = len(x)\n",
        "jumlah = 0\n",
        "for i in x :\n",
        "  jumlah+=1/i\n",
        "\n",
        "Harmonik = n/jumlah\n",
        "print(format(Harmonik, \".2f\"))"
      ],
      "execution_count": 3,
      "outputs": [
        {
          "output_type": "stream",
          "text": [
            "4.92\n"
          ],
          "name": "stdout"
        }
      ]
    },
    {
      "cell_type": "markdown",
      "metadata": {
        "id": "ooKRg87jNMco",
        "colab_type": "text"
      },
      "source": [
        "# Rata - Rata Ukur (Geometric Mean)"
      ]
    },
    {
      "cell_type": "markdown",
      "metadata": {
        "id": "vensITaGNQLO",
        "colab_type": "text"
      },
      "source": [
        "Rata-rata yang didapatkan dengan cara mengalikan semua data yang ada dalam suatu kelompok atau sampel. Kemudian data tersebut diakar pangkat dengan jumlah sampel yang ada. Karena menggunakan akar pangkat, apabila terdapat data yang memiliki nilai negatif maka perhitungan dengan rata-rata ukur (geometric mean) tidak bisa digunakan. Berikut rumus untuk menghitung rata-rata geometrik. \n",
        "\n",
        "***Metode pertama:***\n",
        "\n",
        "$ G = (x_{1}. x_{2}.x_{n})^\\frac{1}{n}$\n",
        "\n",
        "Diketahui bahwa:\n",
        "\n",
        "G = rata-rata geometrik\n",
        "\n",
        "$x_{1}...x_{n}$ = data ke-i\n",
        "\n",
        "n = banyak data\n",
        "\n",
        "Metode pertama di atas adalah rumus yang bisa digunakan dengan mudah dan efektif apabila jumlah datanya tidak terlalu banyak.\n",
        "\n",
        "Namun, jika datanya sangat banyak mencapai puluhan, ratusan, atau lebih pasti akan terasa sulit apabila menggunakan metode pertama tadi. Maka, terdapat cara kedua yaitu menggunakan logaritma. Hitung log semua data terlebih dulu, kemudian lakukan perhitungan aritmatika seperti biasanya. Lebih lengkapnya simak rumus berikut:\n",
        "\n",
        "***Metode Kedua:***\n",
        "Metode Logaritma\n",
        "\n",
        "$Log (G) = \\frac{1}{n} \\sum_{i=1}^n log(x_{i})$\n",
        "\n",
        "Diketahui bahwa:\n",
        "\n",
        "Log (G) = rata-rata geometrik\n",
        "\n",
        "$x_{i}$ = data ke-i\n",
        "\n",
        "n = banyak data\n",
        "\n",
        "\n",
        "Berikut contoh soal dari rata-rata ukur (geometric mean):\n",
        "\n",
        "Hitunglah data di bawah ini dengan rata-rata ukur baik perhitungan biasa maupun logaritma.\n",
        "\n",
        "\n",
        "\n",
        "```\n",
        "3,4,6\n",
        "```\n",
        "Dihitung dengan perhitungan rata-rata ukur biasa seperti berikut:\n",
        "\n",
        "$ G = (x_{1}. x_{2}.x_{n})^\\frac{1}{n}$\n",
        "\n",
        "$ G = (3. 4. 6)^\\frac{1}{3}$\n",
        "\n",
        "$G = 4.160$\n",
        "\n",
        "Dihitung dengan perhitungan rata-rata ukur Logaritma seperti berikut:\n",
        "\n",
        "$Log (G) = \\frac{1}{n} \\sum_{i=1}^n log(x_{i})$\n",
        "\n",
        "$Log (G) = \\frac{log(3)+log(4)+log(6)}{3}$\n",
        "\n",
        "$ G = 10^{0.6191108321..}$\n",
        "\n",
        "$ G = 4.160 $\n",
        "\n",
        "Angka 10 pada 100.61911083214375616 merupakan default log yang berarti Log(10) = 1.\n",
        "\n",
        "Sehingga dari data di atas dapat dilihat bahwa apabila datanya sederhana, lebih mudah dihitung dengan metode biasa yang pertama. Namun apabila datanya kompleks lebih baik menggunakan metode logaritma. Manapun pilihan Anda, hasilnya tetap sama."
      ]
    },
    {
      "cell_type": "code",
      "metadata": {
        "id": "3RIn2wTNNYoq",
        "colab_type": "code",
        "colab": {
          "base_uri": "https://localhost:8080/",
          "height": 35
        },
        "outputId": "fd565c14-3362-44f2-f94d-7e284021e96c"
      },
      "source": [
        "#Metode pertama\n",
        "import math\n",
        "x = [3,4,6]\n",
        "jum = 1\n",
        "n = len(x)\n",
        "y = 1/n\n",
        "for i in x :\n",
        "  jum*=i\n",
        "\n",
        "z = math.pow(jum,y)\n",
        "print(format(z,\".3f\"))"
      ],
      "execution_count": 4,
      "outputs": [
        {
          "output_type": "stream",
          "text": [
            "4.160\n"
          ],
          "name": "stdout"
        }
      ]
    },
    {
      "cell_type": "code",
      "metadata": {
        "id": "REv5o1YSNb7F",
        "colab_type": "code",
        "colab": {
          "base_uri": "https://localhost:8080/",
          "height": 35
        },
        "outputId": "f56bb29c-bf67-4dc7-a0e0-0c986bc202b0"
      },
      "source": [
        "#Metode Kedua\n",
        "\n",
        "x = [3,4,6]\n",
        "n = len(x)\n",
        "jum = 0\n",
        "for i in x :\n",
        "  jum+=math.log10(i)\n",
        "\n",
        "z = jum/n\n",
        "G = math.pow(10,z)\n",
        "print(format(G,\".3f\"))"
      ],
      "execution_count": 5,
      "outputs": [
        {
          "output_type": "stream",
          "text": [
            "4.160\n"
          ],
          "name": "stdout"
        }
      ]
    },
    {
      "cell_type": "markdown",
      "metadata": {
        "id": "BGS7mV2vNlph",
        "colab_type": "text"
      },
      "source": [
        "# Rata-rata tertimbang (Weighted Mean)"
      ]
    },
    {
      "cell_type": "markdown",
      "metadata": {
        "id": "hhzOR2tCNrDX",
        "colab_type": "text"
      },
      "source": [
        "Pernah mendengar sebelumnya? Rata-rata tertimbang dihitung dengan memperhatikan bobot yang ada dalam setiap datanya. Setiap bobot tersebut merupakan pasangan setiap dari data. Hal ini sangat berguna ketika terdapat bobot tertentu pada suatu data yang bisa mempengaruhi data yang bersangkutan. Inilah perbedaan utama yang membedakan dengan perhitungan rata-rata aritmatika. Apabila dituliskan dalam rumus matematika sebagai berikut:\n",
        "\n",
        "$x = \\frac{\\sum_{i=1}^n W_{i} . X_{i}}{\\sum_{i=1}^n W_{i}} $\n",
        "\n",
        "x  = rata-rata tertimbang (weighted mean)\n",
        "\n",
        "xi = nilai data ke-i\n",
        "\n",
        "wi = bobot data ke-i\n",
        "\n",
        "n = jumlah data\n",
        "\n",
        "Sederhananya seperti ini, terdapat sebuah sekolah yang menerima pendaftaran siswa baru. Salah satu penilaiannya adalah angka di rapor. Proses seleksi berfokus pada beberapa mata pelajaran tertentu dan memiliki bobot masing-masing dalam penilaiannya seperti, Matematika memiliki bobot 40, IPA bobot nilainya 30, Bahasa Indonesia bobot nilainya 15, dan Bahasa Inggris bobot nilainya 15. Untuk dapat diterima di sekolah tersebut, calon siswa setidaknya memiliki nilai raport rata-rata 70 berdasarkan bobot yang sudah ditentukan. \n",
        "\n",
        "Nah, terdapat dua orang calon siswa, sebut saja Budi dan Toni yang memiliki nilai raport sebagai berikut:\n",
        "\n",
        "Budi:\n",
        "\n",
        ">Matematika : 80\n",
        "\n",
        ">IPA : 70\n",
        "\n",
        ">Bahasa Indonesia : 70\n",
        "\n",
        ">Bahasa Inggris : 60\n",
        "\n",
        "\n",
        "\n",
        "Toni:\n",
        "\n",
        ">Matematika : 60\n",
        "\n",
        ">IPA : 70\n",
        "\n",
        ">Bahasa Indonesia 80\n",
        "\n",
        ">Bahasa Inggris 85\n",
        "\n",
        "\n",
        "\n",
        "Di antara kedua siswa di atas, siapa yang kira-kira berpotensi untuk lolos seleksi?\n",
        "\n",
        "Apabila dihitung dengan rata-rata tertimbang sebagai berikut:\n",
        "\n",
        "\n",
        "\n",
        "---\n",
        "Rata rata tertimbang Budi = $\\frac{(40x80)+(30x75)+(15x70)+(15x60)}{40+30+15+15}$\n",
        "= 74\n",
        "\n",
        "---\n",
        "\n",
        "---\n",
        "Rata rata tertimbang Toni = $\\frac{(40x60)+(30x70)+(15x80)+(15x85)}{40+30+15+15}$\n",
        "= 69\n",
        "\n",
        "---\n",
        "\n",
        "**Bandingkan perhitungan rata - rata budi dan toni menggunakan Mean aritmatika**\n",
        "\n",
        "---\n",
        "Rata rata tertimbang Budi = $\\frac{(80+75+70+60)}{4}$\n",
        "= 71.5\n",
        "\n",
        "---\n",
        "\n",
        "---\n",
        "Rata rata tertimbang Toni = $\\frac{(60+70+80+85}{4}$\n",
        "= 72.5\n",
        "\n",
        "---\n",
        "\n",
        "Jika menggunakan Rata - Rata Aritmatika maka kedua siswa tersebut lolos, sedangkan jika menggunakan Rata - Rata tertimbang siswa budi yang lolos sehingga disimpulkan bahwa untuk kasus ini perhitungan rata - rata menggunakan rata - rata tertimbang **cocok**, sedangkan rata - rata aritmatika **tidak cocok** \n"
      ]
    },
    {
      "cell_type": "code",
      "metadata": {
        "id": "m5u-U8LGR-Ej",
        "colab_type": "code",
        "colab": {
          "base_uri": "https://localhost:8080/",
          "height": 72
        },
        "outputId": "78e164a4-b7cd-4bdf-bb35-a2503bbff9de"
      },
      "source": [
        "#Rata - Rata Tertimbang\n",
        "\n",
        "budi = [80,75,70,60]\n",
        "lenb = len(budi)\n",
        "Toni = [60,70,80,85]\n",
        "lent = len(Toni)\n",
        "bobot = [40,30,15,15]\n",
        "jumb = 0 # sum(Wi x Xi)\n",
        "jumt = 0 # sum(Wi x Xi)\n",
        "jumbobot = 0 # sum Wi\n",
        "\n",
        "# sum(Wi x Xi)\n",
        "for i in range (0,lenb) :\n",
        "  for j in range(i,i+1) :\n",
        "    jumb+=(budi[i]*bobot[j])\n",
        "    \n",
        "# sum Wi\n",
        "for i in bobot :\n",
        "  jumbobot += i\n",
        "\n",
        "# sum(Wi x Xi)\n",
        "for i in range (0,lent) :\n",
        "  for j in range(i,i+1) :\n",
        "    jumt+=(Toni[i]*bobot[j])\n",
        "\n",
        "nilaibudi=jumb/jumbobot\n",
        "nilaitoni=jumt/jumbobot\n",
        "print(\"Rata-Rata Budi :\",nilaibudi)\n",
        "print(\"Rata-Rata Toni :\",nilaitoni)\n",
        "\n",
        "if(nilaibudi >=70 and nilaitoni >=70) :\n",
        "  print(\"keduanya lolos\")\n",
        "elif(nilaibudi>=70 and nilaitoni<70) :\n",
        "  print(\"hanya budi yang lolos\")\n",
        "elif(nilaibudi<70 and nilaitoni>=70) :\n",
        "  print(\"hanya Toni yang lolos\")\n",
        "else :\n",
        "  print(\"tidak ada yang lolos\")\n"
      ],
      "execution_count": 14,
      "outputs": [
        {
          "output_type": "stream",
          "text": [
            "Rata-Rata Budi : 74.0\n",
            "Rata-Rata Toni : 69.75\n",
            "hanya budi yang lolos\n"
          ],
          "name": "stdout"
        }
      ]
    },
    {
      "cell_type": "markdown",
      "metadata": {
        "id": "BgM7bbudWiV9",
        "colab_type": "text"
      },
      "source": [
        "# Rata-rata terpotong (Trimmed Mean)"
      ]
    },
    {
      "cell_type": "markdown",
      "metadata": {
        "id": "rPiV2j2rWlsK",
        "colab_type": "text"
      },
      "source": [
        "Rata-rata terpotong bisa diartikan dengan memotong atau memangkas data berdasarkan posisi data dengan nilai rata-rata. Misal, rata-rata terpotong sebanyak 5% berarti terdapat 5% nilai angka (setelah diurutkan dari yang terkecil ke terbesar) yang berada pada ujung kiri data (awal) dan ujung kanan data (akhir) yang harus dibuang. Dengan membuang nilai tersebut diharapkan dapat mengurangi outliers sehingga data yang didapatkan lebih rapi. Apa itu outliers? Dalam ilmu statistik, outlier atau sering disebut “pencilan” merupakan sebuah nilai angka yang berbeda atau menyimpang sangat jauh dari angka lainnya di dalam satu kelompok data. Tujuan dari perhitungan rata-rata terpotong digunakan supaya data yang dihasilkan lebih akurat dan konsisten.\n",
        "\n",
        "Apabila ditulis dengan rumus sebagai berikut:\n",
        "\n",
        "$ u = \\frac{\\sum X_{i}}{n}$\n",
        "\n",
        "Diketahui dari rumus di atas bahwa:\n",
        "\n",
        "Rata - Rata Terpotong = $\\frac{Hasil penjumlahan data yang sudah terpotong}{Banyaknya data yang sudah terpotong}$\n",
        "\n",
        "Misal terdapat data sebagai berikut:\n",
        "\n",
        "\n",
        "\n",
        "```\n",
        "3,5,7,8,10,15,20,25,40,70\n",
        "```\n",
        "Berapa rata-rata terpotong sebanyak 30% dari data di atas?\n",
        "\n",
        "Sebelum memasukkan data tersebut ke dalam rumus, kita cari dulu data yang harus dihapus atau dipotong. Ibaratkan data yang terpotong dengan g, sehingga perhitungannya sebagai berikut.\n",
        "\n",
        "```\n",
        "g = (persen rata rata terpotong) x (banyaknya sample data)\n",
        "\n",
        "g = 30% x 10\n",
        "\n",
        "g = 3\n",
        "```\n",
        "Nah, dari perhitungan di atas kita mendapatkan nilai 3 yang berarti kita menghapus 3 data yang paling kanan dan 3 data yang paling kiri.\n",
        "\n",
        "```\n",
        "Data sebelum dipotong = 3,5,7,8,10,15,20,25,40,70\n",
        "\n",
        "Data yang dipotong sebanyak 30% = (3,5,7)<-hapus  8,10,15,20, ->hapus(25,40,70)\n",
        "\n",
        "Data yang dihasilkan = 8,10,15,20\n",
        "```\n",
        "$ u = \\frac{\\sum X_{i}}{n}$\n",
        "\n",
        "\n",
        "Rata - Rata Terpotong = $\\frac{8+10+15+20}{4}$ = 13,25\n",
        "\n",
        "\n"
      ]
    },
    {
      "cell_type": "code",
      "metadata": {
        "id": "Km7HndT_d0Ma",
        "colab_type": "code",
        "colab": {
          "base_uri": "https://localhost:8080/",
          "height": 90
        },
        "outputId": "1899601d-c313-494a-ab45-0bed035621ac"
      },
      "source": [
        "x = [40,3,7,20,10,70,8,25,5,15]\n",
        "print(\"Data sebelum diurutkan :\", x)\n",
        "#Langkah pertama urutkan ascending list terlebih dahulu\n",
        "x = sorted(x)\n",
        "print(\"Data setelah diurutkan dan sebelum dipotong :\", x)\n",
        "#Langkah kedua masukkan variabel yg dibutuhkan\n",
        "n = len(x)\n",
        "g = 30/100 * n\n",
        "\n",
        "#potong list dengan nilai potong yang didapatkan dari sisi kiri dan kanan\n",
        "#Misal nilai potong (g) adalah 3 Sehingga hapus list 0-2 dan 7-9\n",
        "\n",
        "#del 7-9\n",
        "sisi_kanan = int(n-g)\n",
        "del(x[sisi_kanan:])\n",
        "#del 0-2\n",
        "sisi_kiri = int(g)\n",
        "del(x[:sisi_kiri])\n",
        "\n",
        "print(\"Data yang dihasilkan :\", x)\n",
        "n_baru=len(x)\n",
        "R = 0\n",
        "for i in x :\n",
        "  R+=i\n",
        "\n",
        "Rata2 = R/n_baru\n",
        "\n",
        "print(\"Rata - Rata Terpotong :\", Rata2)\n"
      ],
      "execution_count": 25,
      "outputs": [
        {
          "output_type": "stream",
          "text": [
            "Data sebelum diurutkan : [40, 3, 7, 20, 10, 70, 8, 25, 5, 15]\n",
            "Data setelah diurutkan dan sebelum dipotong : [3, 5, 7, 8, 10, 15, 20, 25, 40, 70]\n",
            "Data yang dihasilkan : [8, 10, 15, 20]\n",
            "Rata - Rata Terpotong : 13.25\n"
          ],
          "name": "stdout"
        }
      ]
    }
  ]
}