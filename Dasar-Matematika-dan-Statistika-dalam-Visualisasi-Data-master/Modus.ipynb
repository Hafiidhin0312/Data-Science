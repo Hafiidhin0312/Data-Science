{
  "nbformat": 4,
  "nbformat_minor": 0,
  "metadata": {
    "colab": {
      "name": "Modus.ipynb",
      "provenance": [],
      "collapsed_sections": [],
      "authorship_tag": "ABX9TyNVejQa6avzf+R/18soCxZ9",
      "include_colab_link": true
    },
    "kernelspec": {
      "name": "python3",
      "display_name": "Python 3"
    }
  },
  "cells": [
    {
      "cell_type": "markdown",
      "metadata": {
        "id": "view-in-github",
        "colab_type": "text"
      },
      "source": [
        "<a href=\"https://colab.research.google.com/github/Abdurrasyiid/Dasar-Visualisasi-Data/blob/master/Modus.ipynb\" target=\"_parent\"><img src=\"https://colab.research.google.com/assets/colab-badge.svg\" alt=\"Open In Colab\"/></a>"
      ]
    },
    {
      "cell_type": "markdown",
      "metadata": {
        "id": "TvsN-n9tS65b",
        "colab_type": "text"
      },
      "source": [
        "#Modus"
      ]
    },
    {
      "cell_type": "markdown",
      "metadata": {
        "id": "ivBL72zES9JJ",
        "colab_type": "text"
      },
      "source": [
        "Modus merupakan nilai yang sering muncul dari suatu data. ***Tiada rumus tertentu guna mencari nilai modus  karena kita hanya perlu mengamati frekuensi data mana yang sering muncul***. Dalam matematika, modus biasanya dilambangkan dengan Mo.\n",
        "\n",
        "Suatu data bisa jadi memiliki lebih dari satu modus. Apabila sebuah kumpulan data memiliki dua modus, ia disebut bimodal. Sedangkan apabila memiliki lebih dari dua modus ia disebut multimodal. Tetapi ada juga data yang tidak memiliki nilai yang sering muncul sehingga dikatakan data tersebut tidak memiliki modus.\n",
        "\n",
        "Contoh 1:\n",
        "\n",
        "Guru matematika mengadakan ulangan di kelas A dan mengambil hasil sampel nilai dari 5 siswanya sebagai berikut.\n",
        "\n",
        "\n",
        "\n",
        "```\n",
        "80, 70, 75, 80, 80, 90\n",
        "```\n",
        "\n",
        "Tentukan modus dari hasil ulangan matematika dari 5 siswa tersebut!\n",
        "\n",
        "Jawab:\n",
        "\n",
        "Untuk menjawab pertanyaan di atas kita hanya memerlukan pengamatan saja tanpa rumus apa pun. ***Untuk memudahkan kita dalam menemukan modus dari data di atas, kita urutkan terlebih dahulu*** sehingga hasilnya menjadi seperti di bawah ini.\n",
        "\n",
        "\n",
        "70, 75, **80, 80, 80,** 90\n",
        "\n",
        "Sehingga dari hasil pengamatan terlihat bahwa nilai 80 muncul sebanyak 3 kali. Jadi, secara otomatis bisa dikatakan bahwa dari ulangan matematika di atas modusnya adalah 80.\n"
      ]
    },
    {
      "cell_type": "markdown",
      "metadata": {
        "id": "EY1jnwxwiBKi",
        "colab_type": "text"
      },
      "source": [
        "# Cara 1"
      ]
    },
    {
      "cell_type": "code",
      "metadata": {
        "id": "tkwnEsrLS40w",
        "colab_type": "code",
        "colab": {
          "base_uri": "https://localhost:8080/",
          "height": 35
        },
        "outputId": "d68dadbc-c845-4203-f456-d54d7070327d"
      },
      "source": [
        "def modus():\n",
        "    data =[80, 70, 75, 80, 90, 90]\n",
        "    modus = max(set(data), key=data.count)\n",
        "    a = data.count(modus)\n",
        "    b = []\n",
        "    for i in data:\n",
        "        if a - 1 < data.count(i):\n",
        "            b.append(i)\n",
        "    c = b[::a]\n",
        "    modus1 = 'Modus data adalah '\n",
        "    modus2 = []\n",
        "    if len(c) == 1:\n",
        "        modus1 += str(c[0])\n",
        "    else:\n",
        "        for i in c:\n",
        "            modus2.append(str(i))\n",
        "        modus1 += ' & '.join(modus2)\n",
        "    \n",
        "    print(modus)\n",
        "    return\n",
        "\n",
        "modus() \n",
        "\n",
        "\n",
        "      "
      ],
      "execution_count": 34,
      "outputs": [
        {
          "output_type": "stream",
          "text": [
            "80\n"
          ],
          "name": "stdout"
        }
      ]
    },
    {
      "cell_type": "markdown",
      "metadata": {
        "id": "cFJDGc59iDww",
        "colab_type": "text"
      },
      "source": [
        "# Cara 2 Menggunakan modul statistics\n",
        "\n",
        "*note : namun muncul error jika modusnya terdapat 2 nilai"
      ]
    },
    {
      "cell_type": "code",
      "metadata": {
        "id": "QQPVeAdyVkql",
        "colab_type": "code",
        "colab": {
          "base_uri": "https://localhost:8080/",
          "height": 207
        },
        "outputId": "62aa44d9-8571-47d0-94a3-163d46188381"
      },
      "source": [
        "# Python code to demonstrate the  \n",
        "# use of mode() function \n",
        "  \n",
        "# mode() function a sub-set of the statistics module \n",
        "# We need to import statistics module before doing any work \n",
        "import statistics \n",
        "  \n",
        "# declaring a simple data-set consisting of real valued \n",
        "# positive integers. \n",
        "set1 =[80, 70, 75, 80, 80, 90, 90, 90]\n",
        "  \n",
        "# Printing out mode of given data-set \n",
        "print(\"Mode of given data set is % s\" % (statistics.mode(set1))) "
      ],
      "execution_count": 46,
      "outputs": [
        {
          "output_type": "error",
          "ename": "AttributeError",
          "evalue": "ignored",
          "traceback": [
            "\u001b[0;31m---------------------------------------------------------------------------\u001b[0m",
            "\u001b[0;31mAttributeError\u001b[0m                            Traceback (most recent call last)",
            "\u001b[0;32m<ipython-input-46-a0f7528d83e0>\u001b[0m in \u001b[0;36m<module>\u001b[0;34m()\u001b[0m\n\u001b[1;32m     11\u001b[0m \u001b[0;34m\u001b[0m\u001b[0m\n\u001b[1;32m     12\u001b[0m \u001b[0;31m# Printing out mode of given data-set\u001b[0m\u001b[0;34m\u001b[0m\u001b[0;34m\u001b[0m\u001b[0;34m\u001b[0m\u001b[0m\n\u001b[0;32m---> 13\u001b[0;31m \u001b[0mprint\u001b[0m\u001b[0;34m(\u001b[0m\u001b[0;34m\"Mode of given data set is % s\"\u001b[0m \u001b[0;34m%\u001b[0m \u001b[0;34m(\u001b[0m\u001b[0mstatistics\u001b[0m\u001b[0;34m.\u001b[0m\u001b[0mmultimode\u001b[0m\u001b[0;34m(\u001b[0m\u001b[0mset1\u001b[0m\u001b[0;34m)\u001b[0m\u001b[0;34m)\u001b[0m\u001b[0;34m)\u001b[0m\u001b[0;34m\u001b[0m\u001b[0;34m\u001b[0m\u001b[0m\n\u001b[0m",
            "\u001b[0;31mAttributeError\u001b[0m: module 'statistics' has no attribute 'multimode'"
          ]
        }
      ]
    },
    {
      "cell_type": "markdown",
      "metadata": {
        "id": "74ykMX0OiXM_",
        "colab_type": "text"
      },
      "source": [
        "# Cara 3 Menggunakan modul statistics dan Fungsi Multimode"
      ]
    },
    {
      "cell_type": "code",
      "metadata": {
        "id": "uHkTfoRIjMax",
        "colab_type": "code",
        "colab": {
          "base_uri": "https://localhost:8080/",
          "height": 207
        },
        "outputId": "fe00c85a-7be4-44e8-efda-e59a92d3055e"
      },
      "source": [
        "# Python code to demonstrate the  \n",
        "# use of mode() function \n",
        "  \n",
        "# mode() function a sub-set of the statistics module \n",
        "# We need to import statistics module before doing any work \n",
        "import statistics \n",
        "  \n",
        "v = [12, 15, 12, 15, 21, 15, 12]\n",
        "statistics.multimode(v)\n",
        "\n",
        "# Seharusnya menghasilkan pada python 3.x\n",
        "# ketika menggunakan cmd biasa modul dan fungsi dapat berjalan dengan baik\n",
        "# namun di google collab masih belum bisa \n"
      ],
      "execution_count": 44,
      "outputs": [
        {
          "output_type": "error",
          "ename": "AttributeError",
          "evalue": "ignored",
          "traceback": [
            "\u001b[0;31m---------------------------------------------------------------------------\u001b[0m",
            "\u001b[0;31mAttributeError\u001b[0m                            Traceback (most recent call last)",
            "\u001b[0;32m<ipython-input-44-8b5f608db085>\u001b[0m in \u001b[0;36m<module>\u001b[0;34m()\u001b[0m\n\u001b[1;32m      7\u001b[0m \u001b[0;34m\u001b[0m\u001b[0m\n\u001b[1;32m      8\u001b[0m \u001b[0mv\u001b[0m \u001b[0;34m=\u001b[0m \u001b[0;34m[\u001b[0m\u001b[0;36m12\u001b[0m\u001b[0;34m,\u001b[0m \u001b[0;36m15\u001b[0m\u001b[0;34m,\u001b[0m \u001b[0;36m12\u001b[0m\u001b[0;34m,\u001b[0m \u001b[0;36m15\u001b[0m\u001b[0;34m,\u001b[0m \u001b[0;36m21\u001b[0m\u001b[0;34m,\u001b[0m \u001b[0;36m15\u001b[0m\u001b[0;34m,\u001b[0m \u001b[0;36m12\u001b[0m\u001b[0;34m]\u001b[0m\u001b[0;34m\u001b[0m\u001b[0;34m\u001b[0m\u001b[0m\n\u001b[0;32m----> 9\u001b[0;31m \u001b[0mstatistics\u001b[0m\u001b[0;34m.\u001b[0m\u001b[0mmultimode\u001b[0m\u001b[0;34m(\u001b[0m\u001b[0mv\u001b[0m\u001b[0;34m)\u001b[0m\u001b[0;34m\u001b[0m\u001b[0;34m\u001b[0m\u001b[0m\n\u001b[0m",
            "\u001b[0;31mAttributeError\u001b[0m: module 'statistics' has no attribute 'multimode'"
          ]
        }
      ]
    },
    {
      "cell_type": "markdown",
      "metadata": {
        "id": "N_upow02l16c",
        "colab_type": "text"
      },
      "source": [
        "## Ini Alternatifnya untuk permasalahan diatas"
      ]
    },
    {
      "cell_type": "code",
      "metadata": {
        "id": "UvNxSg7_ifML",
        "colab_type": "code",
        "colab": {}
      },
      "source": [
        "# Python3 code to demonstrate working of \n",
        "# Multimode of List \n",
        "# using loop + formula \n",
        "import math \n",
        "from collections import Counter \n",
        "\n",
        "# initialize list \n",
        "test_list = [80, 70, 75, 80, 80, 90, 90, 90] \n",
        "\n",
        "# printing original list \n",
        "print(\"The original list is : \" + str(test_list)) \n",
        "\n",
        "# Multimode of List \n",
        "# using loop + formula \n",
        "res = [] \n",
        "test_list1 = Counter(test_list) \n",
        "temp = test_list1.most_common(1)[0][1] \n",
        "for ele in test_list: \n",
        "  if test_list.count(ele) == temp: \n",
        "\t  res.append(ele) \n",
        "res = list(set(res)) \n",
        "\n",
        "# printing result \n",
        "print(\"The multimode of list is : \" + str(res)) \n"
      ],
      "execution_count": 0,
      "outputs": []
    }
  ]
}