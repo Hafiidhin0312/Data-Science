{
  "nbformat": 4,
  "nbformat_minor": 0,
  "metadata": {
    "colab": {
      "name": "Standar Deviasi.ipynb",
      "provenance": [],
      "authorship_tag": "ABX9TyN8IbtGaYhUnxbwmk8mfQuv",
      "include_colab_link": true
    },
    "kernelspec": {
      "name": "python3",
      "display_name": "Python 3"
    }
  },
  "cells": [
    {
      "cell_type": "markdown",
      "metadata": {
        "id": "view-in-github",
        "colab_type": "text"
      },
      "source": [
        "<a href=\"https://colab.research.google.com/github/Abdurrasyiid/Dasar-Matematika-dan-Statistika-dalam-Visualisasi-Data/blob/master/Standar_Deviasi.ipynb\" target=\"_parent\"><img src=\"https://colab.research.google.com/assets/colab-badge.svg\" alt=\"Open In Colab\"/></a>"
      ]
    },
    {
      "cell_type": "markdown",
      "metadata": {
        "id": "EKXQg7da7yc6",
        "colab_type": "text"
      },
      "source": [
        "# Standar Deviasi\n",
        "\n",
        "Pengertian #1\n",
        "\n",
        ">Juga disebut simpangan baku, standar deviasi adalah angka yang digunakan untuk mengetahui bagaimana pengukuran untuk suatu kelompok tersebar dari nilai rata-rata (rata-rata), atau yang diharapkan. Standar deviasi yang rendah berarti bahwa sebagian besar angka mendekati rata-rata. Standar deviasi yang tinggi berarti bahwa jumlahnya lebih tersebar.\n",
        "\n",
        "Pengertian#2\n",
        "\n",
        ">Standar deviasi adalah nilai statistik yang digunakan untuk menentukan bagaimana sebaran data dalam sampel, dan seberapa dekat titik data individu ke rata-rata nilai sampel. Ini dihitung sebagai akar kuadrat dari varian dengan menentukan variasi antara setiap titik data relatif terhadap rata-rata. Jika titik data lebih jauh dari rata-rata, ada penyimpangan yang lebih tinggi dalam kumpulan data; dengan demikian, semakin menyebar data, semakin tinggi standar deviasi.\n",
        "\n",
        "Info Lengkap :\n",
        "\n",
        "https://www.sridianti.com/pengertian-standar-deviasi.html\n",
        "\n"
      ]
    },
    {
      "cell_type": "markdown",
      "metadata": {
        "id": "RXJJCFo0_Wpu",
        "colab_type": "text"
      },
      "source": [
        "## Contoh Soal\n",
        "\n",
        "Berdasarkan pengambilan sampel nilai ujian mata pelajaran beberapa siswa di SMP bahagia diketahui data sebagai berikut :\n",
        "\n",
        "`80, 60, 80, 90, 70, 80, 95`\n",
        "\n",
        "Hitunglah nilai standar deviasi dari data tersebut ?\n",
        "\n"
      ]
    },
    {
      "cell_type": "code",
      "metadata": {
        "id": "LnTAaQ0W7rcS",
        "colab_type": "code",
        "colab": {
          "base_uri": "https://localhost:8080/",
          "height": 35
        },
        "outputId": "a4e97f4e-833c-4bf9-d6b9-13d65cb33d16"
      },
      "source": [
        "#array=input().split(\",\")\n",
        "\n",
        "array = [80, 60, 80, 90, 70, 80, 95]\n",
        "for i in range(len(array)):\n",
        "    array[i]=int(array[i])\n",
        "jumlah=0\n",
        "for i in range(len(array)):\n",
        "    jumlah +=array[i]\n",
        "rata=jumlah/len(array)\n",
        "sigma = 0\n",
        "for i in range(len(array)):\n",
        "    hitung =(array[i]-rata)**2\n",
        "    sigma += hitung\n",
        "pembagianN=sigma/len(array)\n",
        "standarDeviasi=pembagianN ** 0.5\n",
        "print(standarDeviasi) "
      ],
      "execution_count": 1,
      "outputs": [
        {
          "output_type": "stream",
          "text": [
            "10.83267920578793\n"
          ],
          "name": "stdout"
        }
      ]
    },
    {
      "cell_type": "code",
      "metadata": {
        "id": "nxVCri2V_-7G",
        "colab_type": "code",
        "colab": {
          "base_uri": "https://localhost:8080/",
          "height": 35
        },
        "outputId": "c6ddb27c-fbd5-4900-96c4-1ebdb0c5bb77"
      },
      "source": [
        "import statistics\n",
        "\n",
        "array = [80, 60, 80, 90, 70, 80, 95] \n",
        "\n",
        "x = statistics.stdev(array)\n",
        "print(format(x,\".2f\"))"
      ],
      "execution_count": 4,
      "outputs": [
        {
          "output_type": "stream",
          "text": [
            "11.70\n"
          ],
          "name": "stdout"
        }
      ]
    },
    {
      "cell_type": "code",
      "metadata": {
        "id": "y-PVqYu5AqvB",
        "colab_type": "code",
        "colab": {}
      },
      "source": [
        ""
      ],
      "execution_count": 0,
      "outputs": []
    }
  ]
}