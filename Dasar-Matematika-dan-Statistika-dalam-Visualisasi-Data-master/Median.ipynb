{
  "nbformat": 4,
  "nbformat_minor": 0,
  "metadata": {
    "colab": {
      "name": "Median.ipynb",
      "provenance": [],
      "authorship_tag": "ABX9TyMjT03J06pBmveTPKxH3iC4",
      "include_colab_link": true
    },
    "kernelspec": {
      "name": "python3",
      "display_name": "Python 3"
    }
  },
  "cells": [
    {
      "cell_type": "markdown",
      "metadata": {
        "id": "view-in-github",
        "colab_type": "text"
      },
      "source": [
        "<a href=\"https://colab.research.google.com/github/Abdurrasyiid/Dasar-Visualisasi-Data/blob/master/Median.ipynb\" target=\"_parent\"><img src=\"https://colab.research.google.com/assets/colab-badge.svg\" alt=\"Open In Colab\"/></a>"
      ]
    },
    {
      "cell_type": "markdown",
      "metadata": {
        "id": "0LieUjrLHBTu",
        "colab_type": "text"
      },
      "source": [
        "# MEDIAN"
      ]
    },
    {
      "cell_type": "markdown",
      "metadata": {
        "id": "922YdVvjJe4s",
        "colab_type": "text"
      },
      "source": [
        "# Median Data Ganjil"
      ]
    },
    {
      "cell_type": "markdown",
      "metadata": {
        "id": "xjUZe_T2HDdJ",
        "colab_type": "text"
      },
      "source": [
        "Median merupakan nilai tengah dari suatu data yang **telah diurutkan terlebih dahulu** mulai dari yang terkecil hingga terbesar. Dalam matematika, biasanya Median dilambangkan sebagai Me dan dihitung dengan rumus seperti berikut:\n",
        "\n",
        "Median dari data(n) ganjil :\n",
        "\n",
        "$ Me = X(\\frac{n+1}{2})$\n",
        "\n",
        "dimana, \n",
        "\n",
        ">n = jumlah banyak bilangan\n",
        "\n",
        ">X = data ke -\n",
        "\n",
        "Contoh data1 :\n",
        "\n",
        "```\n",
        "3,2,7,12,10\n",
        "```\n",
        "n = 5 (ganjil)\n",
        "\n",
        "Langkah :\n",
        "\n",
        "1. Data diurutkan terlebih dahulu\n",
        "2. Setelah urut dihitung nilai tengahnya\n",
        "\n",
        "Sort :\n",
        "\n",
        "\n",
        "```\n",
        "2,3,7,10,12\n",
        "```\n",
        "\n",
        "$ Me = X(\\frac{n+1}{2})$\n",
        "\n",
        "$ Me = X(\\frac{5+1}{2})$\n",
        "\n",
        "$ Me = X(3) = X_3 $\n",
        "\n",
        "Sehingga Median nya adalah data ke- 3 yaitu 7\n",
        "\n",
        "\n",
        "\n",
        "\n"
      ]
    },
    {
      "cell_type": "markdown",
      "metadata": {
        "id": "EyESWrtYJmC7",
        "colab_type": "text"
      },
      "source": [
        "# Median Data Genap"
      ]
    },
    {
      "cell_type": "markdown",
      "metadata": {
        "id": "nHMk7ZiOJouD",
        "colab_type": "text"
      },
      "source": [
        "Median dari data(n) Genap :\n",
        "\n",
        "$ Me = \\frac{1}{2} (X(\\frac{n}{2})+X(\\frac{n+1}{2}))$\n",
        "\n",
        "dimana, \n",
        "\n",
        ">n = jumlah banyak bilangan\n",
        "\n",
        ">X = data ke -\n",
        "\n",
        "Contoh data1 :\n",
        "\n",
        "```\n",
        "3,2,7,12,10,3,5,12,15,8\n",
        "```\n",
        "n = 10 (genap)\n",
        "\n",
        "Langkah :\n",
        "\n",
        "1. Data diurutkan terlebih dahulu\n",
        "2. Setelah urut dihitung nilai tengahnya\n",
        "\n",
        "Sort :\n",
        "\n",
        "```\n",
        "2,3,3,5,7,8,10,12,12,15\n",
        "```\n",
        "\n",
        "$ Me = \\frac{1}{2} (X(\\frac{n}{2})+X(\\frac{n+1}{2}))$\n",
        "\n",
        "$ Me = \\frac{1}{2} (X(\\frac{10}{2})+X(\\frac{10+1}{2}))$\n",
        "\n",
        "$ Me = \\frac{1}{2} (X_5+X_6)$\n",
        "\n",
        "$ Me = \\frac{1}{2} (7+8)$\n",
        "\n",
        "$ Me = 7,5 $\n",
        "\n",
        "Sehingga nilai median dari data genap di atas adalah 7,5\n"
      ]
    },
    {
      "cell_type": "markdown",
      "metadata": {
        "id": "6pC0MooqOSou",
        "colab_type": "text"
      },
      "source": [
        "# Code For Median"
      ]
    },
    {
      "cell_type": "code",
      "metadata": {
        "id": "6DHvKohaKw_b",
        "colab_type": "code",
        "colab": {
          "base_uri": "https://localhost:8080/",
          "height": 54
        },
        "outputId": "1d3cefc2-7741-47a1-fbe3-24d98911f36e"
      },
      "source": [
        "x = [3,2,7,12,10,3,5,12,15,8]\n",
        "n = len(x)\n",
        "#diurutkan terlebih dahulu\n",
        "x = sorted(x)\n",
        "# data x sudah urut\n",
        "# tentukan rumus yang dipakai jika n ganjil/genap\n",
        "\n",
        "\n",
        "if n%2!=0 : #untuk n ganjil\n",
        "  c = (len(x)+1)/2\n",
        "  c = int(c)\n",
        "  Me = x[c-1] # dikurangi 1 karena index list dimulai dari 0 \n",
        "  print(x)\n",
        "  print(\"Sehingga Median nya adalah data ke-\",c, \"yaitu\",Me)\n",
        "\n",
        "else : #untuk n genap\n",
        "  x1 = int(len(x)/2) \n",
        "  x2 = round((len(x)+1)/2)  #menggunakan fungsi round untuk pembulatan angka\n",
        "  X1 = x[x1-1] # dikurangi 1 karena index list dimulai dari 0\n",
        "  X2 = x[x2-1] # dikurangi 1 karena index list dimulai dari 0\n",
        "  Me = (X1+X2)/2  \n",
        "  print(x)\n",
        "  print(\"Sehingga Median nya adalah yaitu\",Me)\n"
      ],
      "execution_count": 29,
      "outputs": [
        {
          "output_type": "stream",
          "text": [
            "[2, 3, 3, 5, 7, 8, 10, 12, 12, 15]\n",
            "Sehingga Median nya adalah yaitu 7.5\n"
          ],
          "name": "stdout"
        }
      ]
    }
  ]
}