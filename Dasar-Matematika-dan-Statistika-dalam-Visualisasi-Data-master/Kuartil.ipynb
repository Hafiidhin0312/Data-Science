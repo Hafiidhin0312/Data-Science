{
  "nbformat": 4,
  "nbformat_minor": 0,
  "metadata": {
    "colab": {
      "name": "Kuartil.ipynb",
      "provenance": [],
      "authorship_tag": "ABX9TyNm6rh9gc0NPK0kimBYmjtM",
      "include_colab_link": true
    },
    "kernelspec": {
      "name": "python3",
      "display_name": "Python 3"
    }
  },
  "cells": [
    {
      "cell_type": "markdown",
      "metadata": {
        "id": "view-in-github",
        "colab_type": "text"
      },
      "source": [
        "<a href=\"https://colab.research.google.com/github/Abdurrasyiid/Dasar-Visualisasi-Data/blob/master/Kuartil.ipynb\" target=\"_parent\"><img src=\"https://colab.research.google.com/assets/colab-badge.svg\" alt=\"Open In Colab\"/></a>"
      ]
    },
    {
      "cell_type": "markdown",
      "metadata": {
        "id": "ct96GQx0pJuQ",
        "colab_type": "text"
      },
      "source": [
        "# Kuartil\n",
        "Apakah Anda familiar dengan kuartil? Kuartil dalam matematika biasanya digambarkan dengan notasi Q.  Kuartil merupakan nilai yang membagi data berurutan menjadi 4 bagian yang besarnya sama. Kuartil terdiri dari 3 bagian yaitu, kuartil pertama (Q1), kuartil kedua (Q2), dan kuartil ketiga (Q3). Dalam menghitung nilai kuartil, kita harus memperhatikan jumlah data (n) yang ada. \n",
        "\n",
        "\n",
        "https://www.dicoding.com/academies/177/tutorials/8162?from=8157"
      ]
    },
    {
      "cell_type": "code",
      "metadata": {
        "id": "Md7bCwfCpHh9",
        "colab_type": "code",
        "colab": {
          "base_uri": "https://localhost:8080/",
          "height": 108
        },
        "outputId": "a275f165-57e3-4385-a6b2-8688b890f32c"
      },
      "source": [
        "# Python Program illustrating \n",
        "# numpy.quantile() method \n",
        "import numpy as np \n",
        "\n",
        "\n",
        "# 1D array \n",
        "arr = [20, 2, 7, 1, 34] \n",
        "\n",
        "print(\"arr : \", arr) \n",
        "print(\"Q2 quantile of arr : \", np.quantile(arr, .50)) \n",
        "print(\"Q1 quantile of arr : \", np.quantile(arr, .25)) \n",
        "print(\"Q3 quantile of arr : \", np.quantile(arr, .75)) \n",
        "print(\"100th quantile of arr : \", np.quantile(arr, .1)) \n",
        "\t\n"
      ],
      "execution_count": 1,
      "outputs": [
        {
          "output_type": "stream",
          "text": [
            "arr :  [20, 2, 7, 1, 34]\n",
            "Q2 quantile of arr :  7.0\n",
            "Q1 quantile of arr :  2.0\n",
            "Q3 quantile of arr :  20.0\n",
            "100th quantile of arr :  1.4\n"
          ],
          "name": "stdout"
        }
      ]
    }
  ]
}