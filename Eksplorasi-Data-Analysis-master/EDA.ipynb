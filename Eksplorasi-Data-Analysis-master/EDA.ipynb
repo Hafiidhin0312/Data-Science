{
  "nbformat": 4,
  "nbformat_minor": 0,
  "metadata": {
    "colab": {
      "name": "EDA.ipynb",
      "provenance": [],
      "authorship_tag": "ABX9TyMsdla7BPzCbAxkiXAKpThI",
      "include_colab_link": true
    },
    "kernelspec": {
      "name": "python3",
      "display_name": "Python 3"
    }
  },
  "cells": [
    {
      "cell_type": "markdown",
      "metadata": {
        "id": "view-in-github",
        "colab_type": "text"
      },
      "source": [
        "<a href=\"https://colab.research.google.com/github/Abdurrasyiid/PDS1441/blob/master/EDA.ipynb\" target=\"_parent\"><img src=\"https://colab.research.google.com/assets/colab-badge.svg\" alt=\"Open In Colab\"/></a>"
      ]
    },
    {
      "cell_type": "markdown",
      "metadata": {
        "id": "lcFuAgEYCN88",
        "colab_type": "text"
      },
      "source": [
        "## **EDA (Eksplorasi Data Analysis)**\n",
        "\n"
      ]
    },
    {
      "cell_type": "code",
      "metadata": {
        "id": "Hy7CC1RXCaro",
        "colab_type": "code",
        "colab": {}
      },
      "source": [
        "#import libray yang dibutuhkan\n",
        "import pandas as pd\n",
        "import matplotlib.pyplot as plt #Library untuk membuat info grafis secara visual menggunakan plot"
      ],
      "execution_count": 0,
      "outputs": []
    },
    {
      "cell_type": "code",
      "metadata": {
        "id": "fmOdEf6fCkAz",
        "colab_type": "code",
        "colab": {}
      },
      "source": [
        "#memasukkan file SampleData.csv\n",
        "\n",
        "# [!] untuk google collab\n",
        "data = pd.read_csv(\"SampleData.csv\") \n",
        "\n",
        "# [!] jika menggunakan jupyter gunakan \n",
        "#data = pd.read_csv(r\"PATH\") \n"
      ],
      "execution_count": 0,
      "outputs": []
    },
    {
      "cell_type": "code",
      "metadata": {
        "id": "tSEpUcWxC1-5",
        "colab_type": "code",
        "colab": {
          "base_uri": "https://localhost:8080/",
          "height": 669
        },
        "outputId": "03eef711-3e9c-4d95-c1f5-89abbdfeecd0"
      },
      "source": [
        "#menampilkan data csv\n",
        "data"
      ],
      "execution_count": 4,
      "outputs": [
        {
          "output_type": "execute_result",
          "data": {
            "text/html": [
              "<div>\n",
              "<style scoped>\n",
              "    .dataframe tbody tr th:only-of-type {\n",
              "        vertical-align: middle;\n",
              "    }\n",
              "\n",
              "    .dataframe tbody tr th {\n",
              "        vertical-align: top;\n",
              "    }\n",
              "\n",
              "    .dataframe thead th {\n",
              "        text-align: right;\n",
              "    }\n",
              "</style>\n",
              "<table border=\"1\" class=\"dataframe\">\n",
              "  <thead>\n",
              "    <tr style=\"text-align: right;\">\n",
              "      <th></th>\n",
              "      <th>HouseID</th>\n",
              "      <th>Area</th>\n",
              "      <th>CityCenter</th>\n",
              "      <th>Owner</th>\n",
              "      <th>Nrooms</th>\n",
              "      <th>District</th>\n",
              "      <th>Color</th>\n",
              "      <th>Price</th>\n",
              "    </tr>\n",
              "  </thead>\n",
              "  <tbody>\n",
              "    <tr>\n",
              "      <th>0</th>\n",
              "      <td>T20</td>\n",
              "      <td>99.41</td>\n",
              "      <td>961</td>\n",
              "      <td>M</td>\n",
              "      <td>3</td>\n",
              "      <td>D</td>\n",
              "      <td>G</td>\n",
              "      <td>817.21</td>\n",
              "    </tr>\n",
              "    <tr>\n",
              "      <th>1</th>\n",
              "      <td>T9</td>\n",
              "      <td>104.35</td>\n",
              "      <td>947</td>\n",
              "      <td>D</td>\n",
              "      <td>1</td>\n",
              "      <td>C</td>\n",
              "      <td>T</td>\n",
              "      <td>436.46</td>\n",
              "    </tr>\n",
              "    <tr>\n",
              "      <th>2</th>\n",
              "      <td>T8</td>\n",
              "      <td>146.18</td>\n",
              "      <td>923</td>\n",
              "      <td>M</td>\n",
              "      <td>1</td>\n",
              "      <td>A</td>\n",
              "      <td>G</td>\n",
              "      <td>683.77</td>\n",
              "    </tr>\n",
              "    <tr>\n",
              "      <th>3</th>\n",
              "      <td>T12</td>\n",
              "      <td>83.00</td>\n",
              "      <td>919</td>\n",
              "      <td>M</td>\n",
              "      <td>6</td>\n",
              "      <td>B</td>\n",
              "      <td>T</td>\n",
              "      <td>1246.79</td>\n",
              "    </tr>\n",
              "    <tr>\n",
              "      <th>4</th>\n",
              "      <td>T18</td>\n",
              "      <td>173.76</td>\n",
              "      <td>765</td>\n",
              "      <td>D</td>\n",
              "      <td>3</td>\n",
              "      <td>A</td>\n",
              "      <td>G</td>\n",
              "      <td>899.88</td>\n",
              "    </tr>\n",
              "    <tr>\n",
              "      <th>5</th>\n",
              "      <td>T13</td>\n",
              "      <td>123.68</td>\n",
              "      <td>741</td>\n",
              "      <td>D</td>\n",
              "      <td>1</td>\n",
              "      <td>A</td>\n",
              "      <td>T</td>\n",
              "      <td>581.17</td>\n",
              "    </tr>\n",
              "    <tr>\n",
              "      <th>6</th>\n",
              "      <td>T5</td>\n",
              "      <td>126.90</td>\n",
              "      <td>720</td>\n",
              "      <td>D</td>\n",
              "      <td>2</td>\n",
              "      <td>D</td>\n",
              "      <td>G</td>\n",
              "      <td>785.88</td>\n",
              "    </tr>\n",
              "    <tr>\n",
              "      <th>7</th>\n",
              "      <td>T10</td>\n",
              "      <td>193.24</td>\n",
              "      <td>716</td>\n",
              "      <td>D</td>\n",
              "      <td>3</td>\n",
              "      <td>D</td>\n",
              "      <td>G</td>\n",
              "      <td>1197.97</td>\n",
              "    </tr>\n",
              "    <tr>\n",
              "      <th>8</th>\n",
              "      <td>T19</td>\n",
              "      <td>192.86</td>\n",
              "      <td>612</td>\n",
              "      <td>M</td>\n",
              "      <td>4</td>\n",
              "      <td>C</td>\n",
              "      <td>T</td>\n",
              "      <td>942.04</td>\n",
              "    </tr>\n",
              "    <tr>\n",
              "      <th>9</th>\n",
              "      <td>T11</td>\n",
              "      <td>209.98</td>\n",
              "      <td>610</td>\n",
              "      <td>M</td>\n",
              "      <td>3</td>\n",
              "      <td>A</td>\n",
              "      <td>T</td>\n",
              "      <td>1274.70</td>\n",
              "    </tr>\n",
              "    <tr>\n",
              "      <th>10</th>\n",
              "      <td>T3</td>\n",
              "      <td>179.32</td>\n",
              "      <td>600</td>\n",
              "      <td>M</td>\n",
              "      <td>2</td>\n",
              "      <td>A</td>\n",
              "      <td>G</td>\n",
              "      <td>847.64</td>\n",
              "    </tr>\n",
              "    <tr>\n",
              "      <th>11</th>\n",
              "      <td>T1</td>\n",
              "      <td>230.03</td>\n",
              "      <td>539</td>\n",
              "      <td>D</td>\n",
              "      <td>6</td>\n",
              "      <td>A</td>\n",
              "      <td>G</td>\n",
              "      <td>1359.76</td>\n",
              "    </tr>\n",
              "    <tr>\n",
              "      <th>12</th>\n",
              "      <td>T16</td>\n",
              "      <td>199.34</td>\n",
              "      <td>499</td>\n",
              "      <td>D</td>\n",
              "      <td>5</td>\n",
              "      <td>A</td>\n",
              "      <td>G</td>\n",
              "      <td>1424.32</td>\n",
              "    </tr>\n",
              "    <tr>\n",
              "      <th>13</th>\n",
              "      <td>T14</td>\n",
              "      <td>226.70</td>\n",
              "      <td>399</td>\n",
              "      <td>M</td>\n",
              "      <td>3</td>\n",
              "      <td>C</td>\n",
              "      <td>G</td>\n",
              "      <td>952.04</td>\n",
              "    </tr>\n",
              "    <tr>\n",
              "      <th>14</th>\n",
              "      <td>T6</td>\n",
              "      <td>195.86</td>\n",
              "      <td>374</td>\n",
              "      <td>D</td>\n",
              "      <td>3</td>\n",
              "      <td>A</td>\n",
              "      <td>T</td>\n",
              "      <td>982.39</td>\n",
              "    </tr>\n",
              "    <tr>\n",
              "      <th>15</th>\n",
              "      <td>T15</td>\n",
              "      <td>132.80</td>\n",
              "      <td>362</td>\n",
              "      <td>D</td>\n",
              "      <td>3</td>\n",
              "      <td>D</td>\n",
              "      <td>T</td>\n",
              "      <td>849.12</td>\n",
              "    </tr>\n",
              "    <tr>\n",
              "      <th>16</th>\n",
              "      <td>T7</td>\n",
              "      <td>68.00</td>\n",
              "      <td>260</td>\n",
              "      <td>M</td>\n",
              "      <td>4</td>\n",
              "      <td>B</td>\n",
              "      <td>T</td>\n",
              "      <td>970.18</td>\n",
              "    </tr>\n",
              "    <tr>\n",
              "      <th>17</th>\n",
              "      <td>T4</td>\n",
              "      <td>198.56</td>\n",
              "      <td>248</td>\n",
              "      <td>D</td>\n",
              "      <td>3</td>\n",
              "      <td>C</td>\n",
              "      <td>T</td>\n",
              "      <td>1065.43</td>\n",
              "    </tr>\n",
              "    <tr>\n",
              "      <th>18</th>\n",
              "      <td>T17</td>\n",
              "      <td>221.10</td>\n",
              "      <td>173</td>\n",
              "      <td>M</td>\n",
              "      <td>6</td>\n",
              "      <td>B</td>\n",
              "      <td>T</td>\n",
              "      <td>1627.42</td>\n",
              "    </tr>\n",
              "    <tr>\n",
              "      <th>19</th>\n",
              "      <td>T2</td>\n",
              "      <td>225.00</td>\n",
              "      <td>159</td>\n",
              "      <td>M</td>\n",
              "      <td>1</td>\n",
              "      <td>B</td>\n",
              "      <td>T</td>\n",
              "      <td>1408.10</td>\n",
              "    </tr>\n",
              "  </tbody>\n",
              "</table>\n",
              "</div>"
            ],
            "text/plain": [
              "   HouseID    Area  CityCenter Owner  Nrooms District Color    Price\n",
              "0      T20   99.41         961     M       3        D     G   817.21\n",
              "1       T9  104.35         947     D       1        C     T   436.46\n",
              "2       T8  146.18         923     M       1        A     G   683.77\n",
              "3      T12   83.00         919     M       6        B     T  1246.79\n",
              "4      T18  173.76         765     D       3        A     G   899.88\n",
              "5      T13  123.68         741     D       1        A     T   581.17\n",
              "6       T5  126.90         720     D       2        D     G   785.88\n",
              "7      T10  193.24         716     D       3        D     G  1197.97\n",
              "8      T19  192.86         612     M       4        C     T   942.04\n",
              "9      T11  209.98         610     M       3        A     T  1274.70\n",
              "10      T3  179.32         600     M       2        A     G   847.64\n",
              "11      T1  230.03         539     D       6        A     G  1359.76\n",
              "12     T16  199.34         499     D       5        A     G  1424.32\n",
              "13     T14  226.70         399     M       3        C     G   952.04\n",
              "14      T6  195.86         374     D       3        A     T   982.39\n",
              "15     T15  132.80         362     D       3        D     T   849.12\n",
              "16      T7   68.00         260     M       4        B     T   970.18\n",
              "17      T4  198.56         248     D       3        C     T  1065.43\n",
              "18     T17  221.10         173     M       6        B     T  1627.42\n",
              "19      T2  225.00         159     M       1        B     T  1408.10"
            ]
          },
          "metadata": {
            "tags": []
          },
          "execution_count": 4
        }
      ]
    },
    {
      "cell_type": "code",
      "metadata": {
        "id": "KKRMoxmADdj9",
        "colab_type": "code",
        "colab": {
          "base_uri": "https://localhost:8080/",
          "height": 297
        },
        "outputId": "3beaf1d6-6c32-48fd-c685-22f9c4f598a8"
      },
      "source": [
        "#Analisis Statistika Basic\n",
        "data.describe()"
      ],
      "execution_count": 5,
      "outputs": [
        {
          "output_type": "execute_result",
          "data": {
            "text/html": [
              "<div>\n",
              "<style scoped>\n",
              "    .dataframe tbody tr th:only-of-type {\n",
              "        vertical-align: middle;\n",
              "    }\n",
              "\n",
              "    .dataframe tbody tr th {\n",
              "        vertical-align: top;\n",
              "    }\n",
              "\n",
              "    .dataframe thead th {\n",
              "        text-align: right;\n",
              "    }\n",
              "</style>\n",
              "<table border=\"1\" class=\"dataframe\">\n",
              "  <thead>\n",
              "    <tr style=\"text-align: right;\">\n",
              "      <th></th>\n",
              "      <th>Area</th>\n",
              "      <th>CityCenter</th>\n",
              "      <th>Nrooms</th>\n",
              "      <th>Price</th>\n",
              "    </tr>\n",
              "  </thead>\n",
              "  <tbody>\n",
              "    <tr>\n",
              "      <th>count</th>\n",
              "      <td>20.000000</td>\n",
              "      <td>20.000000</td>\n",
              "      <td>20.000000</td>\n",
              "      <td>20.000000</td>\n",
              "    </tr>\n",
              "    <tr>\n",
              "      <th>mean</th>\n",
              "      <td>166.503500</td>\n",
              "      <td>576.350000</td>\n",
              "      <td>3.150000</td>\n",
              "      <td>1017.613500</td>\n",
              "    </tr>\n",
              "    <tr>\n",
              "      <th>std</th>\n",
              "      <td>51.574051</td>\n",
              "      <td>261.493338</td>\n",
              "      <td>1.631112</td>\n",
              "      <td>305.943594</td>\n",
              "    </tr>\n",
              "    <tr>\n",
              "      <th>min</th>\n",
              "      <td>68.000000</td>\n",
              "      <td>159.000000</td>\n",
              "      <td>1.000000</td>\n",
              "      <td>436.460000</td>\n",
              "    </tr>\n",
              "    <tr>\n",
              "      <th>25%</th>\n",
              "      <td>126.095000</td>\n",
              "      <td>371.000000</td>\n",
              "      <td>2.000000</td>\n",
              "      <td>840.032500</td>\n",
              "    </tr>\n",
              "    <tr>\n",
              "      <th>50%</th>\n",
              "      <td>186.090000</td>\n",
              "      <td>605.000000</td>\n",
              "      <td>3.000000</td>\n",
              "      <td>961.110000</td>\n",
              "    </tr>\n",
              "    <tr>\n",
              "      <th>75%</th>\n",
              "      <td>202.000000</td>\n",
              "      <td>747.000000</td>\n",
              "      <td>4.000000</td>\n",
              "      <td>1253.767500</td>\n",
              "    </tr>\n",
              "    <tr>\n",
              "      <th>max</th>\n",
              "      <td>230.030000</td>\n",
              "      <td>961.000000</td>\n",
              "      <td>6.000000</td>\n",
              "      <td>1627.420000</td>\n",
              "    </tr>\n",
              "  </tbody>\n",
              "</table>\n",
              "</div>"
            ],
            "text/plain": [
              "             Area  CityCenter     Nrooms        Price\n",
              "count   20.000000   20.000000  20.000000    20.000000\n",
              "mean   166.503500  576.350000   3.150000  1017.613500\n",
              "std     51.574051  261.493338   1.631112   305.943594\n",
              "min     68.000000  159.000000   1.000000   436.460000\n",
              "25%    126.095000  371.000000   2.000000   840.032500\n",
              "50%    186.090000  605.000000   3.000000   961.110000\n",
              "75%    202.000000  747.000000   4.000000  1253.767500\n",
              "max    230.030000  961.000000   6.000000  1627.420000"
            ]
          },
          "metadata": {
            "tags": []
          },
          "execution_count": 5
        }
      ]
    },
    {
      "cell_type": "markdown",
      "metadata": {
        "id": "ObDlWJqmEoee",
        "colab_type": "text"
      },
      "source": [
        "**Pertanyaan** : Dari data diatas kenapa HouseID, Owner,District dan Color tidak masuk ke deskripsi data statistika ?\n",
        "\n",
        "**Jawab ** : Sebab data-data tersebut tidak bertipe float sehingga tidak dapat dilakukan kalkulasi statistik\n",
        "\n",
        "**Solusi**     : Oleh sebab itu harus dilakukan cleansing pada data-data tersebut, contoh utk data Owner, Lakukan Cleansing pada data Owner"
      ]
    },
    {
      "cell_type": "markdown",
      "metadata": {
        "id": "n7DG4fSIFJky",
        "colab_type": "text"
      },
      "source": [
        "# **Cleansing Data**\n"
      ]
    },
    {
      "cell_type": "code",
      "metadata": {
        "id": "BlbgIscyFSo1",
        "colab_type": "code",
        "colab": {
          "base_uri": "https://localhost:8080/",
          "height": 374
        },
        "outputId": "6dad0d86-f143-4a40-f13c-c257749b614c"
      },
      "source": [
        "#Langkah 1 : Melihat Data ke berapa saja yang Ownernya Move/Death\n",
        "data[\"Owner\"]==\"M\""
      ],
      "execution_count": 9,
      "outputs": [
        {
          "output_type": "execute_result",
          "data": {
            "text/plain": [
              "0      True\n",
              "1     False\n",
              "2      True\n",
              "3      True\n",
              "4     False\n",
              "5     False\n",
              "6     False\n",
              "7     False\n",
              "8      True\n",
              "9      True\n",
              "10     True\n",
              "11    False\n",
              "12    False\n",
              "13     True\n",
              "14    False\n",
              "15    False\n",
              "16     True\n",
              "17    False\n",
              "18     True\n",
              "19     True\n",
              "Name: Owner, dtype: bool"
            ]
          },
          "metadata": {
            "tags": []
          },
          "execution_count": 9
        }
      ]
    },
    {
      "cell_type": "code",
      "metadata": {
        "id": "s2VOf93fFlus",
        "colab_type": "code",
        "colab": {
          "base_uri": "https://localhost:8080/",
          "height": 374
        },
        "outputId": "5a380f43-2bb8-4c29-f5a3-04f1204a66d8"
      },
      "source": [
        "data[\"Owner\"]==\"D\""
      ],
      "execution_count": 10,
      "outputs": [
        {
          "output_type": "execute_result",
          "data": {
            "text/plain": [
              "0     False\n",
              "1      True\n",
              "2     False\n",
              "3     False\n",
              "4      True\n",
              "5      True\n",
              "6      True\n",
              "7      True\n",
              "8     False\n",
              "9     False\n",
              "10    False\n",
              "11     True\n",
              "12     True\n",
              "13    False\n",
              "14     True\n",
              "15     True\n",
              "16    False\n",
              "17     True\n",
              "18    False\n",
              "19    False\n",
              "Name: Owner, dtype: bool"
            ]
          },
          "metadata": {
            "tags": []
          },
          "execution_count": 10
        }
      ]
    },
    {
      "cell_type": "code",
      "metadata": {
        "id": "d0Cnl__pGVYC",
        "colab_type": "code",
        "colab": {
          "base_uri": "https://localhost:8080/",
          "height": 204
        },
        "outputId": "750cdab6-16dd-4f75-e750-235285bb2015"
      },
      "source": [
        "#Langkah 2 : Tentukan Lokasi Data yang Ownernya Move/Death menggunakan variabel.loc\n",
        "data.loc[data[\"Owner\"]==\"D\",\"Owner\"]"
      ],
      "execution_count": 11,
      "outputs": [
        {
          "output_type": "execute_result",
          "data": {
            "text/plain": [
              "1     D\n",
              "4     D\n",
              "5     D\n",
              "6     D\n",
              "7     D\n",
              "11    D\n",
              "12    D\n",
              "14    D\n",
              "15    D\n",
              "17    D\n",
              "Name: Owner, dtype: object"
            ]
          },
          "metadata": {
            "tags": []
          },
          "execution_count": 11
        }
      ]
    },
    {
      "cell_type": "code",
      "metadata": {
        "id": "74iYB8AgGmff",
        "colab_type": "code",
        "colab": {}
      },
      "source": [
        "#Langkah 3 : Inisialisasi isi data Owner menggunakan tipe data integer, misal untuk Move = 1 dan Death = 2\n",
        "data.loc[data[\"Owner\"]==\"M\",\"Owner\"] = 1\n",
        "data.loc[data[\"Owner\"]==\"D\",\"Owner\"] = 2"
      ],
      "execution_count": 0,
      "outputs": []
    },
    {
      "cell_type": "code",
      "metadata": {
        "id": "DNra33OAHNdV",
        "colab_type": "code",
        "colab": {
          "base_uri": "https://localhost:8080/",
          "height": 102
        },
        "outputId": "7548bb02-0826-45e8-a245-726ce1085e19"
      },
      "source": [
        "#Tampilan sifat data\n",
        "data[\"Owner\"].describe()"
      ],
      "execution_count": 13,
      "outputs": [
        {
          "output_type": "execute_result",
          "data": {
            "text/plain": [
              "count     20\n",
              "unique     2\n",
              "top        2\n",
              "freq      10\n",
              "Name: Owner, dtype: int64"
            ]
          },
          "metadata": {
            "tags": []
          },
          "execution_count": 13
        }
      ]
    },
    {
      "cell_type": "code",
      "metadata": {
        "id": "LpBHViHRHWrs",
        "colab_type": "code",
        "colab": {}
      },
      "source": [
        "#Dari hasil deskripsi data Owner diatas datatype masih integer belum dapat dilakukan kalkulasi statistik sehingga untuk dapat dilakukan kalkulasi statistik diperlukan merubah data ke tipe data float \n",
        "data[\"Owner\"] = data[\"Owner\"].astype(float)"
      ],
      "execution_count": 0,
      "outputs": []
    },
    {
      "cell_type": "code",
      "metadata": {
        "id": "Gacqit7LHwfr",
        "colab_type": "code",
        "colab": {
          "base_uri": "https://localhost:8080/",
          "height": 170
        },
        "outputId": "5a796b50-0dd1-4b28-d12d-d037aafe24fd"
      },
      "source": [
        "data[\"Owner\"].describe()"
      ],
      "execution_count": 15,
      "outputs": [
        {
          "output_type": "execute_result",
          "data": {
            "text/plain": [
              "count    20.000000\n",
              "mean      1.500000\n",
              "std       0.512989\n",
              "min       1.000000\n",
              "25%       1.000000\n",
              "50%       1.500000\n",
              "75%       2.000000\n",
              "max       2.000000\n",
              "Name: Owner, dtype: float64"
            ]
          },
          "metadata": {
            "tags": []
          },
          "execution_count": 15
        }
      ]
    },
    {
      "cell_type": "code",
      "metadata": {
        "id": "X-4dRi3sH8Vb",
        "colab_type": "code",
        "colab": {
          "base_uri": "https://localhost:8080/",
          "height": 297
        },
        "outputId": "01a28da0-f1f8-49a3-c07c-058f2f59bff7"
      },
      "source": [
        "#Data Owner sudah dapat dilakukan kalkulasi dasar statistika\n",
        "#Untuk itu Tampilkan deskripsi seluruh data yang mampu\n",
        "\n",
        "data.describe()"
      ],
      "execution_count": 16,
      "outputs": [
        {
          "output_type": "execute_result",
          "data": {
            "text/html": [
              "<div>\n",
              "<style scoped>\n",
              "    .dataframe tbody tr th:only-of-type {\n",
              "        vertical-align: middle;\n",
              "    }\n",
              "\n",
              "    .dataframe tbody tr th {\n",
              "        vertical-align: top;\n",
              "    }\n",
              "\n",
              "    .dataframe thead th {\n",
              "        text-align: right;\n",
              "    }\n",
              "</style>\n",
              "<table border=\"1\" class=\"dataframe\">\n",
              "  <thead>\n",
              "    <tr style=\"text-align: right;\">\n",
              "      <th></th>\n",
              "      <th>Area</th>\n",
              "      <th>CityCenter</th>\n",
              "      <th>Owner</th>\n",
              "      <th>Nrooms</th>\n",
              "      <th>Price</th>\n",
              "    </tr>\n",
              "  </thead>\n",
              "  <tbody>\n",
              "    <tr>\n",
              "      <th>count</th>\n",
              "      <td>20.000000</td>\n",
              "      <td>20.000000</td>\n",
              "      <td>20.000000</td>\n",
              "      <td>20.000000</td>\n",
              "      <td>20.000000</td>\n",
              "    </tr>\n",
              "    <tr>\n",
              "      <th>mean</th>\n",
              "      <td>166.503500</td>\n",
              "      <td>576.350000</td>\n",
              "      <td>1.500000</td>\n",
              "      <td>3.150000</td>\n",
              "      <td>1017.613500</td>\n",
              "    </tr>\n",
              "    <tr>\n",
              "      <th>std</th>\n",
              "      <td>51.574051</td>\n",
              "      <td>261.493338</td>\n",
              "      <td>0.512989</td>\n",
              "      <td>1.631112</td>\n",
              "      <td>305.943594</td>\n",
              "    </tr>\n",
              "    <tr>\n",
              "      <th>min</th>\n",
              "      <td>68.000000</td>\n",
              "      <td>159.000000</td>\n",
              "      <td>1.000000</td>\n",
              "      <td>1.000000</td>\n",
              "      <td>436.460000</td>\n",
              "    </tr>\n",
              "    <tr>\n",
              "      <th>25%</th>\n",
              "      <td>126.095000</td>\n",
              "      <td>371.000000</td>\n",
              "      <td>1.000000</td>\n",
              "      <td>2.000000</td>\n",
              "      <td>840.032500</td>\n",
              "    </tr>\n",
              "    <tr>\n",
              "      <th>50%</th>\n",
              "      <td>186.090000</td>\n",
              "      <td>605.000000</td>\n",
              "      <td>1.500000</td>\n",
              "      <td>3.000000</td>\n",
              "      <td>961.110000</td>\n",
              "    </tr>\n",
              "    <tr>\n",
              "      <th>75%</th>\n",
              "      <td>202.000000</td>\n",
              "      <td>747.000000</td>\n",
              "      <td>2.000000</td>\n",
              "      <td>4.000000</td>\n",
              "      <td>1253.767500</td>\n",
              "    </tr>\n",
              "    <tr>\n",
              "      <th>max</th>\n",
              "      <td>230.030000</td>\n",
              "      <td>961.000000</td>\n",
              "      <td>2.000000</td>\n",
              "      <td>6.000000</td>\n",
              "      <td>1627.420000</td>\n",
              "    </tr>\n",
              "  </tbody>\n",
              "</table>\n",
              "</div>"
            ],
            "text/plain": [
              "             Area  CityCenter      Owner     Nrooms        Price\n",
              "count   20.000000   20.000000  20.000000  20.000000    20.000000\n",
              "mean   166.503500  576.350000   1.500000   3.150000  1017.613500\n",
              "std     51.574051  261.493338   0.512989   1.631112   305.943594\n",
              "min     68.000000  159.000000   1.000000   1.000000   436.460000\n",
              "25%    126.095000  371.000000   1.000000   2.000000   840.032500\n",
              "50%    186.090000  605.000000   1.500000   3.000000   961.110000\n",
              "75%    202.000000  747.000000   2.000000   4.000000  1253.767500\n",
              "max    230.030000  961.000000   2.000000   6.000000  1627.420000"
            ]
          },
          "metadata": {
            "tags": []
          },
          "execution_count": 16
        }
      ]
    },
    {
      "cell_type": "markdown",
      "metadata": {
        "id": "fAUmlLzJJGfZ",
        "colab_type": "text"
      },
      "source": [
        "# Visualisasi Data menggunakan Plot"
      ]
    },
    {
      "cell_type": "code",
      "metadata": {
        "id": "-RwJUdqfJKuC",
        "colab_type": "code",
        "colab": {
          "base_uri": "https://localhost:8080/",
          "height": 669
        },
        "outputId": "877f1451-4640-48e5-cc77-2a50b209f597"
      },
      "source": [
        "data"
      ],
      "execution_count": 17,
      "outputs": [
        {
          "output_type": "execute_result",
          "data": {
            "text/html": [
              "<div>\n",
              "<style scoped>\n",
              "    .dataframe tbody tr th:only-of-type {\n",
              "        vertical-align: middle;\n",
              "    }\n",
              "\n",
              "    .dataframe tbody tr th {\n",
              "        vertical-align: top;\n",
              "    }\n",
              "\n",
              "    .dataframe thead th {\n",
              "        text-align: right;\n",
              "    }\n",
              "</style>\n",
              "<table border=\"1\" class=\"dataframe\">\n",
              "  <thead>\n",
              "    <tr style=\"text-align: right;\">\n",
              "      <th></th>\n",
              "      <th>HouseID</th>\n",
              "      <th>Area</th>\n",
              "      <th>CityCenter</th>\n",
              "      <th>Owner</th>\n",
              "      <th>Nrooms</th>\n",
              "      <th>District</th>\n",
              "      <th>Color</th>\n",
              "      <th>Price</th>\n",
              "    </tr>\n",
              "  </thead>\n",
              "  <tbody>\n",
              "    <tr>\n",
              "      <th>0</th>\n",
              "      <td>T20</td>\n",
              "      <td>99.41</td>\n",
              "      <td>961</td>\n",
              "      <td>1.0</td>\n",
              "      <td>3</td>\n",
              "      <td>D</td>\n",
              "      <td>G</td>\n",
              "      <td>817.21</td>\n",
              "    </tr>\n",
              "    <tr>\n",
              "      <th>1</th>\n",
              "      <td>T9</td>\n",
              "      <td>104.35</td>\n",
              "      <td>947</td>\n",
              "      <td>2.0</td>\n",
              "      <td>1</td>\n",
              "      <td>C</td>\n",
              "      <td>T</td>\n",
              "      <td>436.46</td>\n",
              "    </tr>\n",
              "    <tr>\n",
              "      <th>2</th>\n",
              "      <td>T8</td>\n",
              "      <td>146.18</td>\n",
              "      <td>923</td>\n",
              "      <td>1.0</td>\n",
              "      <td>1</td>\n",
              "      <td>A</td>\n",
              "      <td>G</td>\n",
              "      <td>683.77</td>\n",
              "    </tr>\n",
              "    <tr>\n",
              "      <th>3</th>\n",
              "      <td>T12</td>\n",
              "      <td>83.00</td>\n",
              "      <td>919</td>\n",
              "      <td>1.0</td>\n",
              "      <td>6</td>\n",
              "      <td>B</td>\n",
              "      <td>T</td>\n",
              "      <td>1246.79</td>\n",
              "    </tr>\n",
              "    <tr>\n",
              "      <th>4</th>\n",
              "      <td>T18</td>\n",
              "      <td>173.76</td>\n",
              "      <td>765</td>\n",
              "      <td>2.0</td>\n",
              "      <td>3</td>\n",
              "      <td>A</td>\n",
              "      <td>G</td>\n",
              "      <td>899.88</td>\n",
              "    </tr>\n",
              "    <tr>\n",
              "      <th>5</th>\n",
              "      <td>T13</td>\n",
              "      <td>123.68</td>\n",
              "      <td>741</td>\n",
              "      <td>2.0</td>\n",
              "      <td>1</td>\n",
              "      <td>A</td>\n",
              "      <td>T</td>\n",
              "      <td>581.17</td>\n",
              "    </tr>\n",
              "    <tr>\n",
              "      <th>6</th>\n",
              "      <td>T5</td>\n",
              "      <td>126.90</td>\n",
              "      <td>720</td>\n",
              "      <td>2.0</td>\n",
              "      <td>2</td>\n",
              "      <td>D</td>\n",
              "      <td>G</td>\n",
              "      <td>785.88</td>\n",
              "    </tr>\n",
              "    <tr>\n",
              "      <th>7</th>\n",
              "      <td>T10</td>\n",
              "      <td>193.24</td>\n",
              "      <td>716</td>\n",
              "      <td>2.0</td>\n",
              "      <td>3</td>\n",
              "      <td>D</td>\n",
              "      <td>G</td>\n",
              "      <td>1197.97</td>\n",
              "    </tr>\n",
              "    <tr>\n",
              "      <th>8</th>\n",
              "      <td>T19</td>\n",
              "      <td>192.86</td>\n",
              "      <td>612</td>\n",
              "      <td>1.0</td>\n",
              "      <td>4</td>\n",
              "      <td>C</td>\n",
              "      <td>T</td>\n",
              "      <td>942.04</td>\n",
              "    </tr>\n",
              "    <tr>\n",
              "      <th>9</th>\n",
              "      <td>T11</td>\n",
              "      <td>209.98</td>\n",
              "      <td>610</td>\n",
              "      <td>1.0</td>\n",
              "      <td>3</td>\n",
              "      <td>A</td>\n",
              "      <td>T</td>\n",
              "      <td>1274.70</td>\n",
              "    </tr>\n",
              "    <tr>\n",
              "      <th>10</th>\n",
              "      <td>T3</td>\n",
              "      <td>179.32</td>\n",
              "      <td>600</td>\n",
              "      <td>1.0</td>\n",
              "      <td>2</td>\n",
              "      <td>A</td>\n",
              "      <td>G</td>\n",
              "      <td>847.64</td>\n",
              "    </tr>\n",
              "    <tr>\n",
              "      <th>11</th>\n",
              "      <td>T1</td>\n",
              "      <td>230.03</td>\n",
              "      <td>539</td>\n",
              "      <td>2.0</td>\n",
              "      <td>6</td>\n",
              "      <td>A</td>\n",
              "      <td>G</td>\n",
              "      <td>1359.76</td>\n",
              "    </tr>\n",
              "    <tr>\n",
              "      <th>12</th>\n",
              "      <td>T16</td>\n",
              "      <td>199.34</td>\n",
              "      <td>499</td>\n",
              "      <td>2.0</td>\n",
              "      <td>5</td>\n",
              "      <td>A</td>\n",
              "      <td>G</td>\n",
              "      <td>1424.32</td>\n",
              "    </tr>\n",
              "    <tr>\n",
              "      <th>13</th>\n",
              "      <td>T14</td>\n",
              "      <td>226.70</td>\n",
              "      <td>399</td>\n",
              "      <td>1.0</td>\n",
              "      <td>3</td>\n",
              "      <td>C</td>\n",
              "      <td>G</td>\n",
              "      <td>952.04</td>\n",
              "    </tr>\n",
              "    <tr>\n",
              "      <th>14</th>\n",
              "      <td>T6</td>\n",
              "      <td>195.86</td>\n",
              "      <td>374</td>\n",
              "      <td>2.0</td>\n",
              "      <td>3</td>\n",
              "      <td>A</td>\n",
              "      <td>T</td>\n",
              "      <td>982.39</td>\n",
              "    </tr>\n",
              "    <tr>\n",
              "      <th>15</th>\n",
              "      <td>T15</td>\n",
              "      <td>132.80</td>\n",
              "      <td>362</td>\n",
              "      <td>2.0</td>\n",
              "      <td>3</td>\n",
              "      <td>D</td>\n",
              "      <td>T</td>\n",
              "      <td>849.12</td>\n",
              "    </tr>\n",
              "    <tr>\n",
              "      <th>16</th>\n",
              "      <td>T7</td>\n",
              "      <td>68.00</td>\n",
              "      <td>260</td>\n",
              "      <td>1.0</td>\n",
              "      <td>4</td>\n",
              "      <td>B</td>\n",
              "      <td>T</td>\n",
              "      <td>970.18</td>\n",
              "    </tr>\n",
              "    <tr>\n",
              "      <th>17</th>\n",
              "      <td>T4</td>\n",
              "      <td>198.56</td>\n",
              "      <td>248</td>\n",
              "      <td>2.0</td>\n",
              "      <td>3</td>\n",
              "      <td>C</td>\n",
              "      <td>T</td>\n",
              "      <td>1065.43</td>\n",
              "    </tr>\n",
              "    <tr>\n",
              "      <th>18</th>\n",
              "      <td>T17</td>\n",
              "      <td>221.10</td>\n",
              "      <td>173</td>\n",
              "      <td>1.0</td>\n",
              "      <td>6</td>\n",
              "      <td>B</td>\n",
              "      <td>T</td>\n",
              "      <td>1627.42</td>\n",
              "    </tr>\n",
              "    <tr>\n",
              "      <th>19</th>\n",
              "      <td>T2</td>\n",
              "      <td>225.00</td>\n",
              "      <td>159</td>\n",
              "      <td>1.0</td>\n",
              "      <td>1</td>\n",
              "      <td>B</td>\n",
              "      <td>T</td>\n",
              "      <td>1408.10</td>\n",
              "    </tr>\n",
              "  </tbody>\n",
              "</table>\n",
              "</div>"
            ],
            "text/plain": [
              "   HouseID    Area  CityCenter  Owner  Nrooms District Color    Price\n",
              "0      T20   99.41         961    1.0       3        D     G   817.21\n",
              "1       T9  104.35         947    2.0       1        C     T   436.46\n",
              "2       T8  146.18         923    1.0       1        A     G   683.77\n",
              "3      T12   83.00         919    1.0       6        B     T  1246.79\n",
              "4      T18  173.76         765    2.0       3        A     G   899.88\n",
              "5      T13  123.68         741    2.0       1        A     T   581.17\n",
              "6       T5  126.90         720    2.0       2        D     G   785.88\n",
              "7      T10  193.24         716    2.0       3        D     G  1197.97\n",
              "8      T19  192.86         612    1.0       4        C     T   942.04\n",
              "9      T11  209.98         610    1.0       3        A     T  1274.70\n",
              "10      T3  179.32         600    1.0       2        A     G   847.64\n",
              "11      T1  230.03         539    2.0       6        A     G  1359.76\n",
              "12     T16  199.34         499    2.0       5        A     G  1424.32\n",
              "13     T14  226.70         399    1.0       3        C     G   952.04\n",
              "14      T6  195.86         374    2.0       3        A     T   982.39\n",
              "15     T15  132.80         362    2.0       3        D     T   849.12\n",
              "16      T7   68.00         260    1.0       4        B     T   970.18\n",
              "17      T4  198.56         248    2.0       3        C     T  1065.43\n",
              "18     T17  221.10         173    1.0       6        B     T  1627.42\n",
              "19      T2  225.00         159    1.0       1        B     T  1408.10"
            ]
          },
          "metadata": {
            "tags": []
          },
          "execution_count": 17
        }
      ]
    },
    {
      "cell_type": "code",
      "metadata": {
        "id": "CqhdWNaXJM24",
        "colab_type": "code",
        "colab": {
          "base_uri": "https://localhost:8080/",
          "height": 265
        },
        "outputId": "445178e8-6f06-4df8-ddff-bee9b2cb349e"
      },
      "source": [
        "#Untuk menampilkan korelasi 2 dimensi antar data menggunakan Plot\n",
        "#Korelasi antara data Price dengan Area \n",
        "\n",
        "plt.plot(data[\"Price\"], data[\"Area\"], \"o\")\n",
        "plt.show()\n"
      ],
      "execution_count": 20,
      "outputs": [
        {
          "output_type": "display_data",
          "data": {
            "image/png": "[encoded data removed]",
            "text/plain": [
              "<Figure size 432x288 with 1 Axes>"
            ]
          },
          "metadata": {
            "tags": [],
            "needs_background": "light"
          }
        }
      ]
    }
  ]
}